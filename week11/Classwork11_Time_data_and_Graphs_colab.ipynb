{
  "nbformat": 4,
  "nbformat_minor": 0,
  "metadata": {
    "kernelspec": {
      "display_name": "Python 3",
      "language": "python",
      "name": "python3"
    },
    "language_info": {
      "codemirror_mode": {
        "name": "ipython",
        "version": 3
      },
      "file_extension": ".py",
      "mimetype": "text/x-python",
      "name": "python",
      "nbconvert_exporter": "python",
      "pygments_lexer": "ipython3",
      "version": "3.7.2"
    },
    "colab": {
      "name": "Classwork9_Time_data_and_Graphs.ipynb",
      "provenance": []
    }
  },
  "cells": [
    {
      "cell_type": "markdown",
      "metadata": {
        "id": "k5ad05U9kFWP",
        "colab_type": "text"
      },
      "source": [
        "#  Δουλεύοντας με τον χρόνο στα `pandas`\n",
        "\n",
        "Πάμε να δούμε κάποια δεδομένα για πωλήσεις σπιτιών. Τα δεδομένα είναι κάπως περίεργα, οπότε χρειάζονται καθάρισμα."
      ]
    },
    {
      "cell_type": "code",
      "metadata": {
        "id": "UuK-DxDnkFWg",
        "colab_type": "code",
        "colab": {}
      },
      "source": [
        "import pandas as pd\n",
        "%matplotlib inline\n",
        "df = pd.read_csv(\"https://raw.githubusercontent.com/datajour-gr/Data_journalism/master/week9/home-sales.csv\")"
      ],
      "execution_count": 0,
      "outputs": []
    },
    {
      "cell_type": "markdown",
      "metadata": {
        "id": "jnNrjDKSkFWu",
        "colab_type": "text"
      },
      "source": [
        "## Θα φτιάξουμε μια στήλη για το datetime "
      ]
    },
    {
      "cell_type": "code",
      "metadata": {
        "scrolled": true,
        "id": "UINowRUQkFWw",
        "colab_type": "code",
        "colab": {
          "base_uri": "https://localhost:8080/",
          "height": 1000
        },
        "outputId": "d597a11a-0fd9-4e6c-ad0c-0b29c701bb73"
      },
      "source": [
        "df"
      ],
      "execution_count": 2,
      "outputs": [
        {
          "output_type": "execute_result",
          "data": {
            "text/html": [
              "<div>\n",
              "<style scoped>\n",
              "    .dataframe tbody tr th:only-of-type {\n",
              "        vertical-align: middle;\n",
              "    }\n",
              "\n",
              "    .dataframe tbody tr th {\n",
              "        vertical-align: top;\n",
              "    }\n",
              "\n",
              "    .dataframe thead th {\n",
              "        text-align: right;\n",
              "    }\n",
              "</style>\n",
              "<table border=\"1\" class=\"dataframe\">\n",
              "  <thead>\n",
              "    <tr style=\"text-align: right;\">\n",
              "      <th></th>\n",
              "      <th>is_adj</th>\n",
              "      <th>val</th>\n",
              "      <th>cat_code</th>\n",
              "      <th>cat_desc</th>\n",
              "      <th>cat_indent</th>\n",
              "      <th>dt_code</th>\n",
              "      <th>dt_desc</th>\n",
              "      <th>dt_unit</th>\n",
              "      <th>geo_code</th>\n",
              "      <th>geo_desc</th>\n",
              "      <th>per_name</th>\n",
              "    </tr>\n",
              "  </thead>\n",
              "  <tbody>\n",
              "    <tr>\n",
              "      <th>0</th>\n",
              "      <td>0</td>\n",
              "      <td>42.0</td>\n",
              "      <td>SOLD</td>\n",
              "      <td>New Single-family Houses Sold</td>\n",
              "      <td>0</td>\n",
              "      <td>TOTAL</td>\n",
              "      <td>All Houses</td>\n",
              "      <td>K</td>\n",
              "      <td>US</td>\n",
              "      <td>United States</td>\n",
              "      <td>1963-01-01</td>\n",
              "    </tr>\n",
              "    <tr>\n",
              "      <th>1</th>\n",
              "      <td>0</td>\n",
              "      <td>35.0</td>\n",
              "      <td>SOLD</td>\n",
              "      <td>New Single-family Houses Sold</td>\n",
              "      <td>0</td>\n",
              "      <td>TOTAL</td>\n",
              "      <td>All Houses</td>\n",
              "      <td>K</td>\n",
              "      <td>US</td>\n",
              "      <td>United States</td>\n",
              "      <td>1963-02-01</td>\n",
              "    </tr>\n",
              "    <tr>\n",
              "      <th>2</th>\n",
              "      <td>0</td>\n",
              "      <td>44.0</td>\n",
              "      <td>SOLD</td>\n",
              "      <td>New Single-family Houses Sold</td>\n",
              "      <td>0</td>\n",
              "      <td>TOTAL</td>\n",
              "      <td>All Houses</td>\n",
              "      <td>K</td>\n",
              "      <td>US</td>\n",
              "      <td>United States</td>\n",
              "      <td>1963-03-01</td>\n",
              "    </tr>\n",
              "    <tr>\n",
              "      <th>3</th>\n",
              "      <td>0</td>\n",
              "      <td>52.0</td>\n",
              "      <td>SOLD</td>\n",
              "      <td>New Single-family Houses Sold</td>\n",
              "      <td>0</td>\n",
              "      <td>TOTAL</td>\n",
              "      <td>All Houses</td>\n",
              "      <td>K</td>\n",
              "      <td>US</td>\n",
              "      <td>United States</td>\n",
              "      <td>1963-04-01</td>\n",
              "    </tr>\n",
              "    <tr>\n",
              "      <th>4</th>\n",
              "      <td>0</td>\n",
              "      <td>58.0</td>\n",
              "      <td>SOLD</td>\n",
              "      <td>New Single-family Houses Sold</td>\n",
              "      <td>0</td>\n",
              "      <td>TOTAL</td>\n",
              "      <td>All Houses</td>\n",
              "      <td>K</td>\n",
              "      <td>US</td>\n",
              "      <td>United States</td>\n",
              "      <td>1963-05-01</td>\n",
              "    </tr>\n",
              "    <tr>\n",
              "      <th>...</th>\n",
              "      <td>...</td>\n",
              "      <td>...</td>\n",
              "      <td>...</td>\n",
              "      <td>...</td>\n",
              "      <td>...</td>\n",
              "      <td>...</td>\n",
              "      <td>...</td>\n",
              "      <td>...</td>\n",
              "      <td>...</td>\n",
              "      <td>...</td>\n",
              "      <td>...</td>\n",
              "    </tr>\n",
              "    <tr>\n",
              "      <th>636</th>\n",
              "      <td>0</td>\n",
              "      <td>39.0</td>\n",
              "      <td>SOLD</td>\n",
              "      <td>New Single-family Houses Sold</td>\n",
              "      <td>0</td>\n",
              "      <td>TOTAL</td>\n",
              "      <td>All Houses</td>\n",
              "      <td>K</td>\n",
              "      <td>US</td>\n",
              "      <td>United States</td>\n",
              "      <td>2016-01-01</td>\n",
              "    </tr>\n",
              "    <tr>\n",
              "      <th>637</th>\n",
              "      <td>0</td>\n",
              "      <td>45.0</td>\n",
              "      <td>SOLD</td>\n",
              "      <td>New Single-family Houses Sold</td>\n",
              "      <td>0</td>\n",
              "      <td>TOTAL</td>\n",
              "      <td>All Houses</td>\n",
              "      <td>K</td>\n",
              "      <td>US</td>\n",
              "      <td>United States</td>\n",
              "      <td>2016-02-01</td>\n",
              "    </tr>\n",
              "    <tr>\n",
              "      <th>638</th>\n",
              "      <td>0</td>\n",
              "      <td>49.0</td>\n",
              "      <td>SOLD</td>\n",
              "      <td>New Single-family Houses Sold</td>\n",
              "      <td>0</td>\n",
              "      <td>TOTAL</td>\n",
              "      <td>All Houses</td>\n",
              "      <td>K</td>\n",
              "      <td>US</td>\n",
              "      <td>United States</td>\n",
              "      <td>2016-03-01</td>\n",
              "    </tr>\n",
              "    <tr>\n",
              "      <th>639</th>\n",
              "      <td>0</td>\n",
              "      <td>57.0</td>\n",
              "      <td>SOLD</td>\n",
              "      <td>New Single-family Houses Sold</td>\n",
              "      <td>0</td>\n",
              "      <td>TOTAL</td>\n",
              "      <td>All Houses</td>\n",
              "      <td>K</td>\n",
              "      <td>US</td>\n",
              "      <td>United States</td>\n",
              "      <td>2016-04-01</td>\n",
              "    </tr>\n",
              "    <tr>\n",
              "      <th>640</th>\n",
              "      <td>0</td>\n",
              "      <td>51.0</td>\n",
              "      <td>SOLD</td>\n",
              "      <td>New Single-family Houses Sold</td>\n",
              "      <td>0</td>\n",
              "      <td>TOTAL</td>\n",
              "      <td>All Houses</td>\n",
              "      <td>K</td>\n",
              "      <td>US</td>\n",
              "      <td>United States</td>\n",
              "      <td>2016-05-01</td>\n",
              "    </tr>\n",
              "  </tbody>\n",
              "</table>\n",
              "<p>641 rows × 11 columns</p>\n",
              "</div>"
            ],
            "text/plain": [
              "     is_adj   val cat_code  ... geo_code       geo_desc    per_name\n",
              "0         0  42.0     SOLD  ...       US  United States  1963-01-01\n",
              "1         0  35.0     SOLD  ...       US  United States  1963-02-01\n",
              "2         0  44.0     SOLD  ...       US  United States  1963-03-01\n",
              "3         0  52.0     SOLD  ...       US  United States  1963-04-01\n",
              "4         0  58.0     SOLD  ...       US  United States  1963-05-01\n",
              "..      ...   ...      ...  ...      ...            ...         ...\n",
              "636       0  39.0     SOLD  ...       US  United States  2016-01-01\n",
              "637       0  45.0     SOLD  ...       US  United States  2016-02-01\n",
              "638       0  49.0     SOLD  ...       US  United States  2016-03-01\n",
              "639       0  57.0     SOLD  ...       US  United States  2016-04-01\n",
              "640       0  51.0     SOLD  ...       US  United States  2016-05-01\n",
              "\n",
              "[641 rows x 11 columns]"
            ]
          },
          "metadata": {
            "tags": []
          },
          "execution_count": 2
        }
      ]
    },
    {
      "cell_type": "markdown",
      "metadata": {
        "id": "L_uuw509kFW7",
        "colab_type": "text"
      },
      "source": [
        "### Ιδανικά η ημερομηνία δεν πρέπει να είναι object, αλλά ημερομηνία"
      ]
    },
    {
      "cell_type": "code",
      "metadata": {
        "id": "PmhmIQEnkFW9",
        "colab_type": "code",
        "colab": {
          "base_uri": "https://localhost:8080/",
          "height": 241
        },
        "outputId": "f821be71-d17f-4766-9ca2-c47c30d18277"
      },
      "source": [
        "df.dtypes"
      ],
      "execution_count": 3,
      "outputs": [
        {
          "output_type": "execute_result",
          "data": {
            "text/plain": [
              "is_adj          int64\n",
              "val           float64\n",
              "cat_code       object\n",
              "cat_desc       object\n",
              "cat_indent      int64\n",
              "dt_code        object\n",
              "dt_desc        object\n",
              "dt_unit        object\n",
              "geo_code       object\n",
              "geo_desc       object\n",
              "per_name       object\n",
              "dtype: object"
            ]
          },
          "metadata": {
            "tags": []
          },
          "execution_count": 3
        }
      ]
    },
    {
      "cell_type": "markdown",
      "metadata": {
        "id": "igPP-xztkFXG",
        "colab_type": "text"
      },
      "source": [
        "## Περισσότερες λεπτομέρειες για διαφορετικά format http://strftime.org/ \n",
        "\n",
        "http://pandas.pydata.org/pandas-docs/stable/user_guide/timeseries.html"
      ]
    },
    {
      "cell_type": "code",
      "metadata": {
        "id": "VYimi06bkFXI",
        "colab_type": "code",
        "colab": {
          "base_uri": "https://localhost:8080/",
          "height": 129
        },
        "outputId": "64eb4b3f-1356-439b-80b6-bdbe17ca7c3d"
      },
      "source": [
        "pd.to_datetime(df.per_name).head()"
      ],
      "execution_count": 4,
      "outputs": [
        {
          "output_type": "execute_result",
          "data": {
            "text/plain": [
              "0   1963-01-01\n",
              "1   1963-02-01\n",
              "2   1963-03-01\n",
              "3   1963-04-01\n",
              "4   1963-05-01\n",
              "Name: per_name, dtype: datetime64[ns]"
            ]
          },
          "metadata": {
            "tags": []
          },
          "execution_count": 4
        }
      ]
    },
    {
      "cell_type": "markdown",
      "metadata": {
        "id": "_WeHHr_dkFXR",
        "colab_type": "text"
      },
      "source": [
        "### Με το %%time βλέπουμε πόση ώρα κάνει να εκτελεστεί μια εντολή"
      ]
    },
    {
      "cell_type": "code",
      "metadata": {
        "id": "kZvgrCoBkFXS",
        "colab_type": "code",
        "colab": {
          "base_uri": "https://localhost:8080/",
          "height": 167
        },
        "outputId": "0a21df98-d8f3-4d3f-f124-243886f61622"
      },
      "source": [
        "%%time\n",
        "pd.to_datetime(df.per_name).head() "
      ],
      "execution_count": 5,
      "outputs": [
        {
          "output_type": "stream",
          "text": [
            "CPU times: user 1.56 ms, sys: 64 µs, total: 1.62 ms\n",
            "Wall time: 1.63 ms\n"
          ],
          "name": "stdout"
        },
        {
          "output_type": "execute_result",
          "data": {
            "text/plain": [
              "0   1963-01-01\n",
              "1   1963-02-01\n",
              "2   1963-03-01\n",
              "3   1963-04-01\n",
              "4   1963-05-01\n",
              "Name: per_name, dtype: datetime64[ns]"
            ]
          },
          "metadata": {
            "tags": []
          },
          "execution_count": 5
        }
      ]
    },
    {
      "cell_type": "code",
      "metadata": {
        "id": "FiipW8dVkFXa",
        "colab_type": "code",
        "colab": {
          "base_uri": "https://localhost:8080/",
          "height": 167
        },
        "outputId": "fcfa00bf-d429-46e3-d6b3-0af0c6e0bfeb"
      },
      "source": [
        "%%time\n",
        "pd.to_datetime(df.per_name, format='%Y-%m-%d').head()"
      ],
      "execution_count": 6,
      "outputs": [
        {
          "output_type": "stream",
          "text": [
            "CPU times: user 1.43 ms, sys: 680 µs, total: 2.11 ms\n",
            "Wall time: 2.02 ms\n"
          ],
          "name": "stdout"
        },
        {
          "output_type": "execute_result",
          "data": {
            "text/plain": [
              "0   1963-01-01\n",
              "1   1963-02-01\n",
              "2   1963-03-01\n",
              "3   1963-04-01\n",
              "4   1963-05-01\n",
              "Name: per_name, dtype: datetime64[ns]"
            ]
          },
          "metadata": {
            "tags": []
          },
          "execution_count": 6
        }
      ]
    },
    {
      "cell_type": "code",
      "metadata": {
        "id": "SY1NmDbakFXh",
        "colab_type": "code",
        "colab": {
          "base_uri": "https://localhost:8080/",
          "height": 241
        },
        "outputId": "03907626-d432-4e95-faa9-041c29af7ecc"
      },
      "source": [
        "df['date'] = pd.to_datetime(df.per_name, format='%Y-%m-%d')\n",
        "df['date']"
      ],
      "execution_count": 7,
      "outputs": [
        {
          "output_type": "execute_result",
          "data": {
            "text/plain": [
              "0     1963-01-01\n",
              "1     1963-02-01\n",
              "2     1963-03-01\n",
              "3     1963-04-01\n",
              "4     1963-05-01\n",
              "         ...    \n",
              "636   2016-01-01\n",
              "637   2016-02-01\n",
              "638   2016-03-01\n",
              "639   2016-04-01\n",
              "640   2016-05-01\n",
              "Name: date, Length: 641, dtype: datetime64[ns]"
            ]
          },
          "metadata": {
            "tags": []
          },
          "execution_count": 7
        }
      ]
    },
    {
      "cell_type": "code",
      "metadata": {
        "id": "jq_WRbjvkFXo",
        "colab_type": "code",
        "colab": {
          "base_uri": "https://localhost:8080/",
          "height": 260
        },
        "outputId": "94049ec2-4a33-4b64-8436-82212fb1ba39"
      },
      "source": [
        "df.dtypes"
      ],
      "execution_count": 8,
      "outputs": [
        {
          "output_type": "execute_result",
          "data": {
            "text/plain": [
              "is_adj                 int64\n",
              "val                  float64\n",
              "cat_code              object\n",
              "cat_desc              object\n",
              "cat_indent             int64\n",
              "dt_code               object\n",
              "dt_desc               object\n",
              "dt_unit               object\n",
              "geo_code              object\n",
              "geo_desc              object\n",
              "per_name              object\n",
              "date          datetime64[ns]\n",
              "dtype: object"
            ]
          },
          "metadata": {
            "tags": []
          },
          "execution_count": 8
        }
      ]
    },
    {
      "cell_type": "markdown",
      "metadata": {
        "id": "Kl5cteuZkFXw",
        "colab_type": "text"
      },
      "source": [
        "## Αλλάζουμε το ευρετήριο/index να είναι το datetime"
      ]
    },
    {
      "cell_type": "markdown",
      "metadata": {
        "id": "ZsyLe0AfkFXx",
        "colab_type": "text"
      },
      "source": [
        "Η πρώτη στήλη με το `0`, `1`, `2`, `3`, `4`μας είναι άχρηστη και εφόσον έχουμε την ημερομηνία θα βάλουμε αυτήν εκεί με την εντολή **.set_index** "
      ]
    },
    {
      "cell_type": "code",
      "metadata": {
        "id": "GWv53BZgkFX0",
        "colab_type": "code",
        "colab": {}
      },
      "source": [
        "df.set_index('date' , inplace=True)"
      ],
      "execution_count": 0,
      "outputs": []
    },
    {
      "cell_type": "markdown",
      "metadata": {
        "collapsed": true,
        "id": "5jYnB0EAkFX6",
        "colab_type": "text"
      },
      "source": [
        "Σιγουρευτείτε ότι γράψατε `inplace=True` γιατί αλλιώς δεν θα σωθεί η αλλαγή, στην περίπτωσή μας το νέο index!"
      ]
    },
    {
      "cell_type": "markdown",
      "metadata": {
        "id": "wLJEPqevkFX8",
        "colab_type": "text"
      },
      "source": [
        "## Tώρα που το index είναι η ημερομηνία μπορούμε να διαλέξουμε γραμμές με βάση την ημερομηνία πολύ εύκολα\n"
      ]
    },
    {
      "cell_type": "markdown",
      "metadata": {
        "id": "BxrZWx8pkFX-",
        "colab_type": "text"
      },
      "source": [
        "## Αλλά πριν από αυτό πάμε να θυμηθούμε τα list slices \n"
      ]
    },
    {
      "cell_type": "code",
      "metadata": {
        "id": "z5T3HLwHkFX_",
        "colab_type": "code",
        "colab": {}
      },
      "source": [
        "# λίστα από φρούτα\n",
        "ranked_fruits = ('banana', 'orange', 'apple', 'blueberries', 'strawberries')"
      ],
      "execution_count": 0,
      "outputs": []
    },
    {
      "cell_type": "code",
      "metadata": {
        "id": "rDFQ2JtukFYI",
        "colab_type": "code",
        "colab": {
          "base_uri": "https://localhost:8080/",
          "height": 36
        },
        "outputId": "d3984709-a635-4087-edca-b04383d377ea"
      },
      "source": [
        "#  Ξεκινήστε από την αρχή, πάρτε τα δύο πρώτα ...\n",
        "ranked_fruits[:2]"
      ],
      "execution_count": 11,
      "outputs": [
        {
          "output_type": "execute_result",
          "data": {
            "text/plain": [
              "('banana', 'orange')"
            ]
          },
          "metadata": {
            "tags": []
          },
          "execution_count": 11
        }
      ]
    },
    {
      "cell_type": "code",
      "metadata": {
        "id": "T3qfBUDlkFYO",
        "colab_type": "code",
        "colab": {
          "base_uri": "https://localhost:8080/",
          "height": 36
        },
        "outputId": "999f2d5f-bae9-464d-dddd-1a0f34d98458"
      },
      "source": [
        "# Ξεκινήστε από το δύο, πάρτε μέχρι το τέταρτο στοιχείο\n",
        "ranked_fruits[2:4]"
      ],
      "execution_count": 12,
      "outputs": [
        {
          "output_type": "execute_result",
          "data": {
            "text/plain": [
              "('apple', 'blueberries')"
            ]
          },
          "metadata": {
            "tags": []
          },
          "execution_count": 12
        }
      ]
    },
    {
      "cell_type": "code",
      "metadata": {
        "id": "RuD0JPzfkFYV",
        "colab_type": "code",
        "colab": {
          "base_uri": "https://localhost:8080/",
          "height": 36
        },
        "outputId": "5a8b346b-e506-4dbc-b1c5-36ed5c84ed0d"
      },
      "source": [
        "# Ξεκινώντας από το τρίτο στοιχείο, πάρτε όλα τα υπόλοιπα\n",
        "ranked_fruits[3:]"
      ],
      "execution_count": 13,
      "outputs": [
        {
          "output_type": "execute_result",
          "data": {
            "text/plain": [
              "('blueberries', 'strawberries')"
            ]
          },
          "metadata": {
            "tags": []
          },
          "execution_count": 13
        }
      ]
    },
    {
      "cell_type": "markdown",
      "metadata": {
        "id": "mSHFXU8TkFYi",
        "colab_type": "text"
      },
      "source": [
        "### Γραμμές μετά από μια συγκεκριμένη ημερομηνία"
      ]
    },
    {
      "cell_type": "code",
      "metadata": {
        "scrolled": true,
        "id": "LhNr0aRIkFYi",
        "colab_type": "code",
        "colab": {
          "base_uri": "https://localhost:8080/",
          "height": 1000
        },
        "outputId": "c2b5614f-5dfe-49c7-8411-a4116cae1a43"
      },
      "source": [
        "df['1970':]"
      ],
      "execution_count": 14,
      "outputs": [
        {
          "output_type": "execute_result",
          "data": {
            "text/html": [
              "<div>\n",
              "<style scoped>\n",
              "    .dataframe tbody tr th:only-of-type {\n",
              "        vertical-align: middle;\n",
              "    }\n",
              "\n",
              "    .dataframe tbody tr th {\n",
              "        vertical-align: top;\n",
              "    }\n",
              "\n",
              "    .dataframe thead th {\n",
              "        text-align: right;\n",
              "    }\n",
              "</style>\n",
              "<table border=\"1\" class=\"dataframe\">\n",
              "  <thead>\n",
              "    <tr style=\"text-align: right;\">\n",
              "      <th></th>\n",
              "      <th>is_adj</th>\n",
              "      <th>val</th>\n",
              "      <th>cat_code</th>\n",
              "      <th>cat_desc</th>\n",
              "      <th>cat_indent</th>\n",
              "      <th>dt_code</th>\n",
              "      <th>dt_desc</th>\n",
              "      <th>dt_unit</th>\n",
              "      <th>geo_code</th>\n",
              "      <th>geo_desc</th>\n",
              "      <th>per_name</th>\n",
              "    </tr>\n",
              "    <tr>\n",
              "      <th>date</th>\n",
              "      <th></th>\n",
              "      <th></th>\n",
              "      <th></th>\n",
              "      <th></th>\n",
              "      <th></th>\n",
              "      <th></th>\n",
              "      <th></th>\n",
              "      <th></th>\n",
              "      <th></th>\n",
              "      <th></th>\n",
              "      <th></th>\n",
              "    </tr>\n",
              "  </thead>\n",
              "  <tbody>\n",
              "    <tr>\n",
              "      <th>1970-01-01</th>\n",
              "      <td>0</td>\n",
              "      <td>34.0</td>\n",
              "      <td>SOLD</td>\n",
              "      <td>New Single-family Houses Sold</td>\n",
              "      <td>0</td>\n",
              "      <td>TOTAL</td>\n",
              "      <td>All Houses</td>\n",
              "      <td>K</td>\n",
              "      <td>US</td>\n",
              "      <td>United States</td>\n",
              "      <td>1970-01-01</td>\n",
              "    </tr>\n",
              "    <tr>\n",
              "      <th>1970-02-01</th>\n",
              "      <td>0</td>\n",
              "      <td>29.0</td>\n",
              "      <td>SOLD</td>\n",
              "      <td>New Single-family Houses Sold</td>\n",
              "      <td>0</td>\n",
              "      <td>TOTAL</td>\n",
              "      <td>All Houses</td>\n",
              "      <td>K</td>\n",
              "      <td>US</td>\n",
              "      <td>United States</td>\n",
              "      <td>1970-02-01</td>\n",
              "    </tr>\n",
              "    <tr>\n",
              "      <th>1970-03-01</th>\n",
              "      <td>0</td>\n",
              "      <td>36.0</td>\n",
              "      <td>SOLD</td>\n",
              "      <td>New Single-family Houses Sold</td>\n",
              "      <td>0</td>\n",
              "      <td>TOTAL</td>\n",
              "      <td>All Houses</td>\n",
              "      <td>K</td>\n",
              "      <td>US</td>\n",
              "      <td>United States</td>\n",
              "      <td>1970-03-01</td>\n",
              "    </tr>\n",
              "    <tr>\n",
              "      <th>1970-04-01</th>\n",
              "      <td>0</td>\n",
              "      <td>42.0</td>\n",
              "      <td>SOLD</td>\n",
              "      <td>New Single-family Houses Sold</td>\n",
              "      <td>0</td>\n",
              "      <td>TOTAL</td>\n",
              "      <td>All Houses</td>\n",
              "      <td>K</td>\n",
              "      <td>US</td>\n",
              "      <td>United States</td>\n",
              "      <td>1970-04-01</td>\n",
              "    </tr>\n",
              "    <tr>\n",
              "      <th>1970-05-01</th>\n",
              "      <td>0</td>\n",
              "      <td>43.0</td>\n",
              "      <td>SOLD</td>\n",
              "      <td>New Single-family Houses Sold</td>\n",
              "      <td>0</td>\n",
              "      <td>TOTAL</td>\n",
              "      <td>All Houses</td>\n",
              "      <td>K</td>\n",
              "      <td>US</td>\n",
              "      <td>United States</td>\n",
              "      <td>1970-05-01</td>\n",
              "    </tr>\n",
              "    <tr>\n",
              "      <th>...</th>\n",
              "      <td>...</td>\n",
              "      <td>...</td>\n",
              "      <td>...</td>\n",
              "      <td>...</td>\n",
              "      <td>...</td>\n",
              "      <td>...</td>\n",
              "      <td>...</td>\n",
              "      <td>...</td>\n",
              "      <td>...</td>\n",
              "      <td>...</td>\n",
              "      <td>...</td>\n",
              "    </tr>\n",
              "    <tr>\n",
              "      <th>2016-01-01</th>\n",
              "      <td>0</td>\n",
              "      <td>39.0</td>\n",
              "      <td>SOLD</td>\n",
              "      <td>New Single-family Houses Sold</td>\n",
              "      <td>0</td>\n",
              "      <td>TOTAL</td>\n",
              "      <td>All Houses</td>\n",
              "      <td>K</td>\n",
              "      <td>US</td>\n",
              "      <td>United States</td>\n",
              "      <td>2016-01-01</td>\n",
              "    </tr>\n",
              "    <tr>\n",
              "      <th>2016-02-01</th>\n",
              "      <td>0</td>\n",
              "      <td>45.0</td>\n",
              "      <td>SOLD</td>\n",
              "      <td>New Single-family Houses Sold</td>\n",
              "      <td>0</td>\n",
              "      <td>TOTAL</td>\n",
              "      <td>All Houses</td>\n",
              "      <td>K</td>\n",
              "      <td>US</td>\n",
              "      <td>United States</td>\n",
              "      <td>2016-02-01</td>\n",
              "    </tr>\n",
              "    <tr>\n",
              "      <th>2016-03-01</th>\n",
              "      <td>0</td>\n",
              "      <td>49.0</td>\n",
              "      <td>SOLD</td>\n",
              "      <td>New Single-family Houses Sold</td>\n",
              "      <td>0</td>\n",
              "      <td>TOTAL</td>\n",
              "      <td>All Houses</td>\n",
              "      <td>K</td>\n",
              "      <td>US</td>\n",
              "      <td>United States</td>\n",
              "      <td>2016-03-01</td>\n",
              "    </tr>\n",
              "    <tr>\n",
              "      <th>2016-04-01</th>\n",
              "      <td>0</td>\n",
              "      <td>57.0</td>\n",
              "      <td>SOLD</td>\n",
              "      <td>New Single-family Houses Sold</td>\n",
              "      <td>0</td>\n",
              "      <td>TOTAL</td>\n",
              "      <td>All Houses</td>\n",
              "      <td>K</td>\n",
              "      <td>US</td>\n",
              "      <td>United States</td>\n",
              "      <td>2016-04-01</td>\n",
              "    </tr>\n",
              "    <tr>\n",
              "      <th>2016-05-01</th>\n",
              "      <td>0</td>\n",
              "      <td>51.0</td>\n",
              "      <td>SOLD</td>\n",
              "      <td>New Single-family Houses Sold</td>\n",
              "      <td>0</td>\n",
              "      <td>TOTAL</td>\n",
              "      <td>All Houses</td>\n",
              "      <td>K</td>\n",
              "      <td>US</td>\n",
              "      <td>United States</td>\n",
              "      <td>2016-05-01</td>\n",
              "    </tr>\n",
              "  </tbody>\n",
              "</table>\n",
              "<p>557 rows × 11 columns</p>\n",
              "</div>"
            ],
            "text/plain": [
              "            is_adj   val cat_code  ... geo_code       geo_desc    per_name\n",
              "date                               ...                                    \n",
              "1970-01-01       0  34.0     SOLD  ...       US  United States  1970-01-01\n",
              "1970-02-01       0  29.0     SOLD  ...       US  United States  1970-02-01\n",
              "1970-03-01       0  36.0     SOLD  ...       US  United States  1970-03-01\n",
              "1970-04-01       0  42.0     SOLD  ...       US  United States  1970-04-01\n",
              "1970-05-01       0  43.0     SOLD  ...       US  United States  1970-05-01\n",
              "...            ...   ...      ...  ...      ...            ...         ...\n",
              "2016-01-01       0  39.0     SOLD  ...       US  United States  2016-01-01\n",
              "2016-02-01       0  45.0     SOLD  ...       US  United States  2016-02-01\n",
              "2016-03-01       0  49.0     SOLD  ...       US  United States  2016-03-01\n",
              "2016-04-01       0  57.0     SOLD  ...       US  United States  2016-04-01\n",
              "2016-05-01       0  51.0     SOLD  ...       US  United States  2016-05-01\n",
              "\n",
              "[557 rows x 11 columns]"
            ]
          },
          "metadata": {
            "tags": []
          },
          "execution_count": 14
        }
      ]
    },
    {
      "cell_type": "markdown",
      "metadata": {
        "id": "YMPom2lVkFYr",
        "colab_type": "text"
      },
      "source": [
        "### Γραμμές μεταξύ μιας συγκεκριμένης ημερομηνίας"
      ]
    },
    {
      "cell_type": "code",
      "metadata": {
        "id": "zz8DmPIBkFYs",
        "colab_type": "code",
        "colab": {
          "base_uri": "https://localhost:8080/",
          "height": 605
        },
        "outputId": "6753f93f-05a5-461d-9b2b-359837b80029"
      },
      "source": [
        "df['1970':'1975'].head()"
      ],
      "execution_count": 15,
      "outputs": [
        {
          "output_type": "execute_result",
          "data": {
            "text/html": [
              "<div>\n",
              "<style scoped>\n",
              "    .dataframe tbody tr th:only-of-type {\n",
              "        vertical-align: middle;\n",
              "    }\n",
              "\n",
              "    .dataframe tbody tr th {\n",
              "        vertical-align: top;\n",
              "    }\n",
              "\n",
              "    .dataframe thead th {\n",
              "        text-align: right;\n",
              "    }\n",
              "</style>\n",
              "<table border=\"1\" class=\"dataframe\">\n",
              "  <thead>\n",
              "    <tr style=\"text-align: right;\">\n",
              "      <th></th>\n",
              "      <th>is_adj</th>\n",
              "      <th>val</th>\n",
              "      <th>cat_code</th>\n",
              "      <th>cat_desc</th>\n",
              "      <th>cat_indent</th>\n",
              "      <th>dt_code</th>\n",
              "      <th>dt_desc</th>\n",
              "      <th>dt_unit</th>\n",
              "      <th>geo_code</th>\n",
              "      <th>geo_desc</th>\n",
              "      <th>per_name</th>\n",
              "    </tr>\n",
              "    <tr>\n",
              "      <th>date</th>\n",
              "      <th></th>\n",
              "      <th></th>\n",
              "      <th></th>\n",
              "      <th></th>\n",
              "      <th></th>\n",
              "      <th></th>\n",
              "      <th></th>\n",
              "      <th></th>\n",
              "      <th></th>\n",
              "      <th></th>\n",
              "      <th></th>\n",
              "    </tr>\n",
              "  </thead>\n",
              "  <tbody>\n",
              "    <tr>\n",
              "      <th>1970-01-01</th>\n",
              "      <td>0</td>\n",
              "      <td>34.0</td>\n",
              "      <td>SOLD</td>\n",
              "      <td>New Single-family Houses Sold</td>\n",
              "      <td>0</td>\n",
              "      <td>TOTAL</td>\n",
              "      <td>All Houses</td>\n",
              "      <td>K</td>\n",
              "      <td>US</td>\n",
              "      <td>United States</td>\n",
              "      <td>1970-01-01</td>\n",
              "    </tr>\n",
              "    <tr>\n",
              "      <th>1970-02-01</th>\n",
              "      <td>0</td>\n",
              "      <td>29.0</td>\n",
              "      <td>SOLD</td>\n",
              "      <td>New Single-family Houses Sold</td>\n",
              "      <td>0</td>\n",
              "      <td>TOTAL</td>\n",
              "      <td>All Houses</td>\n",
              "      <td>K</td>\n",
              "      <td>US</td>\n",
              "      <td>United States</td>\n",
              "      <td>1970-02-01</td>\n",
              "    </tr>\n",
              "    <tr>\n",
              "      <th>1970-03-01</th>\n",
              "      <td>0</td>\n",
              "      <td>36.0</td>\n",
              "      <td>SOLD</td>\n",
              "      <td>New Single-family Houses Sold</td>\n",
              "      <td>0</td>\n",
              "      <td>TOTAL</td>\n",
              "      <td>All Houses</td>\n",
              "      <td>K</td>\n",
              "      <td>US</td>\n",
              "      <td>United States</td>\n",
              "      <td>1970-03-01</td>\n",
              "    </tr>\n",
              "    <tr>\n",
              "      <th>1970-04-01</th>\n",
              "      <td>0</td>\n",
              "      <td>42.0</td>\n",
              "      <td>SOLD</td>\n",
              "      <td>New Single-family Houses Sold</td>\n",
              "      <td>0</td>\n",
              "      <td>TOTAL</td>\n",
              "      <td>All Houses</td>\n",
              "      <td>K</td>\n",
              "      <td>US</td>\n",
              "      <td>United States</td>\n",
              "      <td>1970-04-01</td>\n",
              "    </tr>\n",
              "    <tr>\n",
              "      <th>1970-05-01</th>\n",
              "      <td>0</td>\n",
              "      <td>43.0</td>\n",
              "      <td>SOLD</td>\n",
              "      <td>New Single-family Houses Sold</td>\n",
              "      <td>0</td>\n",
              "      <td>TOTAL</td>\n",
              "      <td>All Houses</td>\n",
              "      <td>K</td>\n",
              "      <td>US</td>\n",
              "      <td>United States</td>\n",
              "      <td>1970-05-01</td>\n",
              "    </tr>\n",
              "  </tbody>\n",
              "</table>\n",
              "</div>"
            ],
            "text/plain": [
              "            is_adj   val cat_code  ... geo_code       geo_desc    per_name\n",
              "date                               ...                                    \n",
              "1970-01-01       0  34.0     SOLD  ...       US  United States  1970-01-01\n",
              "1970-02-01       0  29.0     SOLD  ...       US  United States  1970-02-01\n",
              "1970-03-01       0  36.0     SOLD  ...       US  United States  1970-03-01\n",
              "1970-04-01       0  42.0     SOLD  ...       US  United States  1970-04-01\n",
              "1970-05-01       0  43.0     SOLD  ...       US  United States  1970-05-01\n",
              "\n",
              "[5 rows x 11 columns]"
            ]
          },
          "metadata": {
            "tags": []
          },
          "execution_count": 15
        }
      ]
    },
    {
      "cell_type": "markdown",
      "metadata": {
        "id": "uMVGQQckkFYy",
        "colab_type": "text"
      },
      "source": [
        "# Από Φεβ. του 1973 μέχρι Ιούλιο του 1975"
      ]
    },
    {
      "cell_type": "code",
      "metadata": {
        "id": "RoILpCHBkFYz",
        "colab_type": "code",
        "colab": {
          "base_uri": "https://localhost:8080/",
          "height": 705
        },
        "outputId": "e8661691-52ed-444a-f215-c1852a9bfa5e"
      },
      "source": [
        "df['1970-02': '1970-07']"
      ],
      "execution_count": 16,
      "outputs": [
        {
          "output_type": "execute_result",
          "data": {
            "text/html": [
              "<div>\n",
              "<style scoped>\n",
              "    .dataframe tbody tr th:only-of-type {\n",
              "        vertical-align: middle;\n",
              "    }\n",
              "\n",
              "    .dataframe tbody tr th {\n",
              "        vertical-align: top;\n",
              "    }\n",
              "\n",
              "    .dataframe thead th {\n",
              "        text-align: right;\n",
              "    }\n",
              "</style>\n",
              "<table border=\"1\" class=\"dataframe\">\n",
              "  <thead>\n",
              "    <tr style=\"text-align: right;\">\n",
              "      <th></th>\n",
              "      <th>is_adj</th>\n",
              "      <th>val</th>\n",
              "      <th>cat_code</th>\n",
              "      <th>cat_desc</th>\n",
              "      <th>cat_indent</th>\n",
              "      <th>dt_code</th>\n",
              "      <th>dt_desc</th>\n",
              "      <th>dt_unit</th>\n",
              "      <th>geo_code</th>\n",
              "      <th>geo_desc</th>\n",
              "      <th>per_name</th>\n",
              "    </tr>\n",
              "    <tr>\n",
              "      <th>date</th>\n",
              "      <th></th>\n",
              "      <th></th>\n",
              "      <th></th>\n",
              "      <th></th>\n",
              "      <th></th>\n",
              "      <th></th>\n",
              "      <th></th>\n",
              "      <th></th>\n",
              "      <th></th>\n",
              "      <th></th>\n",
              "      <th></th>\n",
              "    </tr>\n",
              "  </thead>\n",
              "  <tbody>\n",
              "    <tr>\n",
              "      <th>1970-02-01</th>\n",
              "      <td>0</td>\n",
              "      <td>29.0</td>\n",
              "      <td>SOLD</td>\n",
              "      <td>New Single-family Houses Sold</td>\n",
              "      <td>0</td>\n",
              "      <td>TOTAL</td>\n",
              "      <td>All Houses</td>\n",
              "      <td>K</td>\n",
              "      <td>US</td>\n",
              "      <td>United States</td>\n",
              "      <td>1970-02-01</td>\n",
              "    </tr>\n",
              "    <tr>\n",
              "      <th>1970-03-01</th>\n",
              "      <td>0</td>\n",
              "      <td>36.0</td>\n",
              "      <td>SOLD</td>\n",
              "      <td>New Single-family Houses Sold</td>\n",
              "      <td>0</td>\n",
              "      <td>TOTAL</td>\n",
              "      <td>All Houses</td>\n",
              "      <td>K</td>\n",
              "      <td>US</td>\n",
              "      <td>United States</td>\n",
              "      <td>1970-03-01</td>\n",
              "    </tr>\n",
              "    <tr>\n",
              "      <th>1970-04-01</th>\n",
              "      <td>0</td>\n",
              "      <td>42.0</td>\n",
              "      <td>SOLD</td>\n",
              "      <td>New Single-family Houses Sold</td>\n",
              "      <td>0</td>\n",
              "      <td>TOTAL</td>\n",
              "      <td>All Houses</td>\n",
              "      <td>K</td>\n",
              "      <td>US</td>\n",
              "      <td>United States</td>\n",
              "      <td>1970-04-01</td>\n",
              "    </tr>\n",
              "    <tr>\n",
              "      <th>1970-05-01</th>\n",
              "      <td>0</td>\n",
              "      <td>43.0</td>\n",
              "      <td>SOLD</td>\n",
              "      <td>New Single-family Houses Sold</td>\n",
              "      <td>0</td>\n",
              "      <td>TOTAL</td>\n",
              "      <td>All Houses</td>\n",
              "      <td>K</td>\n",
              "      <td>US</td>\n",
              "      <td>United States</td>\n",
              "      <td>1970-05-01</td>\n",
              "    </tr>\n",
              "    <tr>\n",
              "      <th>1970-06-01</th>\n",
              "      <td>0</td>\n",
              "      <td>44.0</td>\n",
              "      <td>SOLD</td>\n",
              "      <td>New Single-family Houses Sold</td>\n",
              "      <td>0</td>\n",
              "      <td>TOTAL</td>\n",
              "      <td>All Houses</td>\n",
              "      <td>K</td>\n",
              "      <td>US</td>\n",
              "      <td>United States</td>\n",
              "      <td>1970-06-01</td>\n",
              "    </tr>\n",
              "    <tr>\n",
              "      <th>1970-07-01</th>\n",
              "      <td>0</td>\n",
              "      <td>44.0</td>\n",
              "      <td>SOLD</td>\n",
              "      <td>New Single-family Houses Sold</td>\n",
              "      <td>0</td>\n",
              "      <td>TOTAL</td>\n",
              "      <td>All Houses</td>\n",
              "      <td>K</td>\n",
              "      <td>US</td>\n",
              "      <td>United States</td>\n",
              "      <td>1970-07-01</td>\n",
              "    </tr>\n",
              "  </tbody>\n",
              "</table>\n",
              "</div>"
            ],
            "text/plain": [
              "            is_adj   val cat_code  ... geo_code       geo_desc    per_name\n",
              "date                               ...                                    \n",
              "1970-02-01       0  29.0     SOLD  ...       US  United States  1970-02-01\n",
              "1970-03-01       0  36.0     SOLD  ...       US  United States  1970-03-01\n",
              "1970-04-01       0  42.0     SOLD  ...       US  United States  1970-04-01\n",
              "1970-05-01       0  43.0     SOLD  ...       US  United States  1970-05-01\n",
              "1970-06-01       0  44.0     SOLD  ...       US  United States  1970-06-01\n",
              "1970-07-01       0  44.0     SOLD  ...       US  United States  1970-07-01\n",
              "\n",
              "[6 rows x 11 columns]"
            ]
          },
          "metadata": {
            "tags": []
          },
          "execution_count": 16
        }
      ]
    },
    {
      "cell_type": "code",
      "metadata": {
        "id": "QEDYhlPzkFY4",
        "colab_type": "code",
        "colab": {}
      },
      "source": [
        "#Sum "
      ],
      "execution_count": 0,
      "outputs": []
    },
    {
      "cell_type": "code",
      "metadata": {
        "id": "-0auIJnikFY_",
        "colab_type": "code",
        "colab": {
          "base_uri": "https://localhost:8080/",
          "height": 36
        },
        "outputId": "85a96a76-26d8-4852-d8a6-1845864edc31"
      },
      "source": [
        "df['1970':'1979'].val.sum()"
      ],
      "execution_count": 18,
      "outputs": [
        {
          "output_type": "execute_result",
          "data": {
            "text/plain": [
              "6557.0"
            ]
          },
          "metadata": {
            "tags": []
          },
          "execution_count": 18
        }
      ]
    },
    {
      "cell_type": "code",
      "metadata": {
        "id": "k05biIm6kFZF",
        "colab_type": "code",
        "colab": {
          "base_uri": "https://localhost:8080/",
          "height": 36
        },
        "outputId": "56e6fea7-d719-42f3-a9cb-82752e62052d"
      },
      "source": [
        "df['1980':'1989'].val.sum()"
      ],
      "execution_count": 19,
      "outputs": [
        {
          "output_type": "execute_result",
          "data": {
            "text/plain": [
              "6088.0"
            ]
          },
          "metadata": {
            "tags": []
          },
          "execution_count": 19
        }
      ]
    },
    {
      "cell_type": "markdown",
      "metadata": {
        "id": "nZ2lRRiykFZL",
        "colab_type": "text"
      },
      "source": [
        "### πώς μπορούμε να επιλέξουμε κάθε Φεβ"
      ]
    },
    {
      "cell_type": "code",
      "metadata": {
        "scrolled": false,
        "id": "LBYKcnyUkFZM",
        "colab_type": "code",
        "colab": {
          "base_uri": "https://localhost:8080/",
          "height": 1000
        },
        "outputId": "26e80dcd-fa62-4e22-e32f-6d3b7be9837e"
      },
      "source": [
        "df[df.index.month == 2]"
      ],
      "execution_count": 20,
      "outputs": [
        {
          "output_type": "execute_result",
          "data": {
            "text/html": [
              "<div>\n",
              "<style scoped>\n",
              "    .dataframe tbody tr th:only-of-type {\n",
              "        vertical-align: middle;\n",
              "    }\n",
              "\n",
              "    .dataframe tbody tr th {\n",
              "        vertical-align: top;\n",
              "    }\n",
              "\n",
              "    .dataframe thead th {\n",
              "        text-align: right;\n",
              "    }\n",
              "</style>\n",
              "<table border=\"1\" class=\"dataframe\">\n",
              "  <thead>\n",
              "    <tr style=\"text-align: right;\">\n",
              "      <th></th>\n",
              "      <th>is_adj</th>\n",
              "      <th>val</th>\n",
              "      <th>cat_code</th>\n",
              "      <th>cat_desc</th>\n",
              "      <th>cat_indent</th>\n",
              "      <th>dt_code</th>\n",
              "      <th>dt_desc</th>\n",
              "      <th>dt_unit</th>\n",
              "      <th>geo_code</th>\n",
              "      <th>geo_desc</th>\n",
              "      <th>per_name</th>\n",
              "    </tr>\n",
              "    <tr>\n",
              "      <th>date</th>\n",
              "      <th></th>\n",
              "      <th></th>\n",
              "      <th></th>\n",
              "      <th></th>\n",
              "      <th></th>\n",
              "      <th></th>\n",
              "      <th></th>\n",
              "      <th></th>\n",
              "      <th></th>\n",
              "      <th></th>\n",
              "      <th></th>\n",
              "    </tr>\n",
              "  </thead>\n",
              "  <tbody>\n",
              "    <tr>\n",
              "      <th>1963-02-01</th>\n",
              "      <td>0</td>\n",
              "      <td>35.0</td>\n",
              "      <td>SOLD</td>\n",
              "      <td>New Single-family Houses Sold</td>\n",
              "      <td>0</td>\n",
              "      <td>TOTAL</td>\n",
              "      <td>All Houses</td>\n",
              "      <td>K</td>\n",
              "      <td>US</td>\n",
              "      <td>United States</td>\n",
              "      <td>1963-02-01</td>\n",
              "    </tr>\n",
              "    <tr>\n",
              "      <th>1964-02-01</th>\n",
              "      <td>0</td>\n",
              "      <td>46.0</td>\n",
              "      <td>SOLD</td>\n",
              "      <td>New Single-family Houses Sold</td>\n",
              "      <td>0</td>\n",
              "      <td>TOTAL</td>\n",
              "      <td>All Houses</td>\n",
              "      <td>K</td>\n",
              "      <td>US</td>\n",
              "      <td>United States</td>\n",
              "      <td>1964-02-01</td>\n",
              "    </tr>\n",
              "    <tr>\n",
              "      <th>1965-02-01</th>\n",
              "      <td>0</td>\n",
              "      <td>44.0</td>\n",
              "      <td>SOLD</td>\n",
              "      <td>New Single-family Houses Sold</td>\n",
              "      <td>0</td>\n",
              "      <td>TOTAL</td>\n",
              "      <td>All Houses</td>\n",
              "      <td>K</td>\n",
              "      <td>US</td>\n",
              "      <td>United States</td>\n",
              "      <td>1965-02-01</td>\n",
              "    </tr>\n",
              "    <tr>\n",
              "      <th>1966-02-01</th>\n",
              "      <td>0</td>\n",
              "      <td>43.0</td>\n",
              "      <td>SOLD</td>\n",
              "      <td>New Single-family Houses Sold</td>\n",
              "      <td>0</td>\n",
              "      <td>TOTAL</td>\n",
              "      <td>All Houses</td>\n",
              "      <td>K</td>\n",
              "      <td>US</td>\n",
              "      <td>United States</td>\n",
              "      <td>1966-02-01</td>\n",
              "    </tr>\n",
              "    <tr>\n",
              "      <th>1967-02-01</th>\n",
              "      <td>0</td>\n",
              "      <td>32.0</td>\n",
              "      <td>SOLD</td>\n",
              "      <td>New Single-family Houses Sold</td>\n",
              "      <td>0</td>\n",
              "      <td>TOTAL</td>\n",
              "      <td>All Houses</td>\n",
              "      <td>K</td>\n",
              "      <td>US</td>\n",
              "      <td>United States</td>\n",
              "      <td>1967-02-01</td>\n",
              "    </tr>\n",
              "    <tr>\n",
              "      <th>1968-02-01</th>\n",
              "      <td>0</td>\n",
              "      <td>43.0</td>\n",
              "      <td>SOLD</td>\n",
              "      <td>New Single-family Houses Sold</td>\n",
              "      <td>0</td>\n",
              "      <td>TOTAL</td>\n",
              "      <td>All Houses</td>\n",
              "      <td>K</td>\n",
              "      <td>US</td>\n",
              "      <td>United States</td>\n",
              "      <td>1968-02-01</td>\n",
              "    </tr>\n",
              "    <tr>\n",
              "      <th>1969-02-01</th>\n",
              "      <td>0</td>\n",
              "      <td>40.0</td>\n",
              "      <td>SOLD</td>\n",
              "      <td>New Single-family Houses Sold</td>\n",
              "      <td>0</td>\n",
              "      <td>TOTAL</td>\n",
              "      <td>All Houses</td>\n",
              "      <td>K</td>\n",
              "      <td>US</td>\n",
              "      <td>United States</td>\n",
              "      <td>1969-02-01</td>\n",
              "    </tr>\n",
              "    <tr>\n",
              "      <th>1970-02-01</th>\n",
              "      <td>0</td>\n",
              "      <td>29.0</td>\n",
              "      <td>SOLD</td>\n",
              "      <td>New Single-family Houses Sold</td>\n",
              "      <td>0</td>\n",
              "      <td>TOTAL</td>\n",
              "      <td>All Houses</td>\n",
              "      <td>K</td>\n",
              "      <td>US</td>\n",
              "      <td>United States</td>\n",
              "      <td>1970-02-01</td>\n",
              "    </tr>\n",
              "    <tr>\n",
              "      <th>1971-02-01</th>\n",
              "      <td>0</td>\n",
              "      <td>49.0</td>\n",
              "      <td>SOLD</td>\n",
              "      <td>New Single-family Houses Sold</td>\n",
              "      <td>0</td>\n",
              "      <td>TOTAL</td>\n",
              "      <td>All Houses</td>\n",
              "      <td>K</td>\n",
              "      <td>US</td>\n",
              "      <td>United States</td>\n",
              "      <td>1971-02-01</td>\n",
              "    </tr>\n",
              "    <tr>\n",
              "      <th>1972-02-01</th>\n",
              "      <td>0</td>\n",
              "      <td>56.0</td>\n",
              "      <td>SOLD</td>\n",
              "      <td>New Single-family Houses Sold</td>\n",
              "      <td>0</td>\n",
              "      <td>TOTAL</td>\n",
              "      <td>All Houses</td>\n",
              "      <td>K</td>\n",
              "      <td>US</td>\n",
              "      <td>United States</td>\n",
              "      <td>1972-02-01</td>\n",
              "    </tr>\n",
              "    <tr>\n",
              "      <th>1973-02-01</th>\n",
              "      <td>0</td>\n",
              "      <td>60.0</td>\n",
              "      <td>SOLD</td>\n",
              "      <td>New Single-family Houses Sold</td>\n",
              "      <td>0</td>\n",
              "      <td>TOTAL</td>\n",
              "      <td>All Houses</td>\n",
              "      <td>K</td>\n",
              "      <td>US</td>\n",
              "      <td>United States</td>\n",
              "      <td>1973-02-01</td>\n",
              "    </tr>\n",
              "    <tr>\n",
              "      <th>1974-02-01</th>\n",
              "      <td>0</td>\n",
              "      <td>44.0</td>\n",
              "      <td>SOLD</td>\n",
              "      <td>New Single-family Houses Sold</td>\n",
              "      <td>0</td>\n",
              "      <td>TOTAL</td>\n",
              "      <td>All Houses</td>\n",
              "      <td>K</td>\n",
              "      <td>US</td>\n",
              "      <td>United States</td>\n",
              "      <td>1974-02-01</td>\n",
              "    </tr>\n",
              "    <tr>\n",
              "      <th>1975-02-01</th>\n",
              "      <td>0</td>\n",
              "      <td>34.0</td>\n",
              "      <td>SOLD</td>\n",
              "      <td>New Single-family Houses Sold</td>\n",
              "      <td>0</td>\n",
              "      <td>TOTAL</td>\n",
              "      <td>All Houses</td>\n",
              "      <td>K</td>\n",
              "      <td>US</td>\n",
              "      <td>United States</td>\n",
              "      <td>1975-02-01</td>\n",
              "    </tr>\n",
              "    <tr>\n",
              "      <th>1976-02-01</th>\n",
              "      <td>0</td>\n",
              "      <td>53.0</td>\n",
              "      <td>SOLD</td>\n",
              "      <td>New Single-family Houses Sold</td>\n",
              "      <td>0</td>\n",
              "      <td>TOTAL</td>\n",
              "      <td>All Houses</td>\n",
              "      <td>K</td>\n",
              "      <td>US</td>\n",
              "      <td>United States</td>\n",
              "      <td>1976-02-01</td>\n",
              "    </tr>\n",
              "    <tr>\n",
              "      <th>1977-02-01</th>\n",
              "      <td>0</td>\n",
              "      <td>68.0</td>\n",
              "      <td>SOLD</td>\n",
              "      <td>New Single-family Houses Sold</td>\n",
              "      <td>0</td>\n",
              "      <td>TOTAL</td>\n",
              "      <td>All Houses</td>\n",
              "      <td>K</td>\n",
              "      <td>US</td>\n",
              "      <td>United States</td>\n",
              "      <td>1977-02-01</td>\n",
              "    </tr>\n",
              "    <tr>\n",
              "      <th>1978-02-01</th>\n",
              "      <td>0</td>\n",
              "      <td>63.0</td>\n",
              "      <td>SOLD</td>\n",
              "      <td>New Single-family Houses Sold</td>\n",
              "      <td>0</td>\n",
              "      <td>TOTAL</td>\n",
              "      <td>All Houses</td>\n",
              "      <td>K</td>\n",
              "      <td>US</td>\n",
              "      <td>United States</td>\n",
              "      <td>1978-02-01</td>\n",
              "    </tr>\n",
              "    <tr>\n",
              "      <th>1979-02-01</th>\n",
              "      <td>0</td>\n",
              "      <td>58.0</td>\n",
              "      <td>SOLD</td>\n",
              "      <td>New Single-family Houses Sold</td>\n",
              "      <td>0</td>\n",
              "      <td>TOTAL</td>\n",
              "      <td>All Houses</td>\n",
              "      <td>K</td>\n",
              "      <td>US</td>\n",
              "      <td>United States</td>\n",
              "      <td>1979-02-01</td>\n",
              "    </tr>\n",
              "    <tr>\n",
              "      <th>1980-02-01</th>\n",
              "      <td>0</td>\n",
              "      <td>44.0</td>\n",
              "      <td>SOLD</td>\n",
              "      <td>New Single-family Houses Sold</td>\n",
              "      <td>0</td>\n",
              "      <td>TOTAL</td>\n",
              "      <td>All Houses</td>\n",
              "      <td>K</td>\n",
              "      <td>US</td>\n",
              "      <td>United States</td>\n",
              "      <td>1980-02-01</td>\n",
              "    </tr>\n",
              "    <tr>\n",
              "      <th>1981-02-01</th>\n",
              "      <td>0</td>\n",
              "      <td>40.0</td>\n",
              "      <td>SOLD</td>\n",
              "      <td>New Single-family Houses Sold</td>\n",
              "      <td>0</td>\n",
              "      <td>TOTAL</td>\n",
              "      <td>All Houses</td>\n",
              "      <td>K</td>\n",
              "      <td>US</td>\n",
              "      <td>United States</td>\n",
              "      <td>1981-02-01</td>\n",
              "    </tr>\n",
              "    <tr>\n",
              "      <th>1982-02-01</th>\n",
              "      <td>0</td>\n",
              "      <td>29.0</td>\n",
              "      <td>SOLD</td>\n",
              "      <td>New Single-family Houses Sold</td>\n",
              "      <td>0</td>\n",
              "      <td>TOTAL</td>\n",
              "      <td>All Houses</td>\n",
              "      <td>K</td>\n",
              "      <td>US</td>\n",
              "      <td>United States</td>\n",
              "      <td>1982-02-01</td>\n",
              "    </tr>\n",
              "    <tr>\n",
              "      <th>1983-02-01</th>\n",
              "      <td>0</td>\n",
              "      <td>46.0</td>\n",
              "      <td>SOLD</td>\n",
              "      <td>New Single-family Houses Sold</td>\n",
              "      <td>0</td>\n",
              "      <td>TOTAL</td>\n",
              "      <td>All Houses</td>\n",
              "      <td>K</td>\n",
              "      <td>US</td>\n",
              "      <td>United States</td>\n",
              "      <td>1983-02-01</td>\n",
              "    </tr>\n",
              "    <tr>\n",
              "      <th>1984-02-01</th>\n",
              "      <td>0</td>\n",
              "      <td>58.0</td>\n",
              "      <td>SOLD</td>\n",
              "      <td>New Single-family Houses Sold</td>\n",
              "      <td>0</td>\n",
              "      <td>TOTAL</td>\n",
              "      <td>All Houses</td>\n",
              "      <td>K</td>\n",
              "      <td>US</td>\n",
              "      <td>United States</td>\n",
              "      <td>1984-02-01</td>\n",
              "    </tr>\n",
              "    <tr>\n",
              "      <th>1985-02-01</th>\n",
              "      <td>0</td>\n",
              "      <td>55.0</td>\n",
              "      <td>SOLD</td>\n",
              "      <td>New Single-family Houses Sold</td>\n",
              "      <td>0</td>\n",
              "      <td>TOTAL</td>\n",
              "      <td>All Houses</td>\n",
              "      <td>K</td>\n",
              "      <td>US</td>\n",
              "      <td>United States</td>\n",
              "      <td>1985-02-01</td>\n",
              "    </tr>\n",
              "    <tr>\n",
              "      <th>1986-02-01</th>\n",
              "      <td>0</td>\n",
              "      <td>59.0</td>\n",
              "      <td>SOLD</td>\n",
              "      <td>New Single-family Houses Sold</td>\n",
              "      <td>0</td>\n",
              "      <td>TOTAL</td>\n",
              "      <td>All Houses</td>\n",
              "      <td>K</td>\n",
              "      <td>US</td>\n",
              "      <td>United States</td>\n",
              "      <td>1986-02-01</td>\n",
              "    </tr>\n",
              "    <tr>\n",
              "      <th>1987-02-01</th>\n",
              "      <td>0</td>\n",
              "      <td>59.0</td>\n",
              "      <td>SOLD</td>\n",
              "      <td>New Single-family Houses Sold</td>\n",
              "      <td>0</td>\n",
              "      <td>TOTAL</td>\n",
              "      <td>All Houses</td>\n",
              "      <td>K</td>\n",
              "      <td>US</td>\n",
              "      <td>United States</td>\n",
              "      <td>1987-02-01</td>\n",
              "    </tr>\n",
              "    <tr>\n",
              "      <th>1988-02-01</th>\n",
              "      <td>0</td>\n",
              "      <td>55.0</td>\n",
              "      <td>SOLD</td>\n",
              "      <td>New Single-family Houses Sold</td>\n",
              "      <td>0</td>\n",
              "      <td>TOTAL</td>\n",
              "      <td>All Houses</td>\n",
              "      <td>K</td>\n",
              "      <td>US</td>\n",
              "      <td>United States</td>\n",
              "      <td>1988-02-01</td>\n",
              "    </tr>\n",
              "    <tr>\n",
              "      <th>1989-02-01</th>\n",
              "      <td>0</td>\n",
              "      <td>51.0</td>\n",
              "      <td>SOLD</td>\n",
              "      <td>New Single-family Houses Sold</td>\n",
              "      <td>0</td>\n",
              "      <td>TOTAL</td>\n",
              "      <td>All Houses</td>\n",
              "      <td>K</td>\n",
              "      <td>US</td>\n",
              "      <td>United States</td>\n",
              "      <td>1989-02-01</td>\n",
              "    </tr>\n",
              "    <tr>\n",
              "      <th>1990-02-01</th>\n",
              "      <td>0</td>\n",
              "      <td>50.0</td>\n",
              "      <td>SOLD</td>\n",
              "      <td>New Single-family Houses Sold</td>\n",
              "      <td>0</td>\n",
              "      <td>TOTAL</td>\n",
              "      <td>All Houses</td>\n",
              "      <td>K</td>\n",
              "      <td>US</td>\n",
              "      <td>United States</td>\n",
              "      <td>1990-02-01</td>\n",
              "    </tr>\n",
              "    <tr>\n",
              "      <th>1991-02-01</th>\n",
              "      <td>0</td>\n",
              "      <td>40.0</td>\n",
              "      <td>SOLD</td>\n",
              "      <td>New Single-family Houses Sold</td>\n",
              "      <td>0</td>\n",
              "      <td>TOTAL</td>\n",
              "      <td>All Houses</td>\n",
              "      <td>K</td>\n",
              "      <td>US</td>\n",
              "      <td>United States</td>\n",
              "      <td>1991-02-01</td>\n",
              "    </tr>\n",
              "    <tr>\n",
              "      <th>1992-02-01</th>\n",
              "      <td>0</td>\n",
              "      <td>55.0</td>\n",
              "      <td>SOLD</td>\n",
              "      <td>New Single-family Houses Sold</td>\n",
              "      <td>0</td>\n",
              "      <td>TOTAL</td>\n",
              "      <td>All Houses</td>\n",
              "      <td>K</td>\n",
              "      <td>US</td>\n",
              "      <td>United States</td>\n",
              "      <td>1992-02-01</td>\n",
              "    </tr>\n",
              "    <tr>\n",
              "      <th>1993-02-01</th>\n",
              "      <td>0</td>\n",
              "      <td>50.0</td>\n",
              "      <td>SOLD</td>\n",
              "      <td>New Single-family Houses Sold</td>\n",
              "      <td>0</td>\n",
              "      <td>TOTAL</td>\n",
              "      <td>All Houses</td>\n",
              "      <td>K</td>\n",
              "      <td>US</td>\n",
              "      <td>United States</td>\n",
              "      <td>1993-02-01</td>\n",
              "    </tr>\n",
              "    <tr>\n",
              "      <th>1994-02-01</th>\n",
              "      <td>0</td>\n",
              "      <td>58.0</td>\n",
              "      <td>SOLD</td>\n",
              "      <td>New Single-family Houses Sold</td>\n",
              "      <td>0</td>\n",
              "      <td>TOTAL</td>\n",
              "      <td>All Houses</td>\n",
              "      <td>K</td>\n",
              "      <td>US</td>\n",
              "      <td>United States</td>\n",
              "      <td>1994-02-01</td>\n",
              "    </tr>\n",
              "    <tr>\n",
              "      <th>1995-02-01</th>\n",
              "      <td>0</td>\n",
              "      <td>47.0</td>\n",
              "      <td>SOLD</td>\n",
              "      <td>New Single-family Houses Sold</td>\n",
              "      <td>0</td>\n",
              "      <td>TOTAL</td>\n",
              "      <td>All Houses</td>\n",
              "      <td>K</td>\n",
              "      <td>US</td>\n",
              "      <td>United States</td>\n",
              "      <td>1995-02-01</td>\n",
              "    </tr>\n",
              "    <tr>\n",
              "      <th>1996-02-01</th>\n",
              "      <td>0</td>\n",
              "      <td>68.0</td>\n",
              "      <td>SOLD</td>\n",
              "      <td>New Single-family Houses Sold</td>\n",
              "      <td>0</td>\n",
              "      <td>TOTAL</td>\n",
              "      <td>All Houses</td>\n",
              "      <td>K</td>\n",
              "      <td>US</td>\n",
              "      <td>United States</td>\n",
              "      <td>1996-02-01</td>\n",
              "    </tr>\n",
              "    <tr>\n",
              "      <th>1997-02-01</th>\n",
              "      <td>0</td>\n",
              "      <td>69.0</td>\n",
              "      <td>SOLD</td>\n",
              "      <td>New Single-family Houses Sold</td>\n",
              "      <td>0</td>\n",
              "      <td>TOTAL</td>\n",
              "      <td>All Houses</td>\n",
              "      <td>K</td>\n",
              "      <td>US</td>\n",
              "      <td>United States</td>\n",
              "      <td>1997-02-01</td>\n",
              "    </tr>\n",
              "    <tr>\n",
              "      <th>1998-02-01</th>\n",
              "      <td>0</td>\n",
              "      <td>75.0</td>\n",
              "      <td>SOLD</td>\n",
              "      <td>New Single-family Houses Sold</td>\n",
              "      <td>0</td>\n",
              "      <td>TOTAL</td>\n",
              "      <td>All Houses</td>\n",
              "      <td>K</td>\n",
              "      <td>US</td>\n",
              "      <td>United States</td>\n",
              "      <td>1998-02-01</td>\n",
              "    </tr>\n",
              "    <tr>\n",
              "      <th>1999-02-01</th>\n",
              "      <td>0</td>\n",
              "      <td>76.0</td>\n",
              "      <td>SOLD</td>\n",
              "      <td>New Single-family Houses Sold</td>\n",
              "      <td>0</td>\n",
              "      <td>TOTAL</td>\n",
              "      <td>All Houses</td>\n",
              "      <td>K</td>\n",
              "      <td>US</td>\n",
              "      <td>United States</td>\n",
              "      <td>1999-02-01</td>\n",
              "    </tr>\n",
              "    <tr>\n",
              "      <th>2000-02-01</th>\n",
              "      <td>0</td>\n",
              "      <td>78.0</td>\n",
              "      <td>SOLD</td>\n",
              "      <td>New Single-family Houses Sold</td>\n",
              "      <td>0</td>\n",
              "      <td>TOTAL</td>\n",
              "      <td>All Houses</td>\n",
              "      <td>K</td>\n",
              "      <td>US</td>\n",
              "      <td>United States</td>\n",
              "      <td>2000-02-01</td>\n",
              "    </tr>\n",
              "    <tr>\n",
              "      <th>2001-02-01</th>\n",
              "      <td>0</td>\n",
              "      <td>85.0</td>\n",
              "      <td>SOLD</td>\n",
              "      <td>New Single-family Houses Sold</td>\n",
              "      <td>0</td>\n",
              "      <td>TOTAL</td>\n",
              "      <td>All Houses</td>\n",
              "      <td>K</td>\n",
              "      <td>US</td>\n",
              "      <td>United States</td>\n",
              "      <td>2001-02-01</td>\n",
              "    </tr>\n",
              "    <tr>\n",
              "      <th>2002-02-01</th>\n",
              "      <td>0</td>\n",
              "      <td>84.0</td>\n",
              "      <td>SOLD</td>\n",
              "      <td>New Single-family Houses Sold</td>\n",
              "      <td>0</td>\n",
              "      <td>TOTAL</td>\n",
              "      <td>All Houses</td>\n",
              "      <td>K</td>\n",
              "      <td>US</td>\n",
              "      <td>United States</td>\n",
              "      <td>2002-02-01</td>\n",
              "    </tr>\n",
              "    <tr>\n",
              "      <th>2003-02-01</th>\n",
              "      <td>0</td>\n",
              "      <td>82.0</td>\n",
              "      <td>SOLD</td>\n",
              "      <td>New Single-family Houses Sold</td>\n",
              "      <td>0</td>\n",
              "      <td>TOTAL</td>\n",
              "      <td>All Houses</td>\n",
              "      <td>K</td>\n",
              "      <td>US</td>\n",
              "      <td>United States</td>\n",
              "      <td>2003-02-01</td>\n",
              "    </tr>\n",
              "    <tr>\n",
              "      <th>2004-02-01</th>\n",
              "      <td>0</td>\n",
              "      <td>102.0</td>\n",
              "      <td>SOLD</td>\n",
              "      <td>New Single-family Houses Sold</td>\n",
              "      <td>0</td>\n",
              "      <td>TOTAL</td>\n",
              "      <td>All Houses</td>\n",
              "      <td>K</td>\n",
              "      <td>US</td>\n",
              "      <td>United States</td>\n",
              "      <td>2004-02-01</td>\n",
              "    </tr>\n",
              "    <tr>\n",
              "      <th>2005-02-01</th>\n",
              "      <td>0</td>\n",
              "      <td>109.0</td>\n",
              "      <td>SOLD</td>\n",
              "      <td>New Single-family Houses Sold</td>\n",
              "      <td>0</td>\n",
              "      <td>TOTAL</td>\n",
              "      <td>All Houses</td>\n",
              "      <td>K</td>\n",
              "      <td>US</td>\n",
              "      <td>United States</td>\n",
              "      <td>2005-02-01</td>\n",
              "    </tr>\n",
              "    <tr>\n",
              "      <th>2006-02-01</th>\n",
              "      <td>0</td>\n",
              "      <td>88.0</td>\n",
              "      <td>SOLD</td>\n",
              "      <td>New Single-family Houses Sold</td>\n",
              "      <td>0</td>\n",
              "      <td>TOTAL</td>\n",
              "      <td>All Houses</td>\n",
              "      <td>K</td>\n",
              "      <td>US</td>\n",
              "      <td>United States</td>\n",
              "      <td>2006-02-01</td>\n",
              "    </tr>\n",
              "    <tr>\n",
              "      <th>2007-02-01</th>\n",
              "      <td>0</td>\n",
              "      <td>68.0</td>\n",
              "      <td>SOLD</td>\n",
              "      <td>New Single-family Houses Sold</td>\n",
              "      <td>0</td>\n",
              "      <td>TOTAL</td>\n",
              "      <td>All Houses</td>\n",
              "      <td>K</td>\n",
              "      <td>US</td>\n",
              "      <td>United States</td>\n",
              "      <td>2007-02-01</td>\n",
              "    </tr>\n",
              "    <tr>\n",
              "      <th>2008-02-01</th>\n",
              "      <td>0</td>\n",
              "      <td>48.0</td>\n",
              "      <td>SOLD</td>\n",
              "      <td>New Single-family Houses Sold</td>\n",
              "      <td>0</td>\n",
              "      <td>TOTAL</td>\n",
              "      <td>All Houses</td>\n",
              "      <td>K</td>\n",
              "      <td>US</td>\n",
              "      <td>United States</td>\n",
              "      <td>2008-02-01</td>\n",
              "    </tr>\n",
              "    <tr>\n",
              "      <th>2009-02-01</th>\n",
              "      <td>0</td>\n",
              "      <td>29.0</td>\n",
              "      <td>SOLD</td>\n",
              "      <td>New Single-family Houses Sold</td>\n",
              "      <td>0</td>\n",
              "      <td>TOTAL</td>\n",
              "      <td>All Houses</td>\n",
              "      <td>K</td>\n",
              "      <td>US</td>\n",
              "      <td>United States</td>\n",
              "      <td>2009-02-01</td>\n",
              "    </tr>\n",
              "    <tr>\n",
              "      <th>2010-02-01</th>\n",
              "      <td>0</td>\n",
              "      <td>27.0</td>\n",
              "      <td>SOLD</td>\n",
              "      <td>New Single-family Houses Sold</td>\n",
              "      <td>0</td>\n",
              "      <td>TOTAL</td>\n",
              "      <td>All Houses</td>\n",
              "      <td>K</td>\n",
              "      <td>US</td>\n",
              "      <td>United States</td>\n",
              "      <td>2010-02-01</td>\n",
              "    </tr>\n",
              "    <tr>\n",
              "      <th>2011-02-01</th>\n",
              "      <td>0</td>\n",
              "      <td>22.0</td>\n",
              "      <td>SOLD</td>\n",
              "      <td>New Single-family Houses Sold</td>\n",
              "      <td>0</td>\n",
              "      <td>TOTAL</td>\n",
              "      <td>All Houses</td>\n",
              "      <td>K</td>\n",
              "      <td>US</td>\n",
              "      <td>United States</td>\n",
              "      <td>2011-02-01</td>\n",
              "    </tr>\n",
              "    <tr>\n",
              "      <th>2012-02-01</th>\n",
              "      <td>0</td>\n",
              "      <td>30.0</td>\n",
              "      <td>SOLD</td>\n",
              "      <td>New Single-family Houses Sold</td>\n",
              "      <td>0</td>\n",
              "      <td>TOTAL</td>\n",
              "      <td>All Houses</td>\n",
              "      <td>K</td>\n",
              "      <td>US</td>\n",
              "      <td>United States</td>\n",
              "      <td>2012-02-01</td>\n",
              "    </tr>\n",
              "    <tr>\n",
              "      <th>2013-02-01</th>\n",
              "      <td>0</td>\n",
              "      <td>36.0</td>\n",
              "      <td>SOLD</td>\n",
              "      <td>New Single-family Houses Sold</td>\n",
              "      <td>0</td>\n",
              "      <td>TOTAL</td>\n",
              "      <td>All Houses</td>\n",
              "      <td>K</td>\n",
              "      <td>US</td>\n",
              "      <td>United States</td>\n",
              "      <td>2013-02-01</td>\n",
              "    </tr>\n",
              "    <tr>\n",
              "      <th>2014-02-01</th>\n",
              "      <td>0</td>\n",
              "      <td>35.0</td>\n",
              "      <td>SOLD</td>\n",
              "      <td>New Single-family Houses Sold</td>\n",
              "      <td>0</td>\n",
              "      <td>TOTAL</td>\n",
              "      <td>All Houses</td>\n",
              "      <td>K</td>\n",
              "      <td>US</td>\n",
              "      <td>United States</td>\n",
              "      <td>2014-02-01</td>\n",
              "    </tr>\n",
              "    <tr>\n",
              "      <th>2015-02-01</th>\n",
              "      <td>0</td>\n",
              "      <td>45.0</td>\n",
              "      <td>SOLD</td>\n",
              "      <td>New Single-family Houses Sold</td>\n",
              "      <td>0</td>\n",
              "      <td>TOTAL</td>\n",
              "      <td>All Houses</td>\n",
              "      <td>K</td>\n",
              "      <td>US</td>\n",
              "      <td>United States</td>\n",
              "      <td>2015-02-01</td>\n",
              "    </tr>\n",
              "    <tr>\n",
              "      <th>2016-02-01</th>\n",
              "      <td>0</td>\n",
              "      <td>45.0</td>\n",
              "      <td>SOLD</td>\n",
              "      <td>New Single-family Houses Sold</td>\n",
              "      <td>0</td>\n",
              "      <td>TOTAL</td>\n",
              "      <td>All Houses</td>\n",
              "      <td>K</td>\n",
              "      <td>US</td>\n",
              "      <td>United States</td>\n",
              "      <td>2016-02-01</td>\n",
              "    </tr>\n",
              "  </tbody>\n",
              "</table>\n",
              "</div>"
            ],
            "text/plain": [
              "            is_adj    val cat_code  ... geo_code       geo_desc    per_name\n",
              "date                                ...                                    \n",
              "1963-02-01       0   35.0     SOLD  ...       US  United States  1963-02-01\n",
              "1964-02-01       0   46.0     SOLD  ...       US  United States  1964-02-01\n",
              "1965-02-01       0   44.0     SOLD  ...       US  United States  1965-02-01\n",
              "1966-02-01       0   43.0     SOLD  ...       US  United States  1966-02-01\n",
              "1967-02-01       0   32.0     SOLD  ...       US  United States  1967-02-01\n",
              "1968-02-01       0   43.0     SOLD  ...       US  United States  1968-02-01\n",
              "1969-02-01       0   40.0     SOLD  ...       US  United States  1969-02-01\n",
              "1970-02-01       0   29.0     SOLD  ...       US  United States  1970-02-01\n",
              "1971-02-01       0   49.0     SOLD  ...       US  United States  1971-02-01\n",
              "1972-02-01       0   56.0     SOLD  ...       US  United States  1972-02-01\n",
              "1973-02-01       0   60.0     SOLD  ...       US  United States  1973-02-01\n",
              "1974-02-01       0   44.0     SOLD  ...       US  United States  1974-02-01\n",
              "1975-02-01       0   34.0     SOLD  ...       US  United States  1975-02-01\n",
              "1976-02-01       0   53.0     SOLD  ...       US  United States  1976-02-01\n",
              "1977-02-01       0   68.0     SOLD  ...       US  United States  1977-02-01\n",
              "1978-02-01       0   63.0     SOLD  ...       US  United States  1978-02-01\n",
              "1979-02-01       0   58.0     SOLD  ...       US  United States  1979-02-01\n",
              "1980-02-01       0   44.0     SOLD  ...       US  United States  1980-02-01\n",
              "1981-02-01       0   40.0     SOLD  ...       US  United States  1981-02-01\n",
              "1982-02-01       0   29.0     SOLD  ...       US  United States  1982-02-01\n",
              "1983-02-01       0   46.0     SOLD  ...       US  United States  1983-02-01\n",
              "1984-02-01       0   58.0     SOLD  ...       US  United States  1984-02-01\n",
              "1985-02-01       0   55.0     SOLD  ...       US  United States  1985-02-01\n",
              "1986-02-01       0   59.0     SOLD  ...       US  United States  1986-02-01\n",
              "1987-02-01       0   59.0     SOLD  ...       US  United States  1987-02-01\n",
              "1988-02-01       0   55.0     SOLD  ...       US  United States  1988-02-01\n",
              "1989-02-01       0   51.0     SOLD  ...       US  United States  1989-02-01\n",
              "1990-02-01       0   50.0     SOLD  ...       US  United States  1990-02-01\n",
              "1991-02-01       0   40.0     SOLD  ...       US  United States  1991-02-01\n",
              "1992-02-01       0   55.0     SOLD  ...       US  United States  1992-02-01\n",
              "1993-02-01       0   50.0     SOLD  ...       US  United States  1993-02-01\n",
              "1994-02-01       0   58.0     SOLD  ...       US  United States  1994-02-01\n",
              "1995-02-01       0   47.0     SOLD  ...       US  United States  1995-02-01\n",
              "1996-02-01       0   68.0     SOLD  ...       US  United States  1996-02-01\n",
              "1997-02-01       0   69.0     SOLD  ...       US  United States  1997-02-01\n",
              "1998-02-01       0   75.0     SOLD  ...       US  United States  1998-02-01\n",
              "1999-02-01       0   76.0     SOLD  ...       US  United States  1999-02-01\n",
              "2000-02-01       0   78.0     SOLD  ...       US  United States  2000-02-01\n",
              "2001-02-01       0   85.0     SOLD  ...       US  United States  2001-02-01\n",
              "2002-02-01       0   84.0     SOLD  ...       US  United States  2002-02-01\n",
              "2003-02-01       0   82.0     SOLD  ...       US  United States  2003-02-01\n",
              "2004-02-01       0  102.0     SOLD  ...       US  United States  2004-02-01\n",
              "2005-02-01       0  109.0     SOLD  ...       US  United States  2005-02-01\n",
              "2006-02-01       0   88.0     SOLD  ...       US  United States  2006-02-01\n",
              "2007-02-01       0   68.0     SOLD  ...       US  United States  2007-02-01\n",
              "2008-02-01       0   48.0     SOLD  ...       US  United States  2008-02-01\n",
              "2009-02-01       0   29.0     SOLD  ...       US  United States  2009-02-01\n",
              "2010-02-01       0   27.0     SOLD  ...       US  United States  2010-02-01\n",
              "2011-02-01       0   22.0     SOLD  ...       US  United States  2011-02-01\n",
              "2012-02-01       0   30.0     SOLD  ...       US  United States  2012-02-01\n",
              "2013-02-01       0   36.0     SOLD  ...       US  United States  2013-02-01\n",
              "2014-02-01       0   35.0     SOLD  ...       US  United States  2014-02-01\n",
              "2015-02-01       0   45.0     SOLD  ...       US  United States  2015-02-01\n",
              "2016-02-01       0   45.0     SOLD  ...       US  United States  2016-02-01\n",
              "\n",
              "[54 rows x 11 columns]"
            ]
          },
          "metadata": {
            "tags": []
          },
          "execution_count": 20
        }
      ]
    },
    {
      "cell_type": "markdown",
      "metadata": {
        "id": "qrt8PNaSkFZU",
        "colab_type": "text"
      },
      "source": [
        "### Συγκεκριμένους μήνες"
      ]
    },
    {
      "cell_type": "code",
      "metadata": {
        "id": "HO_OmtGHkFZV",
        "colab_type": "code",
        "colab": {
          "base_uri": "https://localhost:8080/",
          "height": 1000
        },
        "outputId": "358856b0-3e7f-4393-ece2-68843ecbc31d"
      },
      "source": [
        "df[df.index.month.isin([6,7,8])]"
      ],
      "execution_count": 21,
      "outputs": [
        {
          "output_type": "execute_result",
          "data": {
            "text/html": [
              "<div>\n",
              "<style scoped>\n",
              "    .dataframe tbody tr th:only-of-type {\n",
              "        vertical-align: middle;\n",
              "    }\n",
              "\n",
              "    .dataframe tbody tr th {\n",
              "        vertical-align: top;\n",
              "    }\n",
              "\n",
              "    .dataframe thead th {\n",
              "        text-align: right;\n",
              "    }\n",
              "</style>\n",
              "<table border=\"1\" class=\"dataframe\">\n",
              "  <thead>\n",
              "    <tr style=\"text-align: right;\">\n",
              "      <th></th>\n",
              "      <th>is_adj</th>\n",
              "      <th>val</th>\n",
              "      <th>cat_code</th>\n",
              "      <th>cat_desc</th>\n",
              "      <th>cat_indent</th>\n",
              "      <th>dt_code</th>\n",
              "      <th>dt_desc</th>\n",
              "      <th>dt_unit</th>\n",
              "      <th>geo_code</th>\n",
              "      <th>geo_desc</th>\n",
              "      <th>per_name</th>\n",
              "    </tr>\n",
              "    <tr>\n",
              "      <th>date</th>\n",
              "      <th></th>\n",
              "      <th></th>\n",
              "      <th></th>\n",
              "      <th></th>\n",
              "      <th></th>\n",
              "      <th></th>\n",
              "      <th></th>\n",
              "      <th></th>\n",
              "      <th></th>\n",
              "      <th></th>\n",
              "      <th></th>\n",
              "    </tr>\n",
              "  </thead>\n",
              "  <tbody>\n",
              "    <tr>\n",
              "      <th>1963-06-01</th>\n",
              "      <td>0</td>\n",
              "      <td>48.0</td>\n",
              "      <td>SOLD</td>\n",
              "      <td>New Single-family Houses Sold</td>\n",
              "      <td>0</td>\n",
              "      <td>TOTAL</td>\n",
              "      <td>All Houses</td>\n",
              "      <td>K</td>\n",
              "      <td>US</td>\n",
              "      <td>United States</td>\n",
              "      <td>1963-06-01</td>\n",
              "    </tr>\n",
              "    <tr>\n",
              "      <th>1963-07-01</th>\n",
              "      <td>0</td>\n",
              "      <td>62.0</td>\n",
              "      <td>SOLD</td>\n",
              "      <td>New Single-family Houses Sold</td>\n",
              "      <td>0</td>\n",
              "      <td>TOTAL</td>\n",
              "      <td>All Houses</td>\n",
              "      <td>K</td>\n",
              "      <td>US</td>\n",
              "      <td>United States</td>\n",
              "      <td>1963-07-01</td>\n",
              "    </tr>\n",
              "    <tr>\n",
              "      <th>1963-08-01</th>\n",
              "      <td>0</td>\n",
              "      <td>56.0</td>\n",
              "      <td>SOLD</td>\n",
              "      <td>New Single-family Houses Sold</td>\n",
              "      <td>0</td>\n",
              "      <td>TOTAL</td>\n",
              "      <td>All Houses</td>\n",
              "      <td>K</td>\n",
              "      <td>US</td>\n",
              "      <td>United States</td>\n",
              "      <td>1963-08-01</td>\n",
              "    </tr>\n",
              "    <tr>\n",
              "      <th>1964-06-01</th>\n",
              "      <td>0</td>\n",
              "      <td>53.0</td>\n",
              "      <td>SOLD</td>\n",
              "      <td>New Single-family Houses Sold</td>\n",
              "      <td>0</td>\n",
              "      <td>TOTAL</td>\n",
              "      <td>All Houses</td>\n",
              "      <td>K</td>\n",
              "      <td>US</td>\n",
              "      <td>United States</td>\n",
              "      <td>1964-06-01</td>\n",
              "    </tr>\n",
              "    <tr>\n",
              "      <th>1964-07-01</th>\n",
              "      <td>0</td>\n",
              "      <td>54.0</td>\n",
              "      <td>SOLD</td>\n",
              "      <td>New Single-family Houses Sold</td>\n",
              "      <td>0</td>\n",
              "      <td>TOTAL</td>\n",
              "      <td>All Houses</td>\n",
              "      <td>K</td>\n",
              "      <td>US</td>\n",
              "      <td>United States</td>\n",
              "      <td>1964-07-01</td>\n",
              "    </tr>\n",
              "    <tr>\n",
              "      <th>...</th>\n",
              "      <td>...</td>\n",
              "      <td>...</td>\n",
              "      <td>...</td>\n",
              "      <td>...</td>\n",
              "      <td>...</td>\n",
              "      <td>...</td>\n",
              "      <td>...</td>\n",
              "      <td>...</td>\n",
              "      <td>...</td>\n",
              "      <td>...</td>\n",
              "      <td>...</td>\n",
              "    </tr>\n",
              "    <tr>\n",
              "      <th>2014-07-01</th>\n",
              "      <td>0</td>\n",
              "      <td>35.0</td>\n",
              "      <td>SOLD</td>\n",
              "      <td>New Single-family Houses Sold</td>\n",
              "      <td>0</td>\n",
              "      <td>TOTAL</td>\n",
              "      <td>All Houses</td>\n",
              "      <td>K</td>\n",
              "      <td>US</td>\n",
              "      <td>United States</td>\n",
              "      <td>2014-07-01</td>\n",
              "    </tr>\n",
              "    <tr>\n",
              "      <th>2014-08-01</th>\n",
              "      <td>0</td>\n",
              "      <td>36.0</td>\n",
              "      <td>SOLD</td>\n",
              "      <td>New Single-family Houses Sold</td>\n",
              "      <td>0</td>\n",
              "      <td>TOTAL</td>\n",
              "      <td>All Houses</td>\n",
              "      <td>K</td>\n",
              "      <td>US</td>\n",
              "      <td>United States</td>\n",
              "      <td>2014-08-01</td>\n",
              "    </tr>\n",
              "    <tr>\n",
              "      <th>2015-06-01</th>\n",
              "      <td>0</td>\n",
              "      <td>44.0</td>\n",
              "      <td>SOLD</td>\n",
              "      <td>New Single-family Houses Sold</td>\n",
              "      <td>0</td>\n",
              "      <td>TOTAL</td>\n",
              "      <td>All Houses</td>\n",
              "      <td>K</td>\n",
              "      <td>US</td>\n",
              "      <td>United States</td>\n",
              "      <td>2015-06-01</td>\n",
              "    </tr>\n",
              "    <tr>\n",
              "      <th>2015-07-01</th>\n",
              "      <td>0</td>\n",
              "      <td>43.0</td>\n",
              "      <td>SOLD</td>\n",
              "      <td>New Single-family Houses Sold</td>\n",
              "      <td>0</td>\n",
              "      <td>TOTAL</td>\n",
              "      <td>All Houses</td>\n",
              "      <td>K</td>\n",
              "      <td>US</td>\n",
              "      <td>United States</td>\n",
              "      <td>2015-07-01</td>\n",
              "    </tr>\n",
              "    <tr>\n",
              "      <th>2015-08-01</th>\n",
              "      <td>0</td>\n",
              "      <td>41.0</td>\n",
              "      <td>SOLD</td>\n",
              "      <td>New Single-family Houses Sold</td>\n",
              "      <td>0</td>\n",
              "      <td>TOTAL</td>\n",
              "      <td>All Houses</td>\n",
              "      <td>K</td>\n",
              "      <td>US</td>\n",
              "      <td>United States</td>\n",
              "      <td>2015-08-01</td>\n",
              "    </tr>\n",
              "  </tbody>\n",
              "</table>\n",
              "<p>159 rows × 11 columns</p>\n",
              "</div>"
            ],
            "text/plain": [
              "            is_adj   val cat_code  ... geo_code       geo_desc    per_name\n",
              "date                               ...                                    \n",
              "1963-06-01       0  48.0     SOLD  ...       US  United States  1963-06-01\n",
              "1963-07-01       0  62.0     SOLD  ...       US  United States  1963-07-01\n",
              "1963-08-01       0  56.0     SOLD  ...       US  United States  1963-08-01\n",
              "1964-06-01       0  53.0     SOLD  ...       US  United States  1964-06-01\n",
              "1964-07-01       0  54.0     SOLD  ...       US  United States  1964-07-01\n",
              "...            ...   ...      ...  ...      ...            ...         ...\n",
              "2014-07-01       0  35.0     SOLD  ...       US  United States  2014-07-01\n",
              "2014-08-01       0  36.0     SOLD  ...       US  United States  2014-08-01\n",
              "2015-06-01       0  44.0     SOLD  ...       US  United States  2015-06-01\n",
              "2015-07-01       0  43.0     SOLD  ...       US  United States  2015-07-01\n",
              "2015-08-01       0  41.0     SOLD  ...       US  United States  2015-08-01\n",
              "\n",
              "[159 rows x 11 columns]"
            ]
          },
          "metadata": {
            "tags": []
          },
          "execution_count": 21
        }
      ]
    },
    {
      "cell_type": "markdown",
      "metadata": {
        "id": "dSUYT22GkFZa",
        "colab_type": "text"
      },
      "source": [
        "# Έχουμε πλέον time series τα οποία μπορούμε να οπτικοποιήσουμε!\n",
        "\n",
        "Πάντα όταν χρησιμοποιούμε το `.plot`, τα Pandas θα χρησιμοποιήσουν αυτόματα το index (η ημερομηνία) ως άξονα x για εσάς. Αυτό είναι τέλειο γιατί εσείς δεν έχετε να κάνετε τίποτα "
      ]
    },
    {
      "cell_type": "code",
      "metadata": {
        "id": "v5-IZRqFkFZa",
        "colab_type": "code",
        "colab": {
          "base_uri": "https://localhost:8080/",
          "height": 298
        },
        "outputId": "77372f91-433c-48d2-8c83-babbd451c6ae"
      },
      "source": [
        "df['1990':'1999'].plot(y='val')"
      ],
      "execution_count": 22,
      "outputs": [
        {
          "output_type": "execute_result",
          "data": {
            "text/plain": [
              "<matplotlib.axes._subplots.AxesSubplot at 0x7f549bc51198>"
            ]
          },
          "metadata": {
            "tags": []
          },
          "execution_count": 22
        },
        {
          "output_type": "display_data",
          "data": {
            "image/png": "[encoded data removed]",
            "text/plain": [
              "<Figure size 432x288 with 1 Axes>"
            ]
          },
          "metadata": {
            "tags": [],
            "needs_background": "light"
          }
        }
      ]
    },
    {
      "cell_type": "code",
      "metadata": {
        "id": "nkXpANKYkFZh",
        "colab_type": "code",
        "colab": {
          "base_uri": "https://localhost:8080/",
          "height": 298
        },
        "outputId": "fbf6afe5-fe9a-4b88-a2f2-70d1a8c6298a"
      },
      "source": [
        "df.plot(y='val')"
      ],
      "execution_count": 23,
      "outputs": [
        {
          "output_type": "execute_result",
          "data": {
            "text/plain": [
              "<matplotlib.axes._subplots.AxesSubplot at 0x7f549bc510f0>"
            ]
          },
          "metadata": {
            "tags": []
          },
          "execution_count": 23
        },
        {
          "output_type": "display_data",
          "data": {
            "image/png": "[encoded data removed]",
            "text/plain": [
              "<Figure size 432x288 with 1 Axes>"
            ]
          },
          "metadata": {
            "tags": [],
            "needs_background": "light"
          }
        }
      ]
    },
    {
      "cell_type": "markdown",
      "metadata": {
        "id": "XowaEaNSkFZo",
        "colab_type": "text"
      },
      "source": [
        "## Ομαδοποίηση με το resample και όχι με το groupby"
      ]
    },
    {
      "cell_type": "markdown",
      "metadata": {
        "id": "MjRubTaAkFZq",
        "colab_type": "text"
      },
      "source": [
        "Φαίνεται ότι κάτι κακό θα μπορούσε να έχει συμβεί στη βιομηχανία της στέγασης σε κάποιο σημείο. Ίσως θέλουμε να δούμε μερικούς αριθμούς αντί για ένα γράφημα; Για να κάνουμε συγκεντρωτικά στατιστικά στοιχεία σχετικά με τις χρονοσειρές σε pandas χρησιμοποιούμε μια μέθοδο που ονομάζεται `.resample()` και του ζητάμε να κάνει **group τα δεδομένα ανά χρονιά.**\n",
        "\n",
        "Για να ομοαδοποιήσουμε με βάση τον χρόνο θέλουμε ένα **special κώδικα**. Εγώ τον πήρα από εδώ http://stackoverflow.com/a/17001474 "
      ]
    },
    {
      "cell_type": "code",
      "metadata": {
        "id": "ei65Q013kFZq",
        "colab_type": "code",
        "colab": {
          "base_uri": "https://localhost:8080/",
          "height": 300
        },
        "outputId": "2e20137a-4aa0-48fa-9b56-30b9f2002927"
      },
      "source": [
        "df.resample('A').mean().plot(y='val')"
      ],
      "execution_count": 24,
      "outputs": [
        {
          "output_type": "execute_result",
          "data": {
            "text/plain": [
              "<matplotlib.axes._subplots.AxesSubplot at 0x7f54a6bae748>"
            ]
          },
          "metadata": {
            "tags": []
          },
          "execution_count": 24
        },
        {
          "output_type": "display_data",
          "data": {
            "image/png": "[encoded data removed]",
            "text/plain": [
              "<Figure size 432x288 with 1 Axes>"
            ]
          },
          "metadata": {
            "tags": [],
            "needs_background": "light"
          }
        }
      ]
    },
    {
      "cell_type": "code",
      "metadata": {
        "id": "dD24z0JDkFZw",
        "colab_type": "code",
        "colab": {
          "base_uri": "https://localhost:8080/",
          "height": 300
        },
        "outputId": "11dd04a7-da03-4235-b81c-765d67eb1bd5"
      },
      "source": [
        "df['val'].resample('A').mean().plot() #BEST"
      ],
      "execution_count": 25,
      "outputs": [
        {
          "output_type": "execute_result",
          "data": {
            "text/plain": [
              "<matplotlib.axes._subplots.AxesSubplot at 0x7f549b5cbe48>"
            ]
          },
          "metadata": {
            "tags": []
          },
          "execution_count": 25
        },
        {
          "output_type": "display_data",
          "data": {
            "image/png": "[encoded data removed]",
            "text/plain": [
              "<Figure size 432x288 with 1 Axes>"
            ]
          },
          "metadata": {
            "tags": [],
            "needs_background": "light"
          }
        }
      ]
    },
    {
      "cell_type": "code",
      "metadata": {
        "id": "pjpucJhykFZ1",
        "colab_type": "code",
        "colab": {
          "base_uri": "https://localhost:8080/",
          "height": 298
        },
        "outputId": "8899b8e7-8288-4e87-ad8a-67a8edfd2465"
      },
      "source": [
        "df['val'].resample('3A').mean().plot()"
      ],
      "execution_count": 26,
      "outputs": [
        {
          "output_type": "execute_result",
          "data": {
            "text/plain": [
              "<matplotlib.axes._subplots.AxesSubplot at 0x7f549bb55518>"
            ]
          },
          "metadata": {
            "tags": []
          },
          "execution_count": 26
        },
        {
          "output_type": "display_data",
          "data": {
            "image/png": "[encoded data removed]",
            "text/plain": [
              "<Figure size 432x288 with 1 Axes>"
            ]
          },
          "metadata": {
            "tags": [],
            "needs_background": "light"
          }
        }
      ]
    },
    {
      "cell_type": "code",
      "metadata": {
        "id": "VAj4iL3bkFZ7",
        "colab_type": "code",
        "colab": {
          "base_uri": "https://localhost:8080/",
          "height": 298
        },
        "outputId": "c9984d6c-52ae-4db1-bbcd-fcc1cca3f7a1"
      },
      "source": [
        "df['val'].resample('2Q').mean().plot() #twice a year"
      ],
      "execution_count": 27,
      "outputs": [
        {
          "output_type": "execute_result",
          "data": {
            "text/plain": [
              "<matplotlib.axes._subplots.AxesSubplot at 0x7f549b63ff28>"
            ]
          },
          "metadata": {
            "tags": []
          },
          "execution_count": 27
        },
        {
          "output_type": "display_data",
          "data": {
            "image/png": "[encoded data removed]",
            "text/plain": [
              "<Figure size 432x288 with 1 Axes>"
            ]
          },
          "metadata": {
            "tags": [],
            "needs_background": "light"
          }
        }
      ]
    },
    {
      "cell_type": "markdown",
      "metadata": {
        "id": "YeyhsL3-kFZ_",
        "colab_type": "text"
      },
      "source": [
        "Notice that it's **December of every year**. That still looks like too much data, though. What if we back out to every decade?"
      ]
    },
    {
      "cell_type": "code",
      "metadata": {
        "id": "0LLI5gVZkFaB",
        "colab_type": "code",
        "colab": {
          "base_uri": "https://localhost:8080/",
          "height": 298
        },
        "outputId": "ef769ebd-1632-4e87-c3d8-b29ad7df9d03"
      },
      "source": [
        "df['val'].resample('9M').mean().plot()"
      ],
      "execution_count": 28,
      "outputs": [
        {
          "output_type": "execute_result",
          "data": {
            "text/plain": [
              "<matplotlib.axes._subplots.AxesSubplot at 0x7f549b5a29b0>"
            ]
          },
          "metadata": {
            "tags": []
          },
          "execution_count": 28
        },
        {
          "output_type": "display_data",
          "data": {
            "image/png": "[encoded data removed]",
            "text/plain": [
              "<Figure size 432x288 with 1 Axes>"
            ]
          },
          "metadata": {
            "tags": [],
            "needs_background": "light"
          }
        }
      ]
    },
    {
      "cell_type": "markdown",
      "metadata": {
        "id": "unHBAcJWkFaF",
        "colab_type": "text"
      },
      "source": [
        "### Γραφήματα\n",
        "Μπορούμε να φτιάξουμε πιο περίτεχνα γραφήματα!"
      ]
    },
    {
      "cell_type": "code",
      "metadata": {
        "id": "P8h7E00JkFaF",
        "colab_type": "code",
        "colab": {}
      },
      "source": [
        "import matplotlib.pyplot as plt\n",
        "plt.style.use('ggplot')"
      ],
      "execution_count": 0,
      "outputs": []
    },
    {
      "cell_type": "markdown",
      "metadata": {
        "id": "3IpWDSaokFaJ",
        "colab_type": "text"
      },
      "source": [
        "### Όλα σε ένα plot\n",
        "\n",
        "Το έχουμε ξαναδοκιμάσει, αλλά τώρα είναι ακόμα πιο ωραίο αυτό που θα δ=φτιάξουμε! Θυμηθείτε ότι σώζουμε το πρώτο plot ως `ax` και μετά το περνάμε στο επόμενο ως `ax=ax`."
      ]
    },
    {
      "cell_type": "code",
      "metadata": {
        "id": "nTbF7ZZRkFaK",
        "colab_type": "code",
        "colab": {
          "base_uri": "https://localhost:8080/",
          "height": 301
        },
        "outputId": "8ad8fc7b-099d-42a6-e459-90dd1bc6fbd2"
      },
      "source": [
        "df['val'].plot()\n",
        "df['val'].resample('A').mean().plot()\n",
        "df['val'].resample('5A').mean().plot()"
      ],
      "execution_count": 30,
      "outputs": [
        {
          "output_type": "execute_result",
          "data": {
            "text/plain": [
              "<matplotlib.axes._subplots.AxesSubplot at 0x7f549b496ba8>"
            ]
          },
          "metadata": {
            "tags": []
          },
          "execution_count": 30
        },
        {
          "output_type": "display_data",
          "data": {
            "image/png": "[encoded data removed]",
            "text/plain": [
              "<Figure size 432x288 with 1 Axes>"
            ]
          },
          "metadata": {
            "tags": []
          }
        }
      ]
    },
    {
      "cell_type": "markdown",
      "metadata": {
        "id": "KCF_LeGjkFaS",
        "colab_type": "text"
      },
      "source": [
        "##  Πολλές φορές για να ερευνήσουμε ένα φαινόμενο κοιτάμε την εποχικότητα \n",
        "\n",
        "### Ποιοι ήταν οι 5 χειρότεροι μήνες?"
      ]
    },
    {
      "cell_type": "code",
      "metadata": {
        "id": "C5TF6D3TkFaU",
        "colab_type": "code",
        "colab": {
          "base_uri": "https://localhost:8080/",
          "height": 605
        },
        "outputId": "d7bf2788-5cb7-4843-9e18-ef147091bcd4"
      },
      "source": [
        "df.sort_values(by='val').head()"
      ],
      "execution_count": 31,
      "outputs": [
        {
          "output_type": "execute_result",
          "data": {
            "text/html": [
              "<div>\n",
              "<style scoped>\n",
              "    .dataframe tbody tr th:only-of-type {\n",
              "        vertical-align: middle;\n",
              "    }\n",
              "\n",
              "    .dataframe tbody tr th {\n",
              "        vertical-align: top;\n",
              "    }\n",
              "\n",
              "    .dataframe thead th {\n",
              "        text-align: right;\n",
              "    }\n",
              "</style>\n",
              "<table border=\"1\" class=\"dataframe\">\n",
              "  <thead>\n",
              "    <tr style=\"text-align: right;\">\n",
              "      <th></th>\n",
              "      <th>is_adj</th>\n",
              "      <th>val</th>\n",
              "      <th>cat_code</th>\n",
              "      <th>cat_desc</th>\n",
              "      <th>cat_indent</th>\n",
              "      <th>dt_code</th>\n",
              "      <th>dt_desc</th>\n",
              "      <th>dt_unit</th>\n",
              "      <th>geo_code</th>\n",
              "      <th>geo_desc</th>\n",
              "      <th>per_name</th>\n",
              "    </tr>\n",
              "    <tr>\n",
              "      <th>date</th>\n",
              "      <th></th>\n",
              "      <th></th>\n",
              "      <th></th>\n",
              "      <th></th>\n",
              "      <th></th>\n",
              "      <th></th>\n",
              "      <th></th>\n",
              "      <th></th>\n",
              "      <th></th>\n",
              "      <th></th>\n",
              "      <th></th>\n",
              "    </tr>\n",
              "  </thead>\n",
              "  <tbody>\n",
              "    <tr>\n",
              "      <th>2010-11-01</th>\n",
              "      <td>0</td>\n",
              "      <td>20.0</td>\n",
              "      <td>SOLD</td>\n",
              "      <td>New Single-family Houses Sold</td>\n",
              "      <td>0</td>\n",
              "      <td>TOTAL</td>\n",
              "      <td>All Houses</td>\n",
              "      <td>K</td>\n",
              "      <td>US</td>\n",
              "      <td>United States</td>\n",
              "      <td>2010-11-01</td>\n",
              "    </tr>\n",
              "    <tr>\n",
              "      <th>2011-01-01</th>\n",
              "      <td>0</td>\n",
              "      <td>21.0</td>\n",
              "      <td>SOLD</td>\n",
              "      <td>New Single-family Houses Sold</td>\n",
              "      <td>0</td>\n",
              "      <td>TOTAL</td>\n",
              "      <td>All Houses</td>\n",
              "      <td>K</td>\n",
              "      <td>US</td>\n",
              "      <td>United States</td>\n",
              "      <td>2011-01-01</td>\n",
              "    </tr>\n",
              "    <tr>\n",
              "      <th>2011-02-01</th>\n",
              "      <td>0</td>\n",
              "      <td>22.0</td>\n",
              "      <td>SOLD</td>\n",
              "      <td>New Single-family Houses Sold</td>\n",
              "      <td>0</td>\n",
              "      <td>TOTAL</td>\n",
              "      <td>All Houses</td>\n",
              "      <td>K</td>\n",
              "      <td>US</td>\n",
              "      <td>United States</td>\n",
              "      <td>2011-02-01</td>\n",
              "    </tr>\n",
              "    <tr>\n",
              "      <th>2010-08-01</th>\n",
              "      <td>0</td>\n",
              "      <td>23.0</td>\n",
              "      <td>SOLD</td>\n",
              "      <td>New Single-family Houses Sold</td>\n",
              "      <td>0</td>\n",
              "      <td>TOTAL</td>\n",
              "      <td>All Houses</td>\n",
              "      <td>K</td>\n",
              "      <td>US</td>\n",
              "      <td>United States</td>\n",
              "      <td>2010-08-01</td>\n",
              "    </tr>\n",
              "    <tr>\n",
              "      <th>2010-10-01</th>\n",
              "      <td>0</td>\n",
              "      <td>23.0</td>\n",
              "      <td>SOLD</td>\n",
              "      <td>New Single-family Houses Sold</td>\n",
              "      <td>0</td>\n",
              "      <td>TOTAL</td>\n",
              "      <td>All Houses</td>\n",
              "      <td>K</td>\n",
              "      <td>US</td>\n",
              "      <td>United States</td>\n",
              "      <td>2010-10-01</td>\n",
              "    </tr>\n",
              "  </tbody>\n",
              "</table>\n",
              "</div>"
            ],
            "text/plain": [
              "            is_adj   val cat_code  ... geo_code       geo_desc    per_name\n",
              "date                               ...                                    \n",
              "2010-11-01       0  20.0     SOLD  ...       US  United States  2010-11-01\n",
              "2011-01-01       0  21.0     SOLD  ...       US  United States  2011-01-01\n",
              "2011-02-01       0  22.0     SOLD  ...       US  United States  2011-02-01\n",
              "2010-08-01       0  23.0     SOLD  ...       US  United States  2010-08-01\n",
              "2010-10-01       0  23.0     SOLD  ...       US  United States  2010-10-01\n",
              "\n",
              "[5 rows x 11 columns]"
            ]
          },
          "metadata": {
            "tags": []
          },
          "execution_count": 31
        }
      ]
    },
    {
      "cell_type": "markdown",
      "metadata": {
        "id": "s5_dp3mLkFaZ",
        "colab_type": "text"
      },
      "source": [
        "Φαίνεται σαν να υπάρχει ένας κύκλος κάθε χρόνο. Ίσως τα σπίτια πωλούνται το καλοκαίρι και όχι το χειμώνα; Για να γίνει αυτό δεν μπορούμε να χρησιμοποιήσουμε το resample, αλλά πρέπει να **ομάδοποιήσουμε ανά μήνα**\n",
        "\n",
        "### Παίρνουμε το μήνα"
      ]
    },
    {
      "cell_type": "code",
      "metadata": {
        "id": "LRt6F-zwkFaa",
        "colab_type": "code",
        "colab": {
          "base_uri": "https://localhost:8080/",
          "height": 92
        },
        "outputId": "08bd60ab-e1a5-4003-f931-be9da96311fc"
      },
      "source": [
        "df.index.month"
      ],
      "execution_count": 32,
      "outputs": [
        {
          "output_type": "execute_result",
          "data": {
            "text/plain": [
              "Int64Index([ 1,  2,  3,  4,  5,  6,  7,  8,  9, 10,\n",
              "            ...\n",
              "             8,  9, 10, 11, 12,  1,  2,  3,  4,  5],\n",
              "           dtype='int64', name='date', length=641)"
            ]
          },
          "metadata": {
            "tags": []
          },
          "execution_count": 32
        }
      ]
    },
    {
      "cell_type": "markdown",
      "metadata": {
        "id": "CYL6ApeTkFae",
        "colab_type": "text"
      },
      "source": [
        "Δεν μπορούμε να ζητήσουμε τη στήλη ευρετηρίου/index ως \"year\" πια, αλλά μπορούμε να χρησιμοποιήσουμε μόνο `df.index`."
      ]
    },
    {
      "cell_type": "code",
      "metadata": {
        "id": "HeY71DadkFae",
        "colab_type": "code",
        "colab": {
          "base_uri": "https://localhost:8080/",
          "height": 457
        },
        "outputId": "201956e9-449d-451d-ddd6-bff4f201eb9a"
      },
      "source": [
        "df.groupby(by=df.index.month).mean() #μπορούμε να ψάξουμε με μήνα, βδομάδα, μέρα"
      ],
      "execution_count": 33,
      "outputs": [
        {
          "output_type": "execute_result",
          "data": {
            "text/html": [
              "<div>\n",
              "<style scoped>\n",
              "    .dataframe tbody tr th:only-of-type {\n",
              "        vertical-align: middle;\n",
              "    }\n",
              "\n",
              "    .dataframe tbody tr th {\n",
              "        vertical-align: top;\n",
              "    }\n",
              "\n",
              "    .dataframe thead th {\n",
              "        text-align: right;\n",
              "    }\n",
              "</style>\n",
              "<table border=\"1\" class=\"dataframe\">\n",
              "  <thead>\n",
              "    <tr style=\"text-align: right;\">\n",
              "      <th></th>\n",
              "      <th>is_adj</th>\n",
              "      <th>val</th>\n",
              "      <th>cat_indent</th>\n",
              "    </tr>\n",
              "    <tr>\n",
              "      <th>date</th>\n",
              "      <th></th>\n",
              "      <th></th>\n",
              "      <th></th>\n",
              "    </tr>\n",
              "  </thead>\n",
              "  <tbody>\n",
              "    <tr>\n",
              "      <th>1</th>\n",
              "      <td>0</td>\n",
              "      <td>47.685185</td>\n",
              "      <td>0</td>\n",
              "    </tr>\n",
              "    <tr>\n",
              "      <th>2</th>\n",
              "      <td>0</td>\n",
              "      <td>53.592593</td>\n",
              "      <td>0</td>\n",
              "    </tr>\n",
              "    <tr>\n",
              "      <th>3</th>\n",
              "      <td>0</td>\n",
              "      <td>62.685185</td>\n",
              "      <td>0</td>\n",
              "    </tr>\n",
              "    <tr>\n",
              "      <th>4</th>\n",
              "      <td>0</td>\n",
              "      <td>61.444444</td>\n",
              "      <td>0</td>\n",
              "    </tr>\n",
              "    <tr>\n",
              "      <th>5</th>\n",
              "      <td>0</td>\n",
              "      <td>61.129630</td>\n",
              "      <td>0</td>\n",
              "    </tr>\n",
              "    <tr>\n",
              "      <th>6</th>\n",
              "      <td>0</td>\n",
              "      <td>59.188679</td>\n",
              "      <td>0</td>\n",
              "    </tr>\n",
              "    <tr>\n",
              "      <th>7</th>\n",
              "      <td>0</td>\n",
              "      <td>56.735849</td>\n",
              "      <td>0</td>\n",
              "    </tr>\n",
              "    <tr>\n",
              "      <th>8</th>\n",
              "      <td>0</td>\n",
              "      <td>57.566038</td>\n",
              "      <td>0</td>\n",
              "    </tr>\n",
              "    <tr>\n",
              "      <th>9</th>\n",
              "      <td>0</td>\n",
              "      <td>52.037736</td>\n",
              "      <td>0</td>\n",
              "    </tr>\n",
              "    <tr>\n",
              "      <th>10</th>\n",
              "      <td>0</td>\n",
              "      <td>51.584906</td>\n",
              "      <td>0</td>\n",
              "    </tr>\n",
              "    <tr>\n",
              "      <th>11</th>\n",
              "      <td>0</td>\n",
              "      <td>45.471698</td>\n",
              "      <td>0</td>\n",
              "    </tr>\n",
              "    <tr>\n",
              "      <th>12</th>\n",
              "      <td>0</td>\n",
              "      <td>42.792453</td>\n",
              "      <td>0</td>\n",
              "    </tr>\n",
              "  </tbody>\n",
              "</table>\n",
              "</div>"
            ],
            "text/plain": [
              "      is_adj        val  cat_indent\n",
              "date                               \n",
              "1          0  47.685185           0\n",
              "2          0  53.592593           0\n",
              "3          0  62.685185           0\n",
              "4          0  61.444444           0\n",
              "5          0  61.129630           0\n",
              "6          0  59.188679           0\n",
              "7          0  56.735849           0\n",
              "8          0  57.566038           0\n",
              "9          0  52.037736           0\n",
              "10         0  51.584906           0\n",
              "11         0  45.471698           0\n",
              "12         0  42.792453           0"
            ]
          },
          "metadata": {
            "tags": []
          },
          "execution_count": 33
        }
      ]
    },
    {
      "cell_type": "code",
      "metadata": {
        "id": "tjFWe8FmkFai",
        "colab_type": "code",
        "colab": {
          "base_uri": "https://localhost:8080/",
          "height": 301
        },
        "outputId": "fdfe2580-a72f-45cc-bf61-e51664fd157c"
      },
      "source": [
        "df.groupby(by=df.index.month).mean().plot()"
      ],
      "execution_count": 34,
      "outputs": [
        {
          "output_type": "execute_result",
          "data": {
            "text/plain": [
              "<matplotlib.axes._subplots.AxesSubplot at 0x7f549b652048>"
            ]
          },
          "metadata": {
            "tags": []
          },
          "execution_count": 34
        },
        {
          "output_type": "display_data",
          "data": {
            "image/png": "[encoded data removed]",
            "text/plain": [
              "<Figure size 432x288 with 1 Axes>"
            ]
          },
          "metadata": {
            "tags": []
          }
        }
      ]
    },
    {
      "cell_type": "code",
      "metadata": {
        "id": "W77NXDcykFan",
        "colab_type": "code",
        "colab": {
          "base_uri": "https://localhost:8080/",
          "height": 300
        },
        "outputId": "b85d5baa-fc84-439a-d1a1-7a4a71faa8b1"
      },
      "source": [
        "df.groupby(by=df.index.dayofweek).mean() "
      ],
      "execution_count": 35,
      "outputs": [
        {
          "output_type": "execute_result",
          "data": {
            "text/html": [
              "<div>\n",
              "<style scoped>\n",
              "    .dataframe tbody tr th:only-of-type {\n",
              "        vertical-align: middle;\n",
              "    }\n",
              "\n",
              "    .dataframe tbody tr th {\n",
              "        vertical-align: top;\n",
              "    }\n",
              "\n",
              "    .dataframe thead th {\n",
              "        text-align: right;\n",
              "    }\n",
              "</style>\n",
              "<table border=\"1\" class=\"dataframe\">\n",
              "  <thead>\n",
              "    <tr style=\"text-align: right;\">\n",
              "      <th></th>\n",
              "      <th>is_adj</th>\n",
              "      <th>val</th>\n",
              "      <th>cat_indent</th>\n",
              "    </tr>\n",
              "    <tr>\n",
              "      <th>date</th>\n",
              "      <th></th>\n",
              "      <th></th>\n",
              "      <th></th>\n",
              "    </tr>\n",
              "  </thead>\n",
              "  <tbody>\n",
              "    <tr>\n",
              "      <th>0</th>\n",
              "      <td>0</td>\n",
              "      <td>54.086957</td>\n",
              "      <td>0</td>\n",
              "    </tr>\n",
              "    <tr>\n",
              "      <th>1</th>\n",
              "      <td>0</td>\n",
              "      <td>54.064516</td>\n",
              "      <td>0</td>\n",
              "    </tr>\n",
              "    <tr>\n",
              "      <th>2</th>\n",
              "      <td>0</td>\n",
              "      <td>53.956044</td>\n",
              "      <td>0</td>\n",
              "    </tr>\n",
              "    <tr>\n",
              "      <th>3</th>\n",
              "      <td>0</td>\n",
              "      <td>55.611111</td>\n",
              "      <td>0</td>\n",
              "    </tr>\n",
              "    <tr>\n",
              "      <th>4</th>\n",
              "      <td>0</td>\n",
              "      <td>53.967391</td>\n",
              "      <td>0</td>\n",
              "    </tr>\n",
              "    <tr>\n",
              "      <th>5</th>\n",
              "      <td>0</td>\n",
              "      <td>54.615385</td>\n",
              "      <td>0</td>\n",
              "    </tr>\n",
              "    <tr>\n",
              "      <th>6</th>\n",
              "      <td>0</td>\n",
              "      <td>54.173913</td>\n",
              "      <td>0</td>\n",
              "    </tr>\n",
              "  </tbody>\n",
              "</table>\n",
              "</div>"
            ],
            "text/plain": [
              "      is_adj        val  cat_indent\n",
              "date                               \n",
              "0          0  54.086957           0\n",
              "1          0  54.064516           0\n",
              "2          0  53.956044           0\n",
              "3          0  55.611111           0\n",
              "4          0  53.967391           0\n",
              "5          0  54.615385           0\n",
              "6          0  54.173913           0"
            ]
          },
          "metadata": {
            "tags": []
          },
          "execution_count": 35
        }
      ]
    },
    {
      "cell_type": "markdown",
      "metadata": {
        "id": "fj9CFA0JkFar",
        "colab_type": "text"
      },
      "source": [
        "# Για να κάνουμε \"zoum\" στο γράφημα κάνουμε groupby, για μακριά resample "
      ]
    },
    {
      "cell_type": "markdown",
      "metadata": {
        "id": "3oEkLGNIkFas",
        "colab_type": "text"
      },
      "source": [
        "Για να πάρετε το μήνα κάθε ημερομηνίας, είναι απλά `df.index.month`."
      ]
    },
    {
      "cell_type": "code",
      "metadata": {
        "id": "j_3ywK94kFat",
        "colab_type": "code",
        "colab": {
          "base_uri": "https://localhost:8080/",
          "height": 301
        },
        "outputId": "e45d8c05-8412-43f0-8596-886c876464b9"
      },
      "source": [
        "df['val'].groupby(by=df.index.month).mean().plot() "
      ],
      "execution_count": 36,
      "outputs": [
        {
          "output_type": "execute_result",
          "data": {
            "text/plain": [
              "<matplotlib.axes._subplots.AxesSubplot at 0x7f549bb00a20>"
            ]
          },
          "metadata": {
            "tags": []
          },
          "execution_count": 36
        },
        {
          "output_type": "display_data",
          "data": {
            "image/png": "[encoded data removed]",
            "text/plain": [
              "<Figure size 432x288 with 1 Axes>"
            ]
          },
          "metadata": {
            "tags": []
          }
        }
      ]
    },
    {
      "cell_type": "markdown",
      "metadata": {
        "id": "xssaT65IkFax",
        "colab_type": "text"
      },
      "source": [
        "### Κάνοντας groupby για την προβολή των δεδομένων ανά μήνα\n",
        "\n",
        "Πρακτικά όταν κάνουμε το groupby, του λέμε **έφτιαξα τις ομάδες για σένα ήδη**. Και μετά ζητάμε τον μέσο όρο των σπιτιών που πουλήθηκαν κ.λπ. "
      ]
    },
    {
      "cell_type": "markdown",
      "metadata": {
        "id": "28Wp8wsIkFaz",
        "colab_type": "text"
      },
      "source": [
        "# Περισσότερες λεπτομέρειες\n",
        "\n",
        "Μπορείτε επίσης να χρησιμοποιήσετε **max** και **min** και όλους τους άλλους κώδικες στατιστικής με το `.resample`. Για παράδειγμα, **ποιος είναι ο μεγαλύτερος αριθμός σπιτιών σε ένα δεδομένο έτος;**"
      ]
    },
    {
      "cell_type": "code",
      "metadata": {
        "id": "AX1w9tEokFaz",
        "colab_type": "code",
        "colab": {
          "base_uri": "https://localhost:8080/",
          "height": 1000
        },
        "outputId": "3132748f-9f8e-4b26-d866-281f6e1daa20"
      },
      "source": [
        "df['val'].resample('A').sum() #σύνολο πουλημένων σπιτιών"
      ],
      "execution_count": 37,
      "outputs": [
        {
          "output_type": "execute_result",
          "data": {
            "text/plain": [
              "date\n",
              "1963-12-31     560.0\n",
              "1964-12-31     565.0\n",
              "1965-12-31     575.0\n",
              "1966-12-31     461.0\n",
              "1967-12-31     488.0\n",
              "1968-12-31     490.0\n",
              "1969-12-31     449.0\n",
              "1970-12-31     486.0\n",
              "1971-12-31     657.0\n",
              "1972-12-31     718.0\n",
              "1973-12-31     633.0\n",
              "1974-12-31     519.0\n",
              "1975-12-31     550.0\n",
              "1976-12-31     647.0\n",
              "1977-12-31     820.0\n",
              "1978-12-31     818.0\n",
              "1979-12-31     709.0\n",
              "1980-12-31     545.0\n",
              "1981-12-31     436.0\n",
              "1982-12-31     413.0\n",
              "1983-12-31     622.0\n",
              "1984-12-31     639.0\n",
              "1985-12-31     688.0\n",
              "1986-12-31     748.0\n",
              "1987-12-31     672.0\n",
              "1988-12-31     675.0\n",
              "1989-12-31     650.0\n",
              "1990-12-31     535.0\n",
              "1991-12-31     507.0\n",
              "1992-12-31     608.0\n",
              "1993-12-31     666.0\n",
              "1994-12-31     670.0\n",
              "1995-12-31     665.0\n",
              "1996-12-31     758.0\n",
              "1997-12-31     805.0\n",
              "1998-12-31     885.0\n",
              "1999-12-31     881.0\n",
              "2000-12-31     877.0\n",
              "2001-12-31     909.0\n",
              "2002-12-31     972.0\n",
              "2003-12-31    1088.0\n",
              "2004-12-31    1203.0\n",
              "2005-12-31    1283.0\n",
              "2006-12-31    1052.0\n",
              "2007-12-31     776.0\n",
              "2008-12-31     485.0\n",
              "2009-12-31     374.0\n",
              "2010-12-31     322.0\n",
              "2011-12-31     305.0\n",
              "2012-12-31     369.0\n",
              "2013-12-31     429.0\n",
              "2014-12-31     439.0\n",
              "2015-12-31     501.0\n",
              "2016-12-31     241.0\n",
              "Freq: A-DEC, Name: val, dtype: float64"
            ]
          },
          "metadata": {
            "tags": []
          },
          "execution_count": 37
        }
      ]
    },
    {
      "cell_type": "code",
      "metadata": {
        "id": "OWWadINhkFa2",
        "colab_type": "code",
        "colab": {
          "base_uri": "https://localhost:8080/",
          "height": 111
        },
        "outputId": "6fcd7c01-290b-4248-a29c-5bde2333e61b"
      },
      "source": [
        "df['val'].resample('A').sum().sort_values(ascending=False).head(3)"
      ],
      "execution_count": 38,
      "outputs": [
        {
          "output_type": "execute_result",
          "data": {
            "text/plain": [
              "date\n",
              "2005-12-31    1283.0\n",
              "2004-12-31    1203.0\n",
              "2003-12-31    1088.0\n",
              "Name: val, dtype: float64"
            ]
          },
          "metadata": {
            "tags": []
          },
          "execution_count": 38
        }
      ]
    },
    {
      "cell_type": "code",
      "metadata": {
        "id": "exbtvz6RkFa7",
        "colab_type": "code",
        "colab": {
          "base_uri": "https://localhost:8080/",
          "height": 301
        },
        "outputId": "7b8b4dc8-5704-4f59-faf9-4976ba4ab7ff"
      },
      "source": [
        "df['val'].resample('A').max().plot(color='red')\n",
        "df['val'].resample('A').min().plot(color='green')\n",
        "df['val'].resample('A').mean().plot(color='blue')"
      ],
      "execution_count": 39,
      "outputs": [
        {
          "output_type": "execute_result",
          "data": {
            "text/plain": [
              "<matplotlib.axes._subplots.AxesSubplot at 0x7f549b27fc88>"
            ]
          },
          "metadata": {
            "tags": []
          },
          "execution_count": 39
        },
        {
          "output_type": "display_data",
          "data": {
            "image/png": "[encoded data removed]",
            "text/plain": [
              "<Figure size 432x288 with 1 Axes>"
            ]
          },
          "metadata": {
            "tags": []
          }
        }
      ]
    },
    {
      "cell_type": "code",
      "metadata": {
        "id": "muIXTQ3dljqR",
        "colab_type": "code",
        "colab": {}
      },
      "source": [
        ""
      ],
      "execution_count": 0,
      "outputs": []
    }
  ]
}