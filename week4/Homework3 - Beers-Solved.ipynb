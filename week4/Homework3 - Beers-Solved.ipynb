{
 "cells": [
  {
   "cell_type": "markdown",
   "metadata": {
    "collapsed": true
   },
   "source": [
    "# Μπύρες & Ζυθοποιεία"
   ]
  },
  {
   "cell_type": "markdown",
   "metadata": {},
   "source": [
    "##  Εισάγετε τις βιβλιοθήκες που θα χρειαστείτε"
   ]
  },
  {
   "cell_type": "code",
   "execution_count": 2,
   "metadata": {},
   "outputs": [],
   "source": [
    "import pandas as pd\n",
    "%matplotlib inline"
   ]
  },
  {
   "cell_type": "markdown",
   "metadata": {},
   "source": [
    "## Εισάγετε το αρχείο `craftcans.csv`, από τον φάκελο data και κοιτάξτε τις πρώτες γραμμές"
   ]
  },
  {
   "cell_type": "markdown",
   "metadata": {},
   "source": [
    "**βοήθεια** οι κενές γραμμές, δηλαδή οι τιμές NaN του συγκεκριμένου αρχείου είναι na_values = [\"???\", \"Unknown\", \"UNKNOWN\"]"
   ]
  },
  {
   "cell_type": "code",
   "execution_count": 4,
   "metadata": {},
   "outputs": [],
   "source": [
    "df= pd.read_csv(\"../craftcans.csv\", na_values = [\"???\", \"Unknown\", \"UNKNOWN\"])\n"
   ]
  },
  {
   "cell_type": "markdown",
   "metadata": {},
   "source": [
    "## Πόσες γραμμές έχει το αρχείο? Τι τύπος είναι οι στήλες?"
   ]
  },
  {
   "cell_type": "code",
   "execution_count": 4,
   "metadata": {},
   "outputs": [
    {
     "data": {
      "text/plain": [
       "(2416, 7)"
      ]
     },
     "execution_count": 4,
     "metadata": {},
     "output_type": "execute_result"
    }
   ],
   "source": [
    "df.shape"
   ]
  },
  {
   "cell_type": "code",
   "execution_count": 5,
   "metadata": {},
   "outputs": [
    {
     "data": {
      "text/html": [
       "<div>\n",
       "<style scoped>\n",
       "    .dataframe tbody tr th:only-of-type {\n",
       "        vertical-align: middle;\n",
       "    }\n",
       "\n",
       "    .dataframe tbody tr th {\n",
       "        vertical-align: top;\n",
       "    }\n",
       "\n",
       "    .dataframe thead th {\n",
       "        text-align: right;\n",
       "    }\n",
       "</style>\n",
       "<table border=\"1\" class=\"dataframe\">\n",
       "  <thead>\n",
       "    <tr style=\"text-align: right;\">\n",
       "      <th></th>\n",
       "      <th>Beer</th>\n",
       "      <th>Brewery</th>\n",
       "      <th>Location</th>\n",
       "      <th>Style</th>\n",
       "      <th>Size</th>\n",
       "      <th>ABV</th>\n",
       "      <th>IBUs</th>\n",
       "    </tr>\n",
       "  </thead>\n",
       "  <tbody>\n",
       "    <tr>\n",
       "      <th>0</th>\n",
       "      <td>Get Together</td>\n",
       "      <td>NorthGate Brewing</td>\n",
       "      <td>Minneapolis, MN</td>\n",
       "      <td>American IPA</td>\n",
       "      <td>16 oz.</td>\n",
       "      <td>4.50%</td>\n",
       "      <td>50.0</td>\n",
       "    </tr>\n",
       "    <tr>\n",
       "      <th>1</th>\n",
       "      <td>Maggie's Leap</td>\n",
       "      <td>NorthGate Brewing</td>\n",
       "      <td>Minneapolis, MN</td>\n",
       "      <td>Milk / Sweet Stout</td>\n",
       "      <td>16 oz.</td>\n",
       "      <td>4.90%</td>\n",
       "      <td>26.0</td>\n",
       "    </tr>\n",
       "    <tr>\n",
       "      <th>2</th>\n",
       "      <td>Wall's End</td>\n",
       "      <td>NorthGate Brewing</td>\n",
       "      <td>Minneapolis, MN</td>\n",
       "      <td>English Brown Ale</td>\n",
       "      <td>16 oz.</td>\n",
       "      <td>4.80%</td>\n",
       "      <td>19.0</td>\n",
       "    </tr>\n",
       "    <tr>\n",
       "      <th>3</th>\n",
       "      <td>Pumpion</td>\n",
       "      <td>NorthGate Brewing</td>\n",
       "      <td>Minneapolis, MN</td>\n",
       "      <td>Pumpkin Ale</td>\n",
       "      <td>16 oz.</td>\n",
       "      <td>6.00%</td>\n",
       "      <td>38.0</td>\n",
       "    </tr>\n",
       "    <tr>\n",
       "      <th>4</th>\n",
       "      <td>Stronghold</td>\n",
       "      <td>NorthGate Brewing</td>\n",
       "      <td>Minneapolis, MN</td>\n",
       "      <td>American Porter</td>\n",
       "      <td>16 oz.</td>\n",
       "      <td>6.00%</td>\n",
       "      <td>25.0</td>\n",
       "    </tr>\n",
       "  </tbody>\n",
       "</table>\n",
       "</div>"
      ],
      "text/plain": [
       "            Beer            Brewery         Location               Style  \\\n",
       "0   Get Together  NorthGate Brewing  Minneapolis, MN        American IPA   \n",
       "1  Maggie's Leap  NorthGate Brewing  Minneapolis, MN  Milk / Sweet Stout   \n",
       "2     Wall's End  NorthGate Brewing  Minneapolis, MN   English Brown Ale   \n",
       "3        Pumpion  NorthGate Brewing  Minneapolis, MN         Pumpkin Ale   \n",
       "4     Stronghold  NorthGate Brewing  Minneapolis, MN     American Porter   \n",
       "\n",
       "     Size    ABV  IBUs  \n",
       "0  16 oz.  4.50%  50.0  \n",
       "1  16 oz.  4.90%  26.0  \n",
       "2  16 oz.  4.80%  19.0  \n",
       "3  16 oz.  6.00%  38.0  \n",
       "4  16 oz.  6.00%  25.0  "
      ]
     },
     "execution_count": 5,
     "metadata": {},
     "output_type": "execute_result"
    }
   ],
   "source": [
    "df.head()"
   ]
  },
  {
   "cell_type": "code",
   "execution_count": 5,
   "metadata": {},
   "outputs": [
    {
     "data": {
      "text/plain": [
       "Beer         object\n",
       "Brewery      object\n",
       "Location     object\n",
       "Style        object\n",
       "Size         object\n",
       "ABV          object\n",
       "IBUs        float64\n",
       "dtype: object"
      ]
     },
     "execution_count": 5,
     "metadata": {},
     "output_type": "execute_result"
    }
   ],
   "source": [
    "df.dtypes"
   ]
  },
  {
   "cell_type": "markdown",
   "metadata": {},
   "source": [
    "# Ανάλυση ζυθοποιείων\n"
   ]
  },
  {
   "cell_type": "markdown",
   "metadata": {},
   "source": [
    "## Ποιοι είναι οι top 10 παραγωγοί μπύρας?"
   ]
  },
  {
   "cell_type": "code",
   "execution_count": 10,
   "metadata": {},
   "outputs": [
    {
     "data": {
      "text/plain": [
       "Brewery Vivant                62\n",
       "Oskar Blues Brewery           46\n",
       "Sun King Brewing Company      38\n",
       "Cigar City Brewing Company    25\n",
       "Sixpoint Craft Ales           24\n",
       "Hopworks Urban Brewery        23\n",
       "Stevens Point Brewery         22\n",
       "21st Amendment Brewery        20\n",
       "Great Crescent Brewery        20\n",
       "Name: Brewery, dtype: int64"
      ]
     },
     "execution_count": 10,
     "metadata": {},
     "output_type": "execute_result"
    }
   ],
   "source": [
    "df['Brewery'].value_counts(ascending = False)[0:9]"
   ]
  },
  {
   "cell_type": "markdown",
   "metadata": {},
   "source": [
    "## Ποιο είναι το πιο κοινό μέγεθος μπύρας?\n"
   ]
  },
  {
   "cell_type": "code",
   "execution_count": 12,
   "metadata": {},
   "outputs": [
    {
     "data": {
      "text/plain": [
       "12 oz.               1507\n",
       "16 oz.                814\n",
       "24 oz.                 21\n",
       "16 oz. Alumi-Tek®      15\n",
       "19.2 oz.               14\n",
       "12 oz                  14\n",
       "16 oz                  12\n",
       "32 oz.                  5\n",
       "24 oz. \"Silo Can\"       1\n",
       "12 ounce                1\n",
       "8.4 oz.                 1\n",
       "19.2                    1\n",
       "12 & 16 oz.             1\n",
       "16.9 oz.                1\n",
       "12 oz. Slimline         1\n",
       "12 OZ.                  1\n",
       "Name: Size, dtype: int64"
      ]
     },
     "execution_count": 12,
     "metadata": {},
     "output_type": "execute_result"
    }
   ],
   "source": [
    "df['Size'].value_counts(ascending = False)"
   ]
  },
  {
   "cell_type": "markdown",
   "metadata": {},
   "source": [
    "## Ποιο είναι το πιο συνηθισμένο ποσοστό αλκοόλ (ABV -  alcohol by volume)?\n"
   ]
  },
  {
   "cell_type": "code",
   "execution_count": 13,
   "metadata": {},
   "outputs": [
    {
     "data": {
      "text/plain": [
       "5.00%     215\n",
       "5.50%     158\n",
       "6.00%     125\n",
       "6.50%     123\n",
       "5.20%     107\n",
       "7.00%      92\n",
       "4.50%      89\n",
       "4.80%      72\n",
       "5.80%      66\n",
       "5.60%      66\n",
       "5.10%      62\n",
       "5.30%      60\n",
       "4.90%      59\n",
       "6.20%      59\n",
       "4.70%      57\n",
       "8.00%      57\n",
       "5.70%      52\n",
       "6.80%      52\n",
       "5.40%      50\n",
       "7.50%      43\n",
       "4.20%      38\n",
       "6.30%      38\n",
       "4.00%      38\n",
       "7.20%      37\n",
       "9.90%      35\n",
       "5.90%      34\n",
       "4.60%      32\n",
       "6.90%      32\n",
       "8.50%      26\n",
       "6.70%      25\n",
       "         ... \n",
       "4.10%       9\n",
       "9.50%       9\n",
       "8.30%       8\n",
       "7.40%       8\n",
       "7.90%       7\n",
       "3.80%       6\n",
       "3.50%       6\n",
       "8.80%       6\n",
       "9.60%       5\n",
       "9.30%       5\n",
       "9.70%       5\n",
       "7.60%       5\n",
       "8.60%       4\n",
       "3.70%       4\n",
       "8.10%       4\n",
       "9.10%       3\n",
       "3.20%       3\n",
       "8.40%       3\n",
       "9.80%       3\n",
       "2.70%       2\n",
       "8.90%       2\n",
       "12.50%      1\n",
       "3.40%       1\n",
       "10.40%      1\n",
       "9.40%       1\n",
       "10.00%      1\n",
       "12.00%      1\n",
       "12.80%      1\n",
       "2.80%       1\n",
       "0.10%       1\n",
       "Name: ABV, dtype: int64"
      ]
     },
     "execution_count": 13,
     "metadata": {},
     "output_type": "execute_result"
    }
   ],
   "source": [
    "df['ABV'].value_counts(ascending = False)"
   ]
  },
  {
   "cell_type": "markdown",
   "metadata": {},
   "source": [
    "## Όπως βλέπετε το ABV δεν είναι αριθμός. Μετατρέψτε το σε αριθμό. \n",
    "\n",
    "3 βήματα:\n",
    "\n",
    "1. Επιλέξτε την στήλη ABV\n",
    "2. Αφαιρέστε το σύμβολο % (**βοήθεια** μετατρέψτε το σε κενό)\n",
    "3. Μετατρέψτε την στήλη τώρα σε `float`\n",
    "4. Μπορείτε να την σώσετε με ένα νέο column ή στο ίδιο.  \n",
    "\n",
    "Σε περίπτωση που όταν εισάγατε το αρχείο δεν ορίσατε ποια είναι τα κενά δεδομένα (nan) τότε ήρθε η ώρα να τα καθαρίσετε. "
   ]
  },
  {
   "cell_type": "code",
   "execution_count": 31,
   "metadata": {},
   "outputs": [],
   "source": [
    "df['ABV'].str.replace('%', '').astype(float)\n",
    "df['ABVS'] = df['ABV'].str.replace('%', '').astype(float)"
   ]
  },
  {
   "cell_type": "code",
   "execution_count": 32,
   "metadata": {},
   "outputs": [
    {
     "data": {
      "text/html": [
       "<div>\n",
       "<table border=\"1\" class=\"dataframe\">\n",
       "  <thead>\n",
       "    <tr style=\"text-align: right;\">\n",
       "      <th></th>\n",
       "      <th>Beer</th>\n",
       "      <th>Brewery</th>\n",
       "      <th>Location</th>\n",
       "      <th>Style</th>\n",
       "      <th>Size</th>\n",
       "      <th>ABV</th>\n",
       "      <th>IBUs</th>\n",
       "      <th>ABVS</th>\n",
       "    </tr>\n",
       "  </thead>\n",
       "  <tbody>\n",
       "    <tr>\n",
       "      <th>0</th>\n",
       "      <td>Get Together</td>\n",
       "      <td>NorthGate Brewing</td>\n",
       "      <td>Minneapolis, MN</td>\n",
       "      <td>American IPA</td>\n",
       "      <td>16 oz.</td>\n",
       "      <td>4.50%</td>\n",
       "      <td>50.0</td>\n",
       "      <td>4.5</td>\n",
       "    </tr>\n",
       "    <tr>\n",
       "      <th>1</th>\n",
       "      <td>Maggie's Leap</td>\n",
       "      <td>NorthGate Brewing</td>\n",
       "      <td>Minneapolis, MN</td>\n",
       "      <td>Milk / Sweet Stout</td>\n",
       "      <td>16 oz.</td>\n",
       "      <td>4.90%</td>\n",
       "      <td>26.0</td>\n",
       "      <td>4.9</td>\n",
       "    </tr>\n",
       "    <tr>\n",
       "      <th>2</th>\n",
       "      <td>Wall's End</td>\n",
       "      <td>NorthGate Brewing</td>\n",
       "      <td>Minneapolis, MN</td>\n",
       "      <td>English Brown Ale</td>\n",
       "      <td>16 oz.</td>\n",
       "      <td>4.80%</td>\n",
       "      <td>19.0</td>\n",
       "      <td>4.8</td>\n",
       "    </tr>\n",
       "    <tr>\n",
       "      <th>3</th>\n",
       "      <td>Pumpion</td>\n",
       "      <td>NorthGate Brewing</td>\n",
       "      <td>Minneapolis, MN</td>\n",
       "      <td>Pumpkin Ale</td>\n",
       "      <td>16 oz.</td>\n",
       "      <td>6.00%</td>\n",
       "      <td>38.0</td>\n",
       "      <td>6.0</td>\n",
       "    </tr>\n",
       "    <tr>\n",
       "      <th>4</th>\n",
       "      <td>Stronghold</td>\n",
       "      <td>NorthGate Brewing</td>\n",
       "      <td>Minneapolis, MN</td>\n",
       "      <td>American Porter</td>\n",
       "      <td>16 oz.</td>\n",
       "      <td>6.00%</td>\n",
       "      <td>25.0</td>\n",
       "      <td>6.0</td>\n",
       "    </tr>\n",
       "  </tbody>\n",
       "</table>\n",
       "</div>"
      ],
      "text/plain": [
       "            Beer            Brewery         Location               Style  \\\n",
       "0   Get Together  NorthGate Brewing  Minneapolis, MN        American IPA   \n",
       "1  Maggie's Leap  NorthGate Brewing  Minneapolis, MN  Milk / Sweet Stout   \n",
       "2     Wall's End  NorthGate Brewing  Minneapolis, MN   English Brown Ale   \n",
       "3        Pumpion  NorthGate Brewing  Minneapolis, MN         Pumpkin Ale   \n",
       "4     Stronghold  NorthGate Brewing  Minneapolis, MN     American Porter   \n",
       "\n",
       "     Size    ABV  IBUs  ABVS  \n",
       "0  16 oz.  4.50%  50.0   4.5  \n",
       "1  16 oz.  4.90%  26.0   4.9  \n",
       "2  16 oz.  4.80%  19.0   4.8  \n",
       "3  16 oz.  6.00%  38.0   6.0  \n",
       "4  16 oz.  6.00%  25.0   6.0  "
      ]
     },
     "execution_count": 32,
     "metadata": {},
     "output_type": "execute_result"
    }
   ],
   "source": []
  },
  {
   "cell_type": "markdown",
   "metadata": {},
   "source": [
    "# Περιοχές\n"
   ]
  },
  {
   "cell_type": "markdown",
   "metadata": {},
   "source": [
    "## Ποιες είναι οι top 10 πόλεις των ΗΠΑ σε παραγωγή μπύρας? "
   ]
  },
  {
   "cell_type": "code",
   "execution_count": 34,
   "metadata": {},
   "outputs": [
    {
     "data": {
      "text/plain": [
       "Grand Rapids, MI    66\n",
       "Chicago, IL         55\n",
       "Portland, OR        52\n",
       "Indianapolis, IN    43\n",
       "San Diego, CA       42\n",
       "Boulder, CO         41\n",
       "Denver, CO          40\n",
       "Brooklyn, NY        38\n",
       "Seattle, WA         35\n",
       "Longmont, CO        33\n",
       "Name: Location, dtype: int64"
      ]
     },
     "execution_count": 34,
     "metadata": {},
     "output_type": "execute_result"
    }
   ],
   "source": [
    "df['Location'].value_counts().head(10)"
   ]
  },
  {
   "cell_type": "markdown",
   "metadata": {},
   "source": [
    "## Βρείτε όλα τα ζυθοποιεία στο Brooklyn, NY"
   ]
  },
  {
   "cell_type": "code",
   "execution_count": 6,
   "metadata": {},
   "outputs": [
    {
     "data": {
      "text/plain": [
       "115                              4Beans\n",
       "210                              Jammer\n",
       "246                             Abigale\n",
       "404                       Nomader Weiss\n",
       "421                                 Rad\n",
       "439                        Molotov Lite\n",
       "588                             Bengali\n",
       "713                       Sensi Harvest\n",
       "969                              Hi-Res\n",
       "987               KelSo Nut Brown Lager\n",
       "1057                      Global Warmer\n",
       "1074                 Autumnation (2013)\n",
       "1093               KelSo India Pale Ale\n",
       "1267                          The Crisp\n",
       "1268                       Sweet Action\n",
       "1269                      Righteous Ale\n",
       "1270                      Bengali Tiger\n",
       "1305                      KelSo Pilsner\n",
       "1365    Hipster Ale (Two Roads Brewing)\n",
       "1366                        Bikini Beer\n",
       "1373                East India Pale Ale\n",
       "1624                             3Beans\n",
       "1836                         Brownstone\n",
       "1857                Brooklyn Summer Ale\n",
       "1962    Hipster Ale (Westbrook Brewing)\n",
       "1970                             Apollo\n",
       "1971                          Harbinger\n",
       "1972                              Resin\n",
       "2027                East India Pale Ale\n",
       "2062                             Diesel\n",
       "2074       Autumnation (2011-12) (2011)\n",
       "2140                   The Crisp (2011)\n",
       "2141                Sweet Action (2011)\n",
       "2142               Righteous Ale (2011)\n",
       "2143               Bengali Tiger (2011)\n",
       "2219         Brooklyn Summer Ale (2011)\n",
       "2350            Brooklyn Lager (16 oz.)\n",
       "2351            Brooklyn Lager (12 oz.)\n",
       "Name: Beer, dtype: object"
      ]
     },
     "execution_count": 6,
     "metadata": {},
     "output_type": "execute_result"
    }
   ],
   "source": [
    "#Με τον παρακάτω τρόπο μπορούμε να ζητήσουμε όσες γραμμές είναι ίσες με Brooklyn,\n",
    "# και να μας δείξει και την στήλη που ψάχνουμε δίπλα βάζοντας την μέσα σε [ ]\n",
    "df[df['Location'] == 'Brooklyn, NY']['Beer']"
   ]
  },
  {
   "cell_type": "markdown",
   "metadata": {},
   "source": [
    "## Ποιο ζυθοποιείο στο Brooklyn έχει τη μεγαλύτερη παραγωγή?"
   ]
  },
  {
   "cell_type": "code",
   "execution_count": 55,
   "metadata": {},
   "outputs": [
    {
     "data": {
      "text/plain": [
       "Sixpoint Craft Ales    24\n",
       "Brooklyn Brewery        6\n",
       "Evil Twin Brewing       5\n",
       "KelSo Beer Company      3\n",
       "Name: Brewery, dtype: int64"
      ]
     },
     "execution_count": 55,
     "metadata": {},
     "output_type": "execute_result"
    }
   ],
   "source": [
    "df[df['Location'] == 'Brooklyn, NY']['Brewery'].value_counts()"
   ]
  },
  {
   "cell_type": "markdown",
   "metadata": {},
   "source": [
    "## Ποια είναι τα 5 δημοφιλέστερα είδη μπύρας που παράγει η Sixpoint?"
   ]
  },
  {
   "cell_type": "code",
   "execution_count": 59,
   "metadata": {},
   "outputs": [
    {
     "data": {
      "text/plain": [
       "American IPA                      4\n",
       "Cream Ale                         2\n",
       "Rye Beer                          2\n",
       "German Pilsener                   2\n",
       "American Double / Imperial IPA    2\n",
       "Name: Style, dtype: int64"
      ]
     },
     "execution_count": 59,
     "metadata": {},
     "output_type": "execute_result"
    }
   ],
   "source": [
    "df[df['Brewery'] == 'Sixpoint Craft Ales']['Style'].value_counts().head(5)"
   ]
  },
  {
   "cell_type": "markdown",
   "metadata": {},
   "source": [
    "## Βρείτε όλα τα ζυθοποιεία στην Νέα Υόρκη και μετά μετρήστε τα. "
   ]
  },
  {
   "cell_type": "code",
   "execution_count": 68,
   "metadata": {},
   "outputs": [
    {
     "data": {
      "text/plain": [
       "Brooklyn, NY         38\n",
       "Utica, NY            13\n",
       "Patchogue, NY         4\n",
       "Garrattsville, NY     4\n",
       "New York, NY          3\n",
       "Bronx, NY             3\n",
       "Montauk, NY           2\n",
       "Chatham, NY           2\n",
       "Elmira, NY            2\n",
       "Rochester, NY         1\n",
       "Southampton, NY       1\n",
       "Newburgh, NY          1\n",
       "Name: Location, dtype: int64"
      ]
     },
     "execution_count": 68,
     "metadata": {},
     "output_type": "execute_result"
    }
   ],
   "source": [
    "NY = df[df['Location'].str.contains(\"NY\", na=False)]\n",
    "NY['Location'].value_counts()"
   ]
  },
  {
   "cell_type": "markdown",
   "metadata": {},
   "source": [
    "# Μέτρηση πικράδας!  \n",
    "\n",
    "Η μονάδα μέτρησης IBU σημαίνει [International Bitterness Unit](http://www.thebrewenthusiast.com/ibus/), συνήθως οι ζυθοποιοί καμαρώνουν όταν έχουν πικρή μπύρα!\n"
   ]
  },
  {
   "cell_type": "markdown",
   "metadata": {},
   "source": [
    "## Ποιος είναι ο μέσος όρος IBU σε όλες τις μπύρες?"
   ]
  },
  {
   "cell_type": "code",
   "execution_count": 71,
   "metadata": {},
   "outputs": [
    {
     "data": {
      "text/plain": [
       "count    1405.000000\n",
       "mean       42.713167\n",
       "std        25.954066\n",
       "min         4.000000\n",
       "25%        21.000000\n",
       "50%        35.000000\n",
       "75%        64.000000\n",
       "max       138.000000\n",
       "Name: IBUs, dtype: float64"
      ]
     },
     "execution_count": 71,
     "metadata": {},
     "output_type": "execute_result"
    }
   ],
   "source": [
    "df['IBUs'].describe()"
   ]
  },
  {
   "cell_type": "markdown",
   "metadata": {},
   "source": [
    "## Φτάξτε ένα γράφημα διασποράς (histogram  στην python hist) για το IBU και όταν ορίσετε το ιστόγραμμα βάλτε  *30* bins αντί για το default που είναι 10"
   ]
  },
  {
   "cell_type": "code",
   "execution_count": 91,
   "metadata": {},
   "outputs": [
    {
     "data": {
      "text/plain": [
       "<matplotlib.axes._subplots.AxesSubplot at 0xb45e58e4e0>"
      ]
     },
     "execution_count": 91,
     "metadata": {},
     "output_type": "execute_result"
    },
    {
     "data": {
      "image/png": "[encoded data removed]",
      "text/plain": [
       "<matplotlib.figure.Figure at 0xb45ec5e4a8>"
      ]
     },
     "metadata": {},
     "output_type": "display_data"
    }
   ],
   "source": [
    "df['IBUs'].plot.hist(by=\"IBUs\", bins= 30)"
   ]
  },
  {
   "cell_type": "markdown",
   "metadata": {},
   "source": [
    "## Βρείτε όλες τις μπύρες που το IBU βρίσκεται στο 75ο εκατοστημόριο. "
   ]
  },
  {
   "cell_type": "markdown",
   "metadata": {},
   "source": [
    "**βοήθεια**: κάντε describe για να βρείτε το νούμερο"
   ]
  },
  {
   "cell_type": "code",
   "execution_count": 97,
   "metadata": {},
   "outputs": [
    {
     "data": {
      "text/plain": [
       "6                          Citra Ass Down\n",
       "7                          London Balling\n",
       "14                            Rico Sauvin\n",
       "17                           Pile of Face\n",
       "21                             Excess IPL\n",
       "22                         Hoponius Union\n",
       "24                         Habitus (2014)\n",
       "25                                  Solis\n",
       "27                                Habitus\n",
       "46                    Yeti Imperial Stout\n",
       "59      98 Problems (Cuz A Hop Ain't One)\n",
       "62                           Train Hopper\n",
       "68                                   Csar\n",
       "69                         Saucy Intruder\n",
       "79                             The Gadget\n",
       "89                             Gone A-Rye\n",
       "93                          Heavy Lifting\n",
       "110                               Jah Mon\n",
       "123                        Flying Mouse 4\n",
       "149                        Citra Ass Down\n",
       "168                            Soul Doubt\n",
       "170                          Bimini Twist\n",
       "178                             Long Leaf\n",
       "182                        Double Duckpin\n",
       "186                            Hop A-Peel\n",
       "192                                Wobble\n",
       "218                      Hopkick Dropkick\n",
       "226                            Union Jack\n",
       "229                        India Pale Ale\n",
       "239                          Self Starter\n",
       "                      ...                \n",
       "2181                       Upstate I.P.W.\n",
       "2182                         Heady Topper\n",
       "2186                Hop Ottin' IPA (2011)\n",
       "2218                                  WET\n",
       "2225               Gandhi-Bot Double IPA \n",
       "2228                           Vortex IPA\n",
       "2229                 Hop Shock IPA (2010)\n",
       "2234             Snake Handler Double IPA\n",
       "2252                          Lucky U IPA\n",
       "2257                       The Corruption\n",
       "2261                         Stowaway IPA\n",
       "2267                        Back in Black\n",
       "2306                 Ranger IPA (Current)\n",
       "2313                 Avery India Pale Ale\n",
       "2316                         Oasis (2010)\n",
       "2326                   Third Eye Pale Ale\n",
       "2330                      Double Haul IPA\n",
       "2349                      Modus Hoperandi\n",
       "2369                Ballz Deep Double IPA\n",
       "2375               Gandhi-Bot Double IPA \n",
       "2382                          Caldera IPA\n",
       "2387                        Big Swell IPA\n",
       "2394                              113 IPA\n",
       "2403                         Abrasive Ale\n",
       "2406                              Furious\n",
       "2408                Brew Free! or Die IPA\n",
       "2410              Ten Fidy Imperial Stout\n",
       "2412                   GUBNA Imperial IPA\n",
       "2414                    Gordon Ale (2009)\n",
       "2415                      Dale's Pale Ale\n",
       "Name: Beer, dtype: object"
      ]
     },
     "execution_count": 97,
     "metadata": {},
     "output_type": "execute_result"
    }
   ],
   "source": [
    "df[df['IBUs'] > 64.000000]['Beer']"
   ]
  },
  {
   "cell_type": "markdown",
   "metadata": {},
   "source": [
    "## Βρείτε όλες τις μπύρες που το IBU βρίσκεται κάτω από το 25ο εκατοστημόριο."
   ]
  },
  {
   "cell_type": "code",
   "execution_count": 96,
   "metadata": {},
   "outputs": [
    {
     "data": {
      "text/plain": [
       "2                                   Wall's End\n",
       "12                                    Sho'nuff\n",
       "13                                 Bloody Show\n",
       "18                              The Brown Note\n",
       "19                                 House Lager\n",
       "20                                Leisure Time\n",
       "30                                        Park\n",
       "31                                   Westfalia\n",
       "32                                         KSA\n",
       "54                                     Sparkle\n",
       "56                                Hotbox Brown\n",
       "57                                        Gold\n",
       "66                                  Cafe Leche\n",
       "67                      Damascene Apricot Sour\n",
       "90                                 Sex Panther\n",
       "102                             Vanilla Porter\n",
       "105                                       Gose\n",
       "106                            Vermont Pilsner\n",
       "134                        Ginger Peach Saison\n",
       "139                              Weissenheimer\n",
       "144                      Passion Fruit Prussia\n",
       "145                                  Send Help\n",
       "150                             The Brown Note\n",
       "159                                  Daft Funk\n",
       "165                           Bat Outta Helles\n",
       "167                                    Rye Wit\n",
       "169                         Yo Soy Un Berliner\n",
       "173                   Farmer's Daughter Blonde\n",
       "177                                  Honey Rye\n",
       "179                        Honey Badger Blonde\n",
       "                         ...                  \n",
       "2193                                        #9\n",
       "2232                   Narragansett Fest Lager\n",
       "2233                                Mana Wheat\n",
       "2241                  SanTan HefeWeizen (2010)\n",
       "2268               Flaming Damsel Lager (2010)\n",
       "2275    Black Star Double Hopped Golden Lager \n",
       "2289      Point Nude Beach Summer Wheat (2010)\n",
       "2291                       Point Amber Classic\n",
       "2292                       Point Special Lager\n",
       "2296              Morning Wood Wheat (Current)\n",
       "2298                           O'Fallon Wheach\n",
       "2301                Epicenter Amber Ale (2010)\n",
       "2312                              White Rascal\n",
       "2314                         Ellie’s Brown Ale\n",
       "2315                         Köld Lager (2010)\n",
       "2318                      Buffalo Sweat (2010)\n",
       "2324                           Colorado Kölsch\n",
       "2331                     Cold Smoke Scotch Ale\n",
       "2333                             Avalanche Ale\n",
       "2334                 Haywire Hefeweizen (2010)\n",
       "2338                    Boont Amber Ale (2011)\n",
       "2339                    Summer Solstice (2011)\n",
       "2345                 Fat Tire Amber Ale (2008)\n",
       "2361                        Sunlight Cream Ale\n",
       "2363                     Schlafly Summer Lager\n",
       "2372                          Bombshell Blonde\n",
       "2385                       Bikini Blonde Lager\n",
       "2396                          Royal Weisse Ale\n",
       "2404                                      Hell\n",
       "2409             Hell or High Watermelon Wheat\n",
       "Name: Beer, dtype: object"
      ]
     },
     "execution_count": 96,
     "metadata": {},
     "output_type": "execute_result"
    }
   ],
   "source": [
    "df[df['IBUs'] < 21.000000]['Beer']"
   ]
  },
  {
   "cell_type": "markdown",
   "metadata": {},
   "source": [
    "## Βρείτε τη διάμεσο (median) του IBU για κάθε είδος μπύρας. Στην συνέχει φτιάξτε ένα γράφημα γιαυτό. \n",
    "\n",
    "Βάλτε τα μεγάλα στο επάνω μέρος, και τα nan στο τέλος. Για να είναι όμορφο το γράφημα δεν πρέπει να εμφανίζονται το ένα πάνω στο άλλο γιαυτό μεγαλώστε το μέγεθός του με το figsize=(2,15)"
   ]
  },
  {
   "cell_type": "code",
   "execution_count": 114,
   "metadata": {},
   "outputs": [
    {
     "data": {
      "text/plain": [
       "<matplotlib.axes._subplots.AxesSubplot at 0xb466c26e80>"
      ]
     },
     "execution_count": 114,
     "metadata": {},
     "output_type": "execute_result"
    },
    {
     "data": {
      "image/png": "[encoded data removed]",
      "text/plain": [
       "<matplotlib.figure.Figure at 0xb466eaf550>"
      ]
     },
     "metadata": {},
     "output_type": "display_data"
    }
   ],
   "source": [
    "df.groupby('Style')['IBUs'].mean().dropna().sort_values(ascending=True).plot(kind = 'barh', figsize=(2,15))"
   ]
  },
  {
   "cell_type": "markdown",
   "metadata": {},
   "source": [
    "## Βλέπουμε ότι υπάρχουν πολά είδη μπύρας, ποια είναι όμως τα 5 δημοφιλέστερα χαμηλά σε πικράδα και ποια τα υψηλά (high-IBU vs. low-IBU)?\n",
    "\n",
    "Πρώτα βρείτε ποια έχουν high IBU, μετά βρείτε τα δημοφιλέστερα από αυτά και μετά πάρτε τα πρώτα 5. "
   ]
  },
  {
   "cell_type": "code",
   "execution_count": 131,
   "metadata": {},
   "outputs": [],
   "source": [
    "High = df[df['IBUs'] > 64.000000]"
   ]
  },
  {
   "cell_type": "code",
   "execution_count": 142,
   "metadata": {},
   "outputs": [
    {
     "data": {
      "text/plain": [
       "American IPA                      195\n",
       "American Double / Imperial IPA     72\n",
       "American Pale Ale (APA)            18\n",
       "American Black Ale                 15\n",
       "American Strong Ale                 9\n",
       "Name: Style, dtype: int64"
      ]
     },
     "execution_count": 142,
     "metadata": {},
     "output_type": "execute_result"
    }
   ],
   "source": [
    "High['Style'].value_counts().head(5)"
   ]
  },
  {
   "cell_type": "markdown",
   "metadata": {},
   "source": [
    "## Βρείτε τον μέσο όρο IBU για τις μπύρες \"Witbier\", \"Hefeweizen\" και \"American Pale Wheat Ale\" και μετά φτιάξτε ένα ιστόγραμμα. \n",
    "\n",
    "Θέλουμε μόνο ένα γράφημα, που να δείχνει όλα τα παραπάνω! Και δοκιμάστε ξανά στο ιστόγραμμα να έχετε 20-30 bins."
   ]
  },
  {
   "cell_type": "code",
   "execution_count": 232,
   "metadata": {},
   "outputs": [],
   "source": [
    "beers = [\"Witbier\", \"Hefeweizen\", \"American Pale Wheat Ale\"]\n",
    "StyleNew = df[df['Style'].isin(beers)].dropna()"
   ]
  },
  {
   "cell_type": "code",
   "execution_count": 233,
   "metadata": {},
   "outputs": [
    {
     "data": {
      "text/plain": [
       "<matplotlib.axes._subplots.AxesSubplot at 0xb4677edba8>"
      ]
     },
     "execution_count": 233,
     "metadata": {},
     "output_type": "execute_result"
    },
    {
     "data": {
      "image/png": "[encoded data removed]",
      "text/plain": [
       "<matplotlib.figure.Figure at 0xb46776c710>"
      ]
     },
     "metadata": {},
     "output_type": "display_data"
    }
   ],
   "source": [
    "StyleNew.groupby('Style')['IBUs'].mean().plot.hist(by=\"IBUs\", bins= 20)"
   ]
  },
  {
   "cell_type": "markdown",
   "metadata": {},
   "source": [
    "## Βρείτε το μέσο όρο IBU για το είδος \"IPA\" και φτιάξτε ένα ιστόγραμμα."
   ]
  },
  {
   "cell_type": "code",
   "execution_count": 231,
   "metadata": {},
   "outputs": [
    {
     "data": {
      "text/plain": [
       "<matplotlib.axes._subplots.AxesSubplot at 0xb467722710>"
      ]
     },
     "execution_count": 231,
     "metadata": {},
     "output_type": "execute_result"
    },
    {
     "data": {
      "image/png": "[encoded data removed]",
      "text/plain": [
       "<matplotlib.figure.Figure at 0xb457d7f8d0>"
      ]
     },
     "metadata": {},
     "output_type": "display_data"
    }
   ],
   "source": [
    "IPA = df[df['Style'].str.contains(\"IPA\", na=False)].dropna()\n",
    "IPA.groupby('Style')['IBUs'].mean().plot.hist(by=\"IBUs\", bins= 20)"
   ]
  },
  {
   "cell_type": "markdown",
   "metadata": {},
   "source": [
    "## Κάντε ένα γράφημα και με τα 2 παραπάνω ιστογράμματα."
   ]
  },
  {
   "cell_type": "code",
   "execution_count": 247,
   "metadata": {},
   "outputs": [
    {
     "data": {
      "text/plain": [
       "<matplotlib.axes._subplots.AxesSubplot at 0xb46916d6d8>"
      ]
     },
     "execution_count": 247,
     "metadata": {},
     "output_type": "execute_result"
    },
    {
     "data": {
      "image/png": "[encoded data removed]",
      "text/plain": [
       "<matplotlib.figure.Figure at 0xb46904d4e0>"
      ]
     },
     "metadata": {},
     "output_type": "display_data"
    }
   ],
   "source": [
    "ax = StyleNew.groupby('Style')['IBUs'].mean().plot.hist(by=\"IBUs\", bins= 20)\n",
    "IPA.groupby('Style')['IBUs'].mean().plot.hist(by=\"IBUs\", bins= 20,ax=ax)"
   ]
  },
  {
   "cell_type": "markdown",
   "metadata": {},
   "source": [
    "## Συγκρίνετε το ABV από τις μπύρες που γίνονται από σιτάρι ( wheat ) σε σχέση με τις IPAs. Αν τα καταφέρετε, φτιάξτε και ένα γράφημα!"
   ]
  },
  {
   "cell_type": "code",
   "execution_count": 245,
   "metadata": {},
   "outputs": [
    {
     "data": {
      "text/plain": [
       "<matplotlib.axes._subplots.AxesSubplot at 0xb468fdaf98>"
      ]
     },
     "execution_count": 245,
     "metadata": {},
     "output_type": "execute_result"
    },
    {
     "data": {
      "image/png": "[encoded data removed]",
      "text/plain": [
       "<matplotlib.figure.Figure at 0xb468f88630>"
      ]
     },
     "metadata": {},
     "output_type": "display_data"
    }
   ],
   "source": [
    "wheat = df[df['Style'].str.contains(\"Wheat\", na=False)].dropna()\n",
    "ax = wheat['ABVS'].plot.hist(by=\"ABVS\", bins= 20)\n",
    "IPA['ABVS'].plot.hist(by=\"ABVS\", bins= 20,ax=ax)"
   ]
  }
 ],
 "metadata": {
  "kernelspec": {
   "display_name": "Python 3",
   "language": "python",
   "name": "python3"
  },
  "language_info": {
   "codemirror_mode": {
    "name": "ipython",
    "version": 3
   },
   "file_extension": ".py",
   "mimetype": "text/x-python",
   "name": "python",
   "nbconvert_exporter": "python",
   "pygments_lexer": "ipython3",
   "version": "3.7.2"
  }
 },
 "nbformat": 4,
 "nbformat_minor": 2
}
