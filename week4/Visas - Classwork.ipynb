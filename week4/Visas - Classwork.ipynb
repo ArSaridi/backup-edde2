{
 "cells": [
  {
   "cell_type": "markdown",
   "metadata": {},
   "source": [
    "# Αιτήσεις για Visa \n",
    "\n",
    "#### Περίληψη\n",
    "\n",
    "Θα ερευνήσουμε πώς άλλαξαν οι αιτήσεις για visa στην Αμερική όλα αυτά τα χρόνια. \n",
    "\n",
    "\n",
    "#### Πηγή Δεδομένων\n",
    "\n",
    "Nonimmigrant Visa Issuances by Visa Class and by Nationality, 1999+,\n",
    "https://travel.state.gov/content/travel/en/legal/visa-law0/visa-statistics/nonimmigrant-visa-statistics.html\n",
    "\n",
    "#### Αρχεία\n",
    "\n",
    "- FYs97-16_NIVDetailTable1.xls, \"Nonimmigrant Visa Issuances by Visa Class and by Nationality, 1999+\"\n",
    "\n",
    "#### Τι θα μάθουμε:\n",
    "\n",
    "- Επεξεργασία αρχείων Excel με πολλά φύλλα\n",
    "- Συνδυασμός πολλών dataframes\n",
    "- Γέμισμα κενών γραμμών (null values) με τη μέθοδο του γεμίσματος προς τα κάτω (filling down)\n",
    "- Καθάρισμα, διαγραφή και φιλτάρισμα γραμμών\n",
    "- Μετονομασία στηλών\n",
    "- Επεξεργασία γραφικών σε matplotlib"
   ]
  },
  {
   "cell_type": "markdown",
   "metadata": {},
   "source": [
    "# Εισάγουμε το FYs97-16_NIVDetailTable1.xls, αλλά μόνο για το 1999"
   ]
  },
  {
   "cell_type": "code",
   "execution_count": null,
   "metadata": {},
   "outputs": [],
   "source": [
    "import pandas as pd\n",
    "%matplotlib inline"
   ]
  },
  {
   "cell_type": "markdown",
   "metadata": {},
   "source": [
    "## Ας δούμε τις πρώτες γραμμές να σιγουρευτούμε ότι είναι δεδομένα του 1999\n"
   ]
  },
  {
   "cell_type": "code",
   "execution_count": null,
   "metadata": {},
   "outputs": [],
   "source": [
    "df= pd.read_excel('FYs97-16_NIVDetailTable1.xls', sheetname='FY99') #παρατηρήστε ότι επιλέγω έτσι ποιο φύλλο διαβάζω\n",
    "df"
   ]
  },
  {
   "cell_type": "code",
   "execution_count": null,
   "metadata": {},
   "outputs": [],
   "source": [
    "df.shape"
   ]
  },
  {
   "cell_type": "markdown",
   "metadata": {},
   "source": [
    "## Εμφανίζουμε το μέγιστο αριθμό των γραμμών \n",
    "\n",
    "**Δεν θέλουμε να έχει `...` στη μέση**."
   ]
  },
  {
   "cell_type": "code",
   "execution_count": null,
   "metadata": {},
   "outputs": [],
   "source": [
    "pd.set_option(\"display.max_rows\",217)"
   ]
  },
  {
   "cell_type": "code",
   "execution_count": null,
   "metadata": {},
   "outputs": [],
   "source": [
    "df.dtypes"
   ]
  },
  {
   "cell_type": "markdown",
   "metadata": {},
   "source": [
    "## Αλλάζουμε το \"Fiscal Year 1999\" με  \"Country\""
   ]
  },
  {
   "cell_type": "code",
   "execution_count": null,
   "metadata": {},
   "outputs": [],
   "source": [
    "df.rename(columns = {'Fiscal Year 1999' : 'Country'}, inplace = True)\n"
   ]
  },
  {
   "cell_type": "markdown",
   "metadata": {},
   "source": [
    "## Κοιτάμε τις 2 πρώτες γραμμές για να δούμε ότι το μετονομάσαμε σωστά! \n"
   ]
  },
  {
   "cell_type": "code",
   "execution_count": null,
   "metadata": {},
   "outputs": [],
   "source": [
    "df.head()"
   ]
  },
  {
   "cell_type": "markdown",
   "metadata": {},
   "source": [
    "# Καθάρισμα\n",
    "\n",
    "Συνήθως καθαρίζουμε στήλες τώρα **το πρόβλημα είναι στις γραμμές**.\n",
    "\n"
   ]
  },
  {
   "cell_type": "markdown",
   "metadata": {},
   "source": [
    "## Πάμε να βρούμε όλα τα \"βρώμικα\" rows "
   ]
  },
  {
   "cell_type": "code",
   "execution_count": null,
   "metadata": {},
   "outputs": [],
   "source": [
    "df[df['Grand Total'].isnull()]"
   ]
  },
  {
   "cell_type": "markdown",
   "metadata": {},
   "source": [
    "## Υπάρχει κάποια στήλη για την ήπειρο? Πώς ξέρουμε σε ποια ήπειρο είναι η κάθε χώρα? \n"
   ]
  },
  {
   "cell_type": "markdown",
   "metadata": {},
   "source": [
    "## Καθάρισμα\n",
    "\n",
    "έχουμε διάφορες γραμμές που δεν μας αρέσουν:\n",
    "\n",
    "- Τίτλοι για ηπείρους (\"Africa,\" \"Europe,\" etc)\n",
    "- Σύνολα για ηπείρους (\"Totals for Africa,\" \"Totals for Europe,\" etc.)\n",
    "- Οι κενές γραμμές ανάμεσα στις ηπείρους \n",
    "\n",
    "Αλλά θα τις *καθαρίσουμε*! Με **τρία βήματα**:\n",
    "\n",
    "1. Φτιάχνουμε μια νέα στήλη \"continent\" για κάθε πρώτη γραμμή στις χώρες \n",
    "2. Αντιγράφουμε την τιμή προς τα κάτω σε όλες τις κενές γραμμές\n",
    "3. Σβήνουμε τις άχρηστες γραμμές"
   ]
  },
  {
   "cell_type": "markdown",
   "metadata": {},
   "source": [
    "### βήμα 1: Για κάθε γραμμή/τίτλο για continent, προσθέτουμε μια νέα στήλη  `continent` με την τιμή του continent\n",
    "\n"
   ]
  },
  {
   "cell_type": "markdown",
   "metadata": {},
   "source": [
    "## βήμα 1 επιβεβαίωση\n"
   ]
  },
  {
   "cell_type": "code",
   "execution_count": null,
   "metadata": {},
   "outputs": [],
   "source": [
    "df.loc[df['A-1'].isnull(), 'continent'] =  df['Country']\n",
    "df"
   ]
  },
  {
   "cell_type": "markdown",
   "metadata": {},
   "source": [
    "## βήμα 2: Γέμισμα\n",
    "\n",
    "Με τα pandas παίρνουμε το όνομα της ηπείρου και το αντιγράφουμε κάτω στις κενές γραμμές. \n",
    "\n",
    "Στην αρχή θα δείχνει έτσι ... \n",
    "\n",
    "|Country|Grand Total|Continent|\n",
    "|---|---|---|\n",
    "|Africa|NaN|Africa|\n",
    "|Algeria|6454.0|NaN|\n",
    "|Angola|2843.0|NaN|\n",
    "|Asia|NaN|Asia|\n",
    "|Afghanistan|2217.0|NaN|\n",
    "|Bahrain|2502.0|NaN|\n",
    "\n",
    "και μετά κάπως έτσι:\n",
    "\n",
    "|Country|Grand Total|Continent|\n",
    "|---|---|---|\n",
    "|Africa|NaN|Africa|\n",
    "|Algeria|6454.0|**Africa**|\n",
    "|Angola|2843.0|**Africa**|\n",
    "|Asia|NaN|Asia|\n",
    "|Afghanistan|2217.0|**Asia**|\n",
    "|Bahrain|2502.0|**Asia**|"
   ]
  },
  {
   "cell_type": "code",
   "execution_count": null,
   "metadata": {},
   "outputs": [],
   "source": [
    "df['continent'].fillna(method='ffill', inplace = True)\n",
    "df.head()"
   ]
  },
  {
   "cell_type": "markdown",
   "metadata": {},
   "source": [
    "## βήμα 2 Επιβεβαίωση\n",
    "\n",
    "τσεκάρετε ότι έχετε για **Europe και Africa  56.**"
   ]
  },
  {
   "cell_type": "code",
   "execution_count": null,
   "metadata": {},
   "outputs": [],
   "source": [
    "df.continent.value_counts()"
   ]
  },
  {
   "cell_type": "markdown",
   "metadata": {},
   "source": [
    "## βημά 3: διαγράφοντας τις κακές γραμμές"
   ]
  },
  {
   "cell_type": "markdown",
   "metadata": {},
   "source": [
    "### Διαγραφή της γραμμής \"Grand Total\"\n"
   ]
  },
  {
   "cell_type": "code",
   "execution_count": null,
   "metadata": {},
   "outputs": [],
   "source": [
    "new_df = df.dropna(subset=['Grand Total'])\n",
    "new_df.head()"
   ]
  },
  {
   "cell_type": "markdown",
   "metadata": {},
   "source": [
    "## Τσεκάρουμε"
   ]
  },
  {
   "cell_type": "code",
   "execution_count": null,
   "metadata": {},
   "outputs": [],
   "source": [
    "new_df.head(55)"
   ]
  },
  {
   "cell_type": "markdown",
   "metadata": {},
   "source": [
    "### Σβήστε τις γραμμές του \"Country\" που έχουν \"Totals\"\n",
    "\n",
    "Τώρα που έχουμε την στήλη \"Continent\" μπορούμε να υπολογίσουμε τα σύνολα με το groupby.\n"
   ]
  },
  {
   "cell_type": "code",
   "execution_count": null,
   "metadata": {},
   "outputs": [],
   "source": [
    "new = new_df[~df.Country.str.contains('Total', na= False)]"
   ]
  },
  {
   "cell_type": "code",
   "execution_count": null,
   "metadata": {},
   "outputs": [],
   "source": [
    "#df[~df.Country.str.contains('Total', na= False)] #df[~df.Country.str.contains('stat$', na= False)]"
   ]
  },
  {
   "cell_type": "code",
   "execution_count": null,
   "metadata": {},
   "outputs": [],
   "source": [
    "new.shape"
   ]
  },
  {
   "cell_type": "markdown",
   "metadata": {},
   "source": [
    "# Ας φτιάξουμε μερικά γραφικά \n",
    "\n"
   ]
  },
  {
   "cell_type": "code",
   "execution_count": null,
   "metadata": {},
   "outputs": [],
   "source": [
    "new.sort_values(by= 'Total Visas').tail(10).plot(x='Country', y='Total Visas', kind='barh', figsize=(5, 10))\n"
   ]
  },
  {
   "cell_type": "markdown",
   "metadata": {},
   "source": [
    "## Καθαρίζοντας τα γραφικά!\n",
    "\n",
    "- Προσθέστε τίτλο\n",
    "- Προσθέστε label στον άξονα του χ \n",
    "- Διώξτε το label στον αριστερό άξονα\n",
    "- Διώξτε τα πλαϊνά (legend)\n",
    "- Διώξτε τα κουτιά\n",
    "- Διώξτε τα τικς (tick marks)\n",
    "- Προσθέστε κόμματα στους άξονες των αριθμών\n",
    "\n",
    "Περισσότερα εδώ:\n",
    "\n",
    "- https://matplotlib.org/gallery.html\n",
    "- Ειδικά εδώ https://matplotlib.org/examples/ticks_and_spines/spines_demo.html\n",
    "\n",
    "Για να μορφοποιήσετε τους αριθμούς δοκιμάστε \n",
    "\n",
    "```python\n",
    "import matplotlib.ticker as ticker\n",
    "ax.xaxis.set_major_formatter(ticker.StrMethodFormatter(\"{x:,.0f}\"))\n",
    "```"
   ]
  },
  {
   "cell_type": "code",
   "execution_count": null,
   "metadata": {},
   "outputs": [],
   "source": [
    "import matplotlib.ticker as ticker\n"
   ]
  },
  {
   "cell_type": "code",
   "execution_count": null,
   "metadata": {},
   "outputs": [],
   "source": [
    "ax = new.sort_values(by= 'Total Visas').tail(10).plot(x='Country', y='Total Visas', kind='barh', figsize=(5, 10))\n",
    "ax.set_title(\"Total Visas per country\")\n",
    "ax.grid(axis='x')\n",
    "ax.set_xlabel(\"Total amount of Visas\")\n",
    "ax.xaxis.set_label(\"This...\")\n",
    "ax.set_ylabel(\"\")\n",
    "ax.legend('')\n",
    "ax.spines['right'].set_visible(False)\n",
    "ax.spines['top'].set_visible(False)\n",
    "ax.xaxis.set_major_formatter(ticker.StrMethodFormatter(\"{x:,.0f}\"))\n",
    "ax.xaxis.set_ticks_position('none')\n",
    "ax.yaxis.set_ticks_position('none')"
   ]
  },
  {
   "cell_type": "markdown",
   "metadata": {},
   "source": [
    "## Φτιάξτε ένα γράφημα για το σύνολο των F-1 visas για κάθε ήπειρο\n",
    "\n",
    "And make it look nice!"
   ]
  },
  {
   "cell_type": "code",
   "execution_count": null,
   "metadata": {},
   "outputs": [],
   "source": [
    "ax = new[new.continent != 'Unknown' ].groupby('continent')['F-1'].sum().sort_values(ascending = True).plot(kind='barh', color='pink')\n",
    "ax.set_title(\"Total Visas per continent\")"
   ]
  },
  {
   "cell_type": "markdown",
   "metadata": {},
   "source": [
    "# Διαβάστε όλα τα δεδομένα από το 2000-2018\n",
    "\n"
   ]
  },
  {
   "cell_type": "code",
   "execution_count": null,
   "metadata": {},
   "outputs": [],
   "source": [
    "sheetnames = [\n",
    "    'FY97', 'FY98', 'FY99', 'FY00', 'FY01', 'FY02', 'FY03', 'FY04', 'FY05', 'FY06',\n",
    "    'FY07', 'FY08', 'FY09', 'FY10', 'FY11', 'FY12', 'FY13', 'FY14', 'FY15', 'FY16', 'FY17', 'FY18'\n",
    "]"
   ]
  },
  {
   "cell_type": "code",
   "execution_count": null,
   "metadata": {},
   "outputs": [],
   "source": [
    "list_of_shs = [pd.read_excel(\"FYs97-16_NIVDetailTable1.xls\", sheetname=sheet) for sheet in sheetnames]"
   ]
  },
  {
   "cell_type": "markdown",
   "metadata": {},
   "source": [
    "# Homework in LAB"
   ]
  },
  {
   "cell_type": "markdown",
   "metadata": {},
   "source": [
    "## Ξανακαθαρίστε όπως κάναμε παραπάνω \n",
    "\n",
    "## βήμα 1: Για κάθε dataframe, αλλάξτε το \"Fiscal Year XXXX\" σε \"Country\"\n",
    "\n",
    "\n",
    "\n",
    "```python\n",
    "df.columns.str.replace('Fiscal Year.*', 'Country')\n",
    "```"
   ]
  },
  {
   "cell_type": "code",
   "execution_count": null,
   "metadata": {},
   "outputs": [],
   "source": [
    "for sheet in list_of_shs:\n",
    "    sheet.columns =sheet.columns.str.replace('Fiscal Year.*', 'Country')"
   ]
  },
  {
   "cell_type": "code",
   "execution_count": null,
   "metadata": {},
   "outputs": [],
   "source": [
    "list_of_shs"
   ]
  },
  {
   "cell_type": "markdown",
   "metadata": {},
   "source": [
    "## βήμα 2: Προσθέστε την στήλη  'Continent' και πετάξτε τις κακές γραμμές\n",
    "\n",
    "Ο παρακάτω κώδικας θα διαγράψει όλες τις στήλες στις οποίες το 'Country' έχει μέσα 'Totals for'. Το κόλπο που χρησιμοποιήσαμε παραπάνω δεν θα δουλέψει γιατί τώρα έχουμε ολόκληρη λίστα. \n",
    "\n",
    "```python\n",
    "df.drop(df.index[df['Country'].str.contains(\"Totals for\", na=False)])\n",
    "```"
   ]
  },
  {
   "cell_type": "code",
   "execution_count": null,
   "metadata": {},
   "outputs": [],
   "source": [
    "import numpy as np\n",
    "for sheet in list_of_shs:\n",
    "    df.continent = np.nan\n",
    "    sheet.loc[sheet['Grand Total'].isnull(), 'continent'] =  sheet['Country']   \n",
    "    sheet['continent'].fillna(method='ffill', inplace = True)\n",
    "    sheet = sheet.drop(sheet.index[sheet['Country'].str.contains(\"Totals for\", na=False)])\n"
   ]
  },
  {
   "cell_type": "code",
   "execution_count": null,
   "metadata": {},
   "outputs": [],
   "source": [
    "list_of_shs[0]"
   ]
  },
  {
   "cell_type": "markdown",
   "metadata": {},
   "source": [
    "## βήμα 3: Προσθέστε τη χρονιά σε κάθε dataframe\n",
    "\n",
    "Δεν μπορούμε ακόμη να τα συνδυάσουμε γιατί προς το παρόν τα θέλουμε ξεχωριστά. Χρησιμοποιήστε τον παρακάτω κώδικα για να πλησιάσετε σε αυτό που θέλετε.  \n",
    "\n",
    "```python\n",
    "for sheet_df, fiscal_year in zip(sheets, sheetnames):\n",
    "    sheet_df['year'] = fiscal_year\n",
    "```"
   ]
  },
  {
   "cell_type": "code",
   "execution_count": null,
   "metadata": {},
   "outputs": [],
   "source": [
    "for sheet_df, fiscal_year in zip(list_of_shs, sheetnames):\n",
    "    sheet_df['year'] = fiscal_year"
   ]
  },
  {
   "cell_type": "code",
   "execution_count": null,
   "metadata": {},
   "outputs": [],
   "source": [
    "list_of_shs"
   ]
  },
  {
   "cell_type": "markdown",
   "metadata": {},
   "source": [
    "# Ενώστε τα dataframes σε ένα μεγάλο dataframe\n",
    "\n",
    "Ενώστε τα και τσεκάρετε ότι έχετε 4464 γραμμές και 96 στήλες\n",
    "\n",
    "- Συμβουλή: Μην χρησιμοποιήσετε .merge!"
   ]
  },
  {
   "cell_type": "code",
   "execution_count": null,
   "metadata": {},
   "outputs": [],
   "source": [
    "combined = pd.concat(list_of_shs, ignore_index=True)"
   ]
  },
  {
   "cell_type": "code",
   "execution_count": null,
   "metadata": {},
   "outputs": [],
   "source": [
    "combined.dtypes"
   ]
  },
  {
   "cell_type": "markdown",
   "metadata": {},
   "source": [
    "## Λίγο καθάρισμα\n",
    "\n",
    "Αλλάξτε το FY97 σε 1997, FY98 σε 1998, FY99 σε FY1999, FY00 σε 2000, κ.λπ.\n",
    "\n"
   ]
  },
  {
   "cell_type": "code",
   "execution_count": null,
   "metadata": {
    "scrolled": true
   },
   "outputs": [],
   "source": [
    "combined['year']= combined['year'].str.replace('FY9', '199')"
   ]
  },
  {
   "cell_type": "code",
   "execution_count": null,
   "metadata": {},
   "outputs": [],
   "source": [
    "combined['year']= combined['year'].str.replace('FY0', '200')"
   ]
  },
  {
   "cell_type": "code",
   "execution_count": null,
   "metadata": {},
   "outputs": [],
   "source": [
    "combined['year']= combined['year'].str.replace('FY1', '201')"
   ]
  },
  {
   "cell_type": "code",
   "execution_count": null,
   "metadata": {},
   "outputs": [],
   "source": [
    "combined"
   ]
  },
  {
   "cell_type": "markdown",
   "metadata": {},
   "source": [
    "# Μερικά γραφήματα\n",
    "\n",
    "## Κάντε ένα γράφημα για τις βίζες που δόθηκαν στην Κολομβία όλα αυτά τα χρόνια. \n",
    "\n",
    "Κάντε τα όμορφα όπως δείξαμε παραπάνω!"
   ]
  },
  {
   "cell_type": "code",
   "execution_count": null,
   "metadata": {},
   "outputs": [],
   "source": [
    "ax = combined[combined.Country == 'Colombia' ].groupby('year')['Total Visas'].sum().plot(kind='barh', color='black')\n",
    "ax.set_title(\"Colombia\")\n",
    "ax.grid(axis='x')\n",
    "ax.set_xlabel(\"Total amount of Visas\")\n",
    "ax.xaxis.set_label(\"This...\")\n",
    "ax.set_ylabel(\"\")\n",
    "ax.legend('')\n",
    "ax.spines['right'].set_visible(False)\n",
    "ax.spines['top'].set_visible(False)\n",
    "ax.xaxis.set_major_formatter(ticker.StrMethodFormatter(\"{x:,.0f}\"))\n",
    "ax.xaxis.set_ticks_position('none')\n",
    "ax.yaxis.set_ticks_position('none')"
   ]
  },
  {
   "cell_type": "markdown",
   "metadata": {},
   "source": [
    "## Φτιάξτε ένα γράφημα για τις βίζες που δόθηκαν στο Ιρακ"
   ]
  },
  {
   "cell_type": "code",
   "execution_count": null,
   "metadata": {},
   "outputs": [],
   "source": [
    "ax = combined[combined.Country == 'Iraq' ].groupby('year')['Total Visas'].sum().sort_values(ascending = True).plot(kind='barh', color='yellow')\n",
    "ax.set_title(\"Iraq\")\n",
    "ax.grid(axis='x')\n",
    "ax.set_xlabel(\"Total amount of Visas\")\n",
    "ax.xaxis.set_label(\"This...\")\n",
    "ax.set_ylabel(\"\")\n",
    "ax.legend('')\n",
    "ax.spines['right'].set_visible(False)\n",
    "ax.spines['top'].set_visible(False)\n",
    "ax.xaxis.set_major_formatter(ticker.StrMethodFormatter(\"{x:,.0f}\"))\n",
    "ax.xaxis.set_ticks_position('none')\n",
    "ax.yaxis.set_ticks_position('none')"
   ]
  },
  {
   "cell_type": "markdown",
   "metadata": {},
   "source": [
    "## Φτιάξτε ένα γράφημα για τις βίζες που δόθηκαν στο Μεξικό"
   ]
  },
  {
   "cell_type": "code",
   "execution_count": null,
   "metadata": {},
   "outputs": [],
   "source": [
    "ax = combined[combined.Country == 'Mexico' ].groupby('year')['Total Visas'].sum().sort_values(ascending = True).plot(kind='bar', color='green')\n",
    "ax.set_title(\"Mexico\")\n",
    "ax.set_xlabel(\"Year\")\n",
    "ax.xaxis.set_label(\"Year\")\n",
    "ax.set_ylabel(\"\")\n",
    "ax.legend('')\n",
    "ax.spines['right'].set_visible(False)\n",
    "ax.spines['top'].set_visible(False)\n",
    "ax.xaxis.set_ticks_position('none')\n",
    "ax.yaxis.set_ticks_position('none')"
   ]
  },
  {
   "cell_type": "markdown",
   "metadata": {},
   "source": [
    "## Φτιάξτε άλλα 2 γραφήματα της επιλογής σας!"
   ]
  },
  {
   "cell_type": "code",
   "execution_count": null,
   "metadata": {},
   "outputs": [],
   "source": []
  },
  {
   "cell_type": "code",
   "execution_count": null,
   "metadata": {},
   "outputs": [],
   "source": []
  }
 ],
 "metadata": {
  "kernelspec": {
   "display_name": "Python 3",
   "language": "python",
   "name": "python3"
  },
  "language_info": {
   "codemirror_mode": {
    "name": "ipython",
    "version": 3
   },
   "file_extension": ".py",
   "mimetype": "text/x-python",
   "name": "python",
   "nbconvert_exporter": "python",
   "pygments_lexer": "ipython3",
   "version": "3.9.2"
  }
 },
 "nbformat": 4,
 "nbformat_minor": 2
}
