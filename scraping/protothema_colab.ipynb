{
  "nbformat": 4,
  "nbformat_minor": 0,
  "metadata": {
    "kernelspec": {
      "display_name": "Python 3",
      "language": "python",
      "name": "python3"
    },
    "language_info": {
      "codemirror_mode": {
        "name": "ipython",
        "version": 3
      },
      "file_extension": ".py",
      "mimetype": "text/x-python",
      "name": "python",
      "nbconvert_exporter": "python",
      "pygments_lexer": "ipython3",
      "version": "3.6.4"
    },
    "colab": {
      "name": "protothema_colab.ipynb",
      "provenance": []
    }
  },
  "cells": [
    {
      "cell_type": "code",
      "metadata": {
        "id": "Rx8rQ4fbX-_Q",
        "colab": {
          "base_uri": "https://localhost:8080/"
        },
        "outputId": "cc7016f1-f7c8-41e1-b5b1-4678ce7d34a9"
      },
      "source": [
        "!pip install selenium\n",
        "!apt-get update # to update ubuntu to correctly run apt install\n",
        "!apt install chromium-chromedriver\n",
        "!cp /usr/lib/chromium-browser/chromedriver /usr/bin\n",
        "import sys\n",
        "sys.path.insert(0,'/usr/lib/chromium-browser/chromedriver')\n",
        "from selenium import webdriver\n",
        "chrome_options = webdriver.ChromeOptions()\n",
        "chrome_options.add_argument('--headless')\n",
        "chrome_options.add_argument('--no-sandbox')\n",
        "chrome_options.add_argument('--disable-dev-shm-usage')\n",
        "driver = webdriver.Chrome('chromedriver',chrome_options=chrome_options)\n"
      ],
      "execution_count": 1,
      "outputs": [
        {
          "output_type": "stream",
          "text": [
            "Collecting selenium\n",
            "\u001b[?25l  Downloading https://files.pythonhosted.org/packages/80/d6/4294f0b4bce4de0abf13e17190289f9d0613b0a44e5dd6a7f5ca98459853/selenium-3.141.0-py2.py3-none-any.whl (904kB)\n",
            "\u001b[K     |████████████████████████████████| 911kB 7.7MB/s \n",
            "\u001b[?25hRequirement already satisfied: urllib3 in /usr/local/lib/python3.7/dist-packages (from selenium) (1.24.3)\n",
            "Installing collected packages: selenium\n",
            "Successfully installed selenium-3.141.0\n",
            "Get:1 https://cloud.r-project.org/bin/linux/ubuntu bionic-cran40/ InRelease [3,626 B]\n",
            "Ign:2 https://developer.download.nvidia.com/compute/cuda/repos/ubuntu1804/x86_64  InRelease\n",
            "Ign:3 https://developer.download.nvidia.com/compute/machine-learning/repos/ubuntu1804/x86_64  InRelease\n",
            "Get:4 https://developer.download.nvidia.com/compute/cuda/repos/ubuntu1804/x86_64  Release [697 B]\n",
            "Hit:5 https://developer.download.nvidia.com/compute/machine-learning/repos/ubuntu1804/x86_64  Release\n",
            "Get:6 https://developer.download.nvidia.com/compute/cuda/repos/ubuntu1804/x86_64  Release.gpg [836 B]\n",
            "Hit:7 http://archive.ubuntu.com/ubuntu bionic InRelease\n",
            "Get:8 http://security.ubuntu.com/ubuntu bionic-security InRelease [88.7 kB]\n",
            "Get:9 https://cloud.r-project.org/bin/linux/ubuntu bionic-cran40/ Packages [61.8 kB]\n",
            "Get:10 http://archive.ubuntu.com/ubuntu bionic-updates InRelease [88.7 kB]\n",
            "Get:11 http://ppa.launchpad.net/c2d4u.team/c2d4u4.0+/ubuntu bionic InRelease [15.9 kB]\n",
            "Hit:13 http://ppa.launchpad.net/cran/libgit2/ubuntu bionic InRelease\n",
            "Ign:14 https://developer.download.nvidia.com/compute/cuda/repos/ubuntu1804/x86_64  Packages\n",
            "Get:14 https://developer.download.nvidia.com/compute/cuda/repos/ubuntu1804/x86_64  Packages [800 kB]\n",
            "Get:15 http://archive.ubuntu.com/ubuntu bionic-backports InRelease [74.6 kB]\n",
            "Get:16 http://ppa.launchpad.net/deadsnakes/ppa/ubuntu bionic InRelease [15.9 kB]\n",
            "Get:17 http://security.ubuntu.com/ubuntu bionic-security/main amd64 Packages [2,185 kB]\n",
            "Get:18 http://ppa.launchpad.net/graphics-drivers/ppa/ubuntu bionic InRelease [21.3 kB]\n",
            "Get:19 http://security.ubuntu.com/ubuntu bionic-security/universe amd64 Packages [1,415 kB]\n",
            "Get:20 http://security.ubuntu.com/ubuntu bionic-security/restricted amd64 Packages [450 kB]\n",
            "Get:21 http://archive.ubuntu.com/ubuntu bionic-updates/main amd64 Packages [2,619 kB]\n",
            "Get:22 http://ppa.launchpad.net/c2d4u.team/c2d4u4.0+/ubuntu bionic/main Sources [1,772 kB]\n",
            "Get:23 http://archive.ubuntu.com/ubuntu bionic-updates/universe amd64 Packages [2,184 kB]\n",
            "Get:24 http://archive.ubuntu.com/ubuntu bionic-updates/restricted amd64 Packages [481 kB]\n",
            "Get:25 http://archive.ubuntu.com/ubuntu bionic-updates/multiverse amd64 Packages [33.5 kB]\n",
            "Get:26 http://ppa.launchpad.net/c2d4u.team/c2d4u4.0+/ubuntu bionic/main amd64 Packages [906 kB]\n",
            "Get:27 http://ppa.launchpad.net/deadsnakes/ppa/ubuntu bionic/main amd64 Packages [40.9 kB]\n",
            "Get:28 http://ppa.launchpad.net/graphics-drivers/ppa/ubuntu bionic/main amd64 Packages [41.6 kB]\n",
            "Fetched 13.3 MB in 5s (2,654 kB/s)\n",
            "Reading package lists... Done\n",
            "Reading package lists... Done\n",
            "Building dependency tree       \n",
            "Reading state information... Done\n",
            "The following additional packages will be installed:\n",
            "  chromium-browser chromium-browser-l10n chromium-codecs-ffmpeg-extra\n",
            "Suggested packages:\n",
            "  webaccounts-chromium-extension unity-chromium-extension\n",
            "The following NEW packages will be installed:\n",
            "  chromium-browser chromium-browser-l10n chromium-chromedriver\n",
            "  chromium-codecs-ffmpeg-extra\n",
            "0 upgraded, 4 newly installed, 0 to remove and 48 not upgraded.\n",
            "Need to get 86.0 MB of archives.\n",
            "After this operation, 298 MB of additional disk space will be used.\n",
            "Get:1 http://archive.ubuntu.com/ubuntu bionic-updates/universe amd64 chromium-codecs-ffmpeg-extra amd64 91.0.4472.101-0ubuntu0.18.04.1 [1,124 kB]\n",
            "Get:2 http://archive.ubuntu.com/ubuntu bionic-updates/universe amd64 chromium-browser amd64 91.0.4472.101-0ubuntu0.18.04.1 [76.1 MB]\n",
            "Get:3 http://archive.ubuntu.com/ubuntu bionic-updates/universe amd64 chromium-browser-l10n all 91.0.4472.101-0ubuntu0.18.04.1 [3,937 kB]\n",
            "Get:4 http://archive.ubuntu.com/ubuntu bionic-updates/universe amd64 chromium-chromedriver amd64 91.0.4472.101-0ubuntu0.18.04.1 [4,837 kB]\n",
            "Fetched 86.0 MB in 5s (15.7 MB/s)\n",
            "Selecting previously unselected package chromium-codecs-ffmpeg-extra.\n",
            "(Reading database ... 160772 files and directories currently installed.)\n",
            "Preparing to unpack .../chromium-codecs-ffmpeg-extra_91.0.4472.101-0ubuntu0.18.04.1_amd64.deb ...\n",
            "Unpacking chromium-codecs-ffmpeg-extra (91.0.4472.101-0ubuntu0.18.04.1) ...\n",
            "Selecting previously unselected package chromium-browser.\n",
            "Preparing to unpack .../chromium-browser_91.0.4472.101-0ubuntu0.18.04.1_amd64.deb ...\n",
            "Unpacking chromium-browser (91.0.4472.101-0ubuntu0.18.04.1) ...\n",
            "Selecting previously unselected package chromium-browser-l10n.\n",
            "Preparing to unpack .../chromium-browser-l10n_91.0.4472.101-0ubuntu0.18.04.1_all.deb ...\n",
            "Unpacking chromium-browser-l10n (91.0.4472.101-0ubuntu0.18.04.1) ...\n",
            "Selecting previously unselected package chromium-chromedriver.\n",
            "Preparing to unpack .../chromium-chromedriver_91.0.4472.101-0ubuntu0.18.04.1_amd64.deb ...\n",
            "Unpacking chromium-chromedriver (91.0.4472.101-0ubuntu0.18.04.1) ...\n",
            "Setting up chromium-codecs-ffmpeg-extra (91.0.4472.101-0ubuntu0.18.04.1) ...\n",
            "Setting up chromium-browser (91.0.4472.101-0ubuntu0.18.04.1) ...\n",
            "update-alternatives: using /usr/bin/chromium-browser to provide /usr/bin/x-www-browser (x-www-browser) in auto mode\n",
            "update-alternatives: using /usr/bin/chromium-browser to provide /usr/bin/gnome-www-browser (gnome-www-browser) in auto mode\n",
            "Setting up chromium-chromedriver (91.0.4472.101-0ubuntu0.18.04.1) ...\n",
            "Setting up chromium-browser-l10n (91.0.4472.101-0ubuntu0.18.04.1) ...\n",
            "Processing triggers for man-db (2.8.3-2ubuntu0.1) ...\n",
            "Processing triggers for hicolor-icon-theme (0.17-2) ...\n",
            "Processing triggers for mime-support (3.60ubuntu1) ...\n",
            "Processing triggers for libc-bin (2.27-3ubuntu1.2) ...\n",
            "/sbin/ldconfig.real: /usr/local/lib/python3.7/dist-packages/ideep4py/lib/libmkldnn.so.0 is not a symbolic link\n",
            "\n",
            "cp: '/usr/lib/chromium-browser/chromedriver' and '/usr/bin/chromedriver' are the same file\n"
          ],
          "name": "stdout"
        },
        {
          "output_type": "stream",
          "text": [
            "/usr/local/lib/python3.7/dist-packages/ipykernel_launcher.py:12: DeprecationWarning: use options instead of chrome_options\n",
            "  if sys.path[0] == '':\n"
          ],
          "name": "stderr"
        }
      ]
    },
    {
      "cell_type": "code",
      "metadata": {
        "id": "HrTC0W6yQgjD"
      },
      "source": [
        "import time\n",
        "\n",
        "from bs4 import BeautifulSoup\n",
        "\n",
        "#driver = webdriver.Chrome()\n",
        "driver.implicitly_wait(30)\n",
        "\n",
        "# download webdriver from https://chromedriver.storage.googleapis.com/index.html?path=83.0.4103.39/\n",
        "# and put the executable in /usr/local/bin\n"
      ],
      "execution_count": 2,
      "outputs": []
    },
    {
      "cell_type": "code",
      "metadata": {
        "id": "ZAO20d7lQgjW",
        "colab": {
          "base_uri": "https://localhost:8080/"
        },
        "outputId": "57763ef8-e9d0-470a-f31d-ac1cb108fdbb"
      },
      "source": [
        "try:\n",
        "    SCROLL_PAUSE_TIME = 3.5\n",
        "    driver.get(\"https://www.protothema.gr/anazitisi/?q=covid\")\n",
        "\n",
        "\n",
        "    last_height = driver.execute_script(\"return document.body.scrollHeight\")\n",
        "\n",
        "    while (last_height < 42000):\n",
        "        driver.execute_script(\"window.scrollTo(0, document.body.scrollHeight);\")\n",
        "        time.sleep(SCROLL_PAUSE_TIME)\n",
        "        new_height = driver.execute_script(\"return document.body.scrollHeight\")\n",
        "        print('height:', new_height)\n",
        "        if new_height == last_height:\n",
        "            print('height =' , new_height)\n",
        "            break\n",
        "        last_height = new_height\n",
        "\n",
        "\n",
        "\n",
        "finally:\n",
        "#    driver.quit()\n",
        "    print(\"OK\")"
      ],
      "execution_count": 4,
      "outputs": [
        {
          "output_type": "stream",
          "text": [
            "height: 7648\n",
            "height: 10040\n",
            "height: 12131\n",
            "height: 14316\n",
            "height: 16440\n",
            "height: 18777\n",
            "height: 21069\n",
            "height: 23241\n",
            "height: 25538\n",
            "height: 27945\n",
            "height: 30087\n",
            "height: 32297\n",
            "height: 34542\n",
            "height: 36861\n",
            "height: 39176\n",
            "height: 41420\n",
            "height: 43665\n",
            "OK\n"
          ],
          "name": "stdout"
        }
      ]
    },
    {
      "cell_type": "code",
      "metadata": {
        "id": "syoPRrtEQgjm"
      },
      "source": [
        "soup = BeautifulSoup(driver.page_source, \"html.parser\")"
      ],
      "execution_count": 5,
      "outputs": []
    },
    {
      "cell_type": "code",
      "metadata": {
        "scrolled": false,
        "id": "4s2CwvBUQgjy"
      },
      "source": [
        "stories_list = []\n",
        "\n",
        "stories = soup.find_all('div', { 'class': 'article' })\n",
        "\n",
        "for story in stories:\n",
        "    heading = story.find('h3')\n",
        "    link = heading.find('a')\n",
        "    date = story.find('time')\n",
        "    datetime = date['datetime']\n",
        "\n",
        "    \n",
        "    story_dict = {\n",
        "        'headline': heading.text,\n",
        "        'url': link['href'],\n",
        "        'date': datetime\n",
        "    }\n",
        "     \n",
        "    # Πρόσθεσε το λέξικο στη λίστα\n",
        "    stories_list.append(story_dict)"
      ],
      "execution_count": 6,
      "outputs": []
    },
    {
      "cell_type": "code",
      "metadata": {
        "id": "cl6fCVwJQgj_",
        "colab": {
          "base_uri": "https://localhost:8080/"
        },
        "outputId": "b60c188d-2ceb-46c9-dc31-219a1e504702"
      },
      "source": [
        "print(len(stories_list))"
      ],
      "execution_count": 7,
      "outputs": [
        {
          "output_type": "stream",
          "text": [
            "190\n"
          ],
          "name": "stdout"
        }
      ]
    },
    {
      "cell_type": "code",
      "metadata": {
        "id": "LScbxk_CQgkN"
      },
      "source": [
        ""
      ],
      "execution_count": 7,
      "outputs": []
    },
    {
      "cell_type": "code",
      "metadata": {
        "id": "FNsIkNvwQgkY"
      },
      "source": [
        "import pandas as pd\n",
        "df = pd.DataFrame(stories_list)"
      ],
      "execution_count": 8,
      "outputs": []
    },
    {
      "cell_type": "code",
      "metadata": {
        "id": "SZsT-HraQgkk",
        "colab": {
          "base_uri": "https://localhost:8080/",
          "height": 424
        },
        "outputId": "c40bb12d-6745-4f4e-ede1-791ea6dbb9a4"
      },
      "source": [
        "df"
      ],
      "execution_count": 9,
      "outputs": [
        {
          "output_type": "execute_result",
          "data": {
            "text/html": [
              "<div>\n",
              "<style scoped>\n",
              "    .dataframe tbody tr th:only-of-type {\n",
              "        vertical-align: middle;\n",
              "    }\n",
              "\n",
              "    .dataframe tbody tr th {\n",
              "        vertical-align: top;\n",
              "    }\n",
              "\n",
              "    .dataframe thead th {\n",
              "        text-align: right;\n",
              "    }\n",
              "</style>\n",
              "<table border=\"1\" class=\"dataframe\">\n",
              "  <thead>\n",
              "    <tr style=\"text-align: right;\">\n",
              "      <th></th>\n",
              "      <th>headline</th>\n",
              "      <th>url</th>\n",
              "      <th>date</th>\n",
              "    </tr>\n",
              "  </thead>\n",
              "  <tbody>\n",
              "    <tr>\n",
              "      <th>0</th>\n",
              "      <td>\\nAstraZeneca: Δεν παρέχει επαρκή προστασία η ...</td>\n",
              "      <td>https://www.protothema.gr/koronoios-live/artic...</td>\n",
              "      <td>2021-06-15T13:52:00+03:00</td>\n",
              "    </tr>\n",
              "    <tr>\n",
              "      <th>1</th>\n",
              "      <td>\\nΧάος απειλεί το παγκόσμιο εμπόριο μετά τη νέ...</td>\n",
              "      <td>https://www.newmoney.gr/roh/palmos-oikonomias/...</td>\n",
              "      <td>2021-06-15T13:50:21+03:00</td>\n",
              "    </tr>\n",
              "    <tr>\n",
              "      <th>2</th>\n",
              "      <td>\\nG7: Ο Μπάιντεν τα μπέρδεψε... ξανά - Οι «διο...</td>\n",
              "      <td>https://www.protothema.gr/world/article/113403...</td>\n",
              "      <td>2021-06-15T13:48:00+03:00</td>\n",
              "    </tr>\n",
              "    <tr>\n",
              "      <th>3</th>\n",
              "      <td>\\nΜήλος: «Σημαντικές οι τουριστικές ροές» λέει...</td>\n",
              "      <td>https://www.protothema.gr/travelling/article/1...</td>\n",
              "      <td>2021-06-15T11:21:00+03:00</td>\n",
              "    </tr>\n",
              "    <tr>\n",
              "      <th>4</th>\n",
              "      <td>\\nΜειωμένα ενοίκια: Τελευταία ημέρα υποβολής τ...</td>\n",
              "      <td>https://www.protothema.gr/economy/article/1133...</td>\n",
              "      <td>2021-06-15T11:09:10+03:00</td>\n",
              "    </tr>\n",
              "    <tr>\n",
              "      <th>...</th>\n",
              "      <td>...</td>\n",
              "      <td>...</td>\n",
              "      <td>...</td>\n",
              "    </tr>\n",
              "    <tr>\n",
              "      <th>185</th>\n",
              "      <td>\\nO πρώτος Ασιάτης με προβλήματα όρασης που κα...</td>\n",
              "      <td>https://www.protothema.gr/world/article/113004...</td>\n",
              "      <td>2021-06-02T15:43:00+03:00</td>\n",
              "    </tr>\n",
              "    <tr>\n",
              "      <th>186</th>\n",
              "      <td>\\nΠανδημία: Τέσσερα πρόσωπα αποκαλύπτουν πώς ά...</td>\n",
              "      <td>https://www.protothema.gr/zoi/article/1129879/...</td>\n",
              "      <td>2021-06-02T15:33:00+03:00</td>\n",
              "    </tr>\n",
              "    <tr>\n",
              "      <th>187</th>\n",
              "      <td>\\nΟι μισοί Γερμανοί λένε «ναι» στη μάσκα ακόμη...</td>\n",
              "      <td>https://www.protothema.gr/world/article/112998...</td>\n",
              "      <td>2021-06-02T13:32:00+03:00</td>\n",
              "    </tr>\n",
              "    <tr>\n",
              "      <th>188</th>\n",
              "      <td>\\nΔιπλή βράβευση της bwin στα Bravo Sustainabi...</td>\n",
              "      <td>https://www.protothema.gr/advertorial/article/...</td>\n",
              "      <td>2021-06-02T13:00:00+03:00</td>\n",
              "    </tr>\n",
              "    <tr>\n",
              "      <th>189</th>\n",
              "      <td>\\nRyanair: «Είναι τρελό να μην βρίσκεται η Ελλ...</td>\n",
              "      <td>https://www.protothema.gr/koronoios-live/artic...</td>\n",
              "      <td>2021-06-02T11:21:00+03:00</td>\n",
              "    </tr>\n",
              "  </tbody>\n",
              "</table>\n",
              "<p>190 rows × 3 columns</p>\n",
              "</div>"
            ],
            "text/plain": [
              "                                              headline  ...                       date\n",
              "0    \\nAstraZeneca: Δεν παρέχει επαρκή προστασία η ...  ...  2021-06-15T13:52:00+03:00\n",
              "1    \\nΧάος απειλεί το παγκόσμιο εμπόριο μετά τη νέ...  ...  2021-06-15T13:50:21+03:00\n",
              "2    \\nG7: Ο Μπάιντεν τα μπέρδεψε... ξανά - Οι «διο...  ...  2021-06-15T13:48:00+03:00\n",
              "3    \\nΜήλος: «Σημαντικές οι τουριστικές ροές» λέει...  ...  2021-06-15T11:21:00+03:00\n",
              "4    \\nΜειωμένα ενοίκια: Τελευταία ημέρα υποβολής τ...  ...  2021-06-15T11:09:10+03:00\n",
              "..                                                 ...  ...                        ...\n",
              "185  \\nO πρώτος Ασιάτης με προβλήματα όρασης που κα...  ...  2021-06-02T15:43:00+03:00\n",
              "186  \\nΠανδημία: Τέσσερα πρόσωπα αποκαλύπτουν πώς ά...  ...  2021-06-02T15:33:00+03:00\n",
              "187  \\nΟι μισοί Γερμανοί λένε «ναι» στη μάσκα ακόμη...  ...  2021-06-02T13:32:00+03:00\n",
              "188  \\nΔιπλή βράβευση της bwin στα Bravo Sustainabi...  ...  2021-06-02T13:00:00+03:00\n",
              "189  \\nRyanair: «Είναι τρελό να μην βρίσκεται η Ελλ...  ...  2021-06-02T11:21:00+03:00\n",
              "\n",
              "[190 rows x 3 columns]"
            ]
          },
          "metadata": {
            "tags": []
          },
          "execution_count": 9
        }
      ]
    },
    {
      "cell_type": "code",
      "metadata": {
        "id": "W2-UXXqPQgkt",
        "colab": {
          "base_uri": "https://localhost:8080/",
          "height": 424
        },
        "outputId": "a31b98b4-c9eb-4b13-bc3f-164c4e3eeaf4"
      },
      "source": [
        "df.sort_values(by='date', ascending = False)"
      ],
      "execution_count": 10,
      "outputs": [
        {
          "output_type": "execute_result",
          "data": {
            "text/html": [
              "<div>\n",
              "<style scoped>\n",
              "    .dataframe tbody tr th:only-of-type {\n",
              "        vertical-align: middle;\n",
              "    }\n",
              "\n",
              "    .dataframe tbody tr th {\n",
              "        vertical-align: top;\n",
              "    }\n",
              "\n",
              "    .dataframe thead th {\n",
              "        text-align: right;\n",
              "    }\n",
              "</style>\n",
              "<table border=\"1\" class=\"dataframe\">\n",
              "  <thead>\n",
              "    <tr style=\"text-align: right;\">\n",
              "      <th></th>\n",
              "      <th>headline</th>\n",
              "      <th>url</th>\n",
              "      <th>date</th>\n",
              "    </tr>\n",
              "  </thead>\n",
              "  <tbody>\n",
              "    <tr>\n",
              "      <th>0</th>\n",
              "      <td>\\nAstraZeneca: Δεν παρέχει επαρκή προστασία η ...</td>\n",
              "      <td>https://www.protothema.gr/koronoios-live/artic...</td>\n",
              "      <td>2021-06-15T13:52:00+03:00</td>\n",
              "    </tr>\n",
              "    <tr>\n",
              "      <th>1</th>\n",
              "      <td>\\nΧάος απειλεί το παγκόσμιο εμπόριο μετά τη νέ...</td>\n",
              "      <td>https://www.newmoney.gr/roh/palmos-oikonomias/...</td>\n",
              "      <td>2021-06-15T13:50:21+03:00</td>\n",
              "    </tr>\n",
              "    <tr>\n",
              "      <th>2</th>\n",
              "      <td>\\nG7: Ο Μπάιντεν τα μπέρδεψε... ξανά - Οι «διο...</td>\n",
              "      <td>https://www.protothema.gr/world/article/113403...</td>\n",
              "      <td>2021-06-15T13:48:00+03:00</td>\n",
              "    </tr>\n",
              "    <tr>\n",
              "      <th>3</th>\n",
              "      <td>\\nΜήλος: «Σημαντικές οι τουριστικές ροές» λέει...</td>\n",
              "      <td>https://www.protothema.gr/travelling/article/1...</td>\n",
              "      <td>2021-06-15T11:21:00+03:00</td>\n",
              "    </tr>\n",
              "    <tr>\n",
              "      <th>4</th>\n",
              "      <td>\\nΜειωμένα ενοίκια: Τελευταία ημέρα υποβολής τ...</td>\n",
              "      <td>https://www.protothema.gr/economy/article/1133...</td>\n",
              "      <td>2021-06-15T11:09:10+03:00</td>\n",
              "    </tr>\n",
              "    <tr>\n",
              "      <th>...</th>\n",
              "      <td>...</td>\n",
              "      <td>...</td>\n",
              "      <td>...</td>\n",
              "    </tr>\n",
              "    <tr>\n",
              "      <th>185</th>\n",
              "      <td>\\nO πρώτος Ασιάτης με προβλήματα όρασης που κα...</td>\n",
              "      <td>https://www.protothema.gr/world/article/113004...</td>\n",
              "      <td>2021-06-02T15:43:00+03:00</td>\n",
              "    </tr>\n",
              "    <tr>\n",
              "      <th>186</th>\n",
              "      <td>\\nΠανδημία: Τέσσερα πρόσωπα αποκαλύπτουν πώς ά...</td>\n",
              "      <td>https://www.protothema.gr/zoi/article/1129879/...</td>\n",
              "      <td>2021-06-02T15:33:00+03:00</td>\n",
              "    </tr>\n",
              "    <tr>\n",
              "      <th>187</th>\n",
              "      <td>\\nΟι μισοί Γερμανοί λένε «ναι» στη μάσκα ακόμη...</td>\n",
              "      <td>https://www.protothema.gr/world/article/112998...</td>\n",
              "      <td>2021-06-02T13:32:00+03:00</td>\n",
              "    </tr>\n",
              "    <tr>\n",
              "      <th>188</th>\n",
              "      <td>\\nΔιπλή βράβευση της bwin στα Bravo Sustainabi...</td>\n",
              "      <td>https://www.protothema.gr/advertorial/article/...</td>\n",
              "      <td>2021-06-02T13:00:00+03:00</td>\n",
              "    </tr>\n",
              "    <tr>\n",
              "      <th>189</th>\n",
              "      <td>\\nRyanair: «Είναι τρελό να μην βρίσκεται η Ελλ...</td>\n",
              "      <td>https://www.protothema.gr/koronoios-live/artic...</td>\n",
              "      <td>2021-06-02T11:21:00+03:00</td>\n",
              "    </tr>\n",
              "  </tbody>\n",
              "</table>\n",
              "<p>190 rows × 3 columns</p>\n",
              "</div>"
            ],
            "text/plain": [
              "                                              headline  ...                       date\n",
              "0    \\nAstraZeneca: Δεν παρέχει επαρκή προστασία η ...  ...  2021-06-15T13:52:00+03:00\n",
              "1    \\nΧάος απειλεί το παγκόσμιο εμπόριο μετά τη νέ...  ...  2021-06-15T13:50:21+03:00\n",
              "2    \\nG7: Ο Μπάιντεν τα μπέρδεψε... ξανά - Οι «διο...  ...  2021-06-15T13:48:00+03:00\n",
              "3    \\nΜήλος: «Σημαντικές οι τουριστικές ροές» λέει...  ...  2021-06-15T11:21:00+03:00\n",
              "4    \\nΜειωμένα ενοίκια: Τελευταία ημέρα υποβολής τ...  ...  2021-06-15T11:09:10+03:00\n",
              "..                                                 ...  ...                        ...\n",
              "185  \\nO πρώτος Ασιάτης με προβλήματα όρασης που κα...  ...  2021-06-02T15:43:00+03:00\n",
              "186  \\nΠανδημία: Τέσσερα πρόσωπα αποκαλύπτουν πώς ά...  ...  2021-06-02T15:33:00+03:00\n",
              "187  \\nΟι μισοί Γερμανοί λένε «ναι» στη μάσκα ακόμη...  ...  2021-06-02T13:32:00+03:00\n",
              "188  \\nΔιπλή βράβευση της bwin στα Bravo Sustainabi...  ...  2021-06-02T13:00:00+03:00\n",
              "189  \\nRyanair: «Είναι τρελό να μην βρίσκεται η Ελλ...  ...  2021-06-02T11:21:00+03:00\n",
              "\n",
              "[190 rows x 3 columns]"
            ]
          },
          "metadata": {
            "tags": []
          },
          "execution_count": 10
        }
      ]
    },
    {
      "cell_type": "code",
      "metadata": {
        "id": "HgNGzCV-Qgk3",
        "colab": {
          "base_uri": "https://localhost:8080/",
          "height": 206
        },
        "outputId": "20ac3488-eb87-4290-baa7-9e214ee51cc1"
      },
      "source": [
        "df.tail()"
      ],
      "execution_count": 11,
      "outputs": [
        {
          "output_type": "execute_result",
          "data": {
            "text/html": [
              "<div>\n",
              "<style scoped>\n",
              "    .dataframe tbody tr th:only-of-type {\n",
              "        vertical-align: middle;\n",
              "    }\n",
              "\n",
              "    .dataframe tbody tr th {\n",
              "        vertical-align: top;\n",
              "    }\n",
              "\n",
              "    .dataframe thead th {\n",
              "        text-align: right;\n",
              "    }\n",
              "</style>\n",
              "<table border=\"1\" class=\"dataframe\">\n",
              "  <thead>\n",
              "    <tr style=\"text-align: right;\">\n",
              "      <th></th>\n",
              "      <th>headline</th>\n",
              "      <th>url</th>\n",
              "      <th>date</th>\n",
              "    </tr>\n",
              "  </thead>\n",
              "  <tbody>\n",
              "    <tr>\n",
              "      <th>185</th>\n",
              "      <td>\\nO πρώτος Ασιάτης με προβλήματα όρασης που κα...</td>\n",
              "      <td>https://www.protothema.gr/world/article/113004...</td>\n",
              "      <td>2021-06-02T15:43:00+03:00</td>\n",
              "    </tr>\n",
              "    <tr>\n",
              "      <th>186</th>\n",
              "      <td>\\nΠανδημία: Τέσσερα πρόσωπα αποκαλύπτουν πώς ά...</td>\n",
              "      <td>https://www.protothema.gr/zoi/article/1129879/...</td>\n",
              "      <td>2021-06-02T15:33:00+03:00</td>\n",
              "    </tr>\n",
              "    <tr>\n",
              "      <th>187</th>\n",
              "      <td>\\nΟι μισοί Γερμανοί λένε «ναι» στη μάσκα ακόμη...</td>\n",
              "      <td>https://www.protothema.gr/world/article/112998...</td>\n",
              "      <td>2021-06-02T13:32:00+03:00</td>\n",
              "    </tr>\n",
              "    <tr>\n",
              "      <th>188</th>\n",
              "      <td>\\nΔιπλή βράβευση της bwin στα Bravo Sustainabi...</td>\n",
              "      <td>https://www.protothema.gr/advertorial/article/...</td>\n",
              "      <td>2021-06-02T13:00:00+03:00</td>\n",
              "    </tr>\n",
              "    <tr>\n",
              "      <th>189</th>\n",
              "      <td>\\nRyanair: «Είναι τρελό να μην βρίσκεται η Ελλ...</td>\n",
              "      <td>https://www.protothema.gr/koronoios-live/artic...</td>\n",
              "      <td>2021-06-02T11:21:00+03:00</td>\n",
              "    </tr>\n",
              "  </tbody>\n",
              "</table>\n",
              "</div>"
            ],
            "text/plain": [
              "                                              headline  ...                       date\n",
              "185  \\nO πρώτος Ασιάτης με προβλήματα όρασης που κα...  ...  2021-06-02T15:43:00+03:00\n",
              "186  \\nΠανδημία: Τέσσερα πρόσωπα αποκαλύπτουν πώς ά...  ...  2021-06-02T15:33:00+03:00\n",
              "187  \\nΟι μισοί Γερμανοί λένε «ναι» στη μάσκα ακόμη...  ...  2021-06-02T13:32:00+03:00\n",
              "188  \\nΔιπλή βράβευση της bwin στα Bravo Sustainabi...  ...  2021-06-02T13:00:00+03:00\n",
              "189  \\nRyanair: «Είναι τρελό να μην βρίσκεται η Ελλ...  ...  2021-06-02T11:21:00+03:00\n",
              "\n",
              "[5 rows x 3 columns]"
            ]
          },
          "metadata": {
            "tags": []
          },
          "execution_count": 11
        }
      ]
    },
    {
      "cell_type": "code",
      "metadata": {
        "id": "pHLhks21Qglm"
      },
      "source": [
        "df.to_csv(\"covid.csv\", index=False)"
      ],
      "execution_count": null,
      "outputs": []
    },
    {
      "cell_type": "code",
      "metadata": {
        "id": "-HePWZRAQgl9"
      },
      "source": [
        ""
      ],
      "execution_count": null,
      "outputs": []
    }
  ]
}