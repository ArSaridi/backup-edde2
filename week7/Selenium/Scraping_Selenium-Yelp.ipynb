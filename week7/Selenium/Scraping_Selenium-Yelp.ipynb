{
 "cells": [
  {
   "cell_type": "markdown",
   "metadata": {},
   "source": [
    "\n",
    "\n",
    "## Scraping μιας σελίδας του Yelp\n",
    "\n",
    "Πάμε να δοκιμάσουμε να εξορύξουμε περιεχόμενο από την σελίδα Yelp. \n",
    "Η σελίδα που θέλουμε να πάρουμε είναι η τοποθεσία του Burger House \"Shake Shack\" [this Shake Shack location](https://www.yelp.com/biz/shake-shack-new-york-54).\n",
    "\n",
    "Θα πάρουμε το περιεχόμενο της html και στην συνέχεια θα αποθηκεύσουμε τις πληροφορίες σε ένα dictionary."
   ]
  },
  {
   "cell_type": "code",
   "execution_count": null,
   "metadata": {},
   "outputs": [],
   "source": [
    "#Καλούμε το selenium και ζητάμε να ανοίξει τον browser για μας\n",
    "from selenium import webdriver\n",
    "\n",
    "driver = webdriver.Chrome()\n",
    "\n",
    "driver.get('https://www.yelp.com/biz/shake-shack-new-york-54')\n",
    "\n",
    "store_name = driver.find_element_by_class_name(\"biz-page-title\").text\n",
    "full_address = driver.find_element_by_class_name(\"street-address\").text\n",
    "stars = driver.find_element_by_class_name(\"i-stars\").get_attribute('title')\n",
    "categories = driver.find_element_by_class_name(\"category-str-list\").text\n",
    "\n",
    "store = {\n",
    "    'name': store_name,\n",
    "    'address': full_address,\n",
    "    'stars': stars,\n",
    "    'categories': categories\n",
    "}\n",
    "\n",
    "store"
   ]
  },
  {
   "cell_type": "markdown",
   "metadata": {},
   "source": [
    "## Scraping για πολλές σελίδες στο Yelp\n",
    "\n",
    "Μερικές φορές δεν χρειαζόμαστε μόνο *μια* σελίδα, αλλά *πολλές* σελίδες. \n",
    "\n",
    "Σε αυτή την περίπτωση χρειαζόμαστε 2 πράγματα:\n",
    "\n",
    "1. Ένα από το οποίο θα κάνετε scraping για κάθε γραμμή.\n",
    "2. Ένα function για το scraping\n",
    "\n",
    "### Το dataframe μας"
   ]
  },
  {
   "cell_type": "code",
   "execution_count": null,
   "metadata": {},
   "outputs": [],
   "source": [
    "import pandas as pd\n",
    "\n",
    "df = pd.read_csv(\"../../data/yelp_sample.csv\")\n",
    "df.head(3)"
   ]
  },
  {
   "cell_type": "markdown",
   "metadata": {},
   "source": [
    "### To function  για το scraping\n",
    "\n",
    "Θα πάρουμε τον κώδικα που έχουμε γράψει επάνω και θα κάνουμε κάποιες μικρές αλλαγές:\n",
    "\n",
    "### 1. Θα προσθέσουμε το `def κάνεκάτισεκάθε(row)` για να το μετατρέψουμε σε ένα function\n",
    "\n",
    "Επειδή είναι function, θα χρειαστεί να βάλουμε indent.\n",
    "\n",
    "Επίσης, πρέπει να προσέξουμε πολύ να ΜΗΝ έχουμε το `driver = webdriver.Chrome()` μέσα στο function, γιατί θα ανοίγει ένα νέο παράθυρο στον Chrome κάθε φορά που θα επισκέπτεται μία σελίδα!!!\n",
    "\n",
    "### 2. Χρησιμοποιήστε τη μεταβλητή `row`, ώστε να μην παίρνουμε την ίδια σελίδα κάθε φορά.\n",
    "\n",
    "\n",
    "**Παλιός κώδικας**\n",
    "\n",
    "```python\n",
    "driver.get(\"https://www.yelp.com/biz/shake-shack-new-york-54\")\n",
    "```\n",
    "\n",
    "Τώρα έχω τη μεταβλητή `row` που είναι μια γραμμή από τα δεδομένα μας. Αν θέλουμε να φτιάξουμε ένα URL, παίρνουμε το `\"https://www.yelp.com/biz/\"` και προσθέτουμε το `row['slug']` (που στην ουσία είναι ο τρόπος που το Yelp δημιουργεί τα URLs).\n",
    "\n",
    "**Nέος κώδικας**\n",
    "\n",
    "```python\n",
    "driver.get(\"https://www.yelp.com/biz/\" + row['slug'])\n",
    "```\n",
    "\n",
    "### 3. Επιστρέψτε ένα `pd.Series` των δεδομένων μας αντί για ένα λεξικό (dictionary).\n",
    "\n",
    "**Παλιός κώδικας**\n",
    "\n",
    "```python\n",
    "store = {\n",
    "    'name': store_name,\n",
    "    'address': full_address,\n",
    "    'stars': stars,\n",
    "    'categories': categories\n",
    "}\n",
    "\n",
    "store\n",
    "```\n",
    "\n",
    "Επειδή είναι function, χρειαζόμαστε το **return** για να επιστρέψει κάτι - και για να προστεθούν οι νέες στήλες στο dataframe, πρέπει να είναι `pd.Series`.\n",
    "\n",
    "**Nέος κώδικας**\n",
    "\n",
    "```python\n",
    "return pd.Series({\n",
    "    'name': store_name,\n",
    "    'address': full_address,\n",
    "    'stars': stars,\n",
    "    'categories': categories\n",
    "})\n",
    "```"
   ]
  },
  {
   "cell_type": "markdown",
   "metadata": {},
   "source": [
    "## Ολοκληρωμένος ο παλιός κώδικας"
   ]
  },
  {
   "cell_type": "code",
   "execution_count": null,
   "metadata": {},
   "outputs": [],
   "source": [
    "driver = webdriver.Chrome()\n",
    "\n",
    "driver.get(\"https://www.yelp.com/biz/shake-shack-new-york-54\")\n",
    "\n",
    "store_name = driver.find_element_by_class_name(\"biz-page-title\").text\n",
    "full_address = driver.find_element_by_class_name(\"street-address\").text\n",
    "stars = driver.find_element_by_class_name(\"i-stars\").get_attribute('title')\n",
    "categories = driver.find_element_by_class_name(\"category-str-list\").text\n",
    "\n",
    "store = {\n",
    "    'name': store_name,\n",
    "    'address': full_address,\n",
    "    'stars': stars,\n",
    "    'categories': categories\n",
    "}\n",
    "\n",
    "store"
   ]
  },
  {
   "cell_type": "markdown",
   "metadata": {},
   "source": [
    "## Ολοκληρωμένος ο νέος κώδικας!"
   ]
  },
  {
   "cell_type": "code",
   "execution_count": null,
   "metadata": {},
   "outputs": [],
   "source": [
    "def get_yelp_info(row):\n",
    "    driver.get(\"https://www.yelp.com/biz/\" + row['slug'])\n",
    "\n",
    "    store_name = driver.find_element_by_class_name(\"biz-page-title\").text\n",
    "    full_address = driver.find_element_by_class_name(\"street-address\").text\n",
    "    stars = driver.find_element_by_class_name(\"i-stars\").get_attribute('title')\n",
    "    categories = driver.find_element_by_class_name(\"category-str-list\").text\n",
    "\n",
    "    return pd.Series({\n",
    "        'store_name': store_name,\n",
    "        'address': full_address,\n",
    "        'stars': stars,\n",
    "        'categories': categories\n",
    "    })"
   ]
  },
  {
   "cell_type": "markdown",
   "metadata": {},
   "source": [
    "## Χρησιμοποιώντας το function\n",
    "\n",
    "Τώρα που έχουμε το function έτοιμο, πρέπει να το **χρησιμοποιήσουμε**!\n",
    "\n",
    "1. Ανοίξτε τον `driver`\n",
    "2. Χρησιμοποιήστε το `.apply` για να τρέξει το function σε κάθε γραμμή (row)\n",
    "3. Χρησιμοποιήστε το `.join` για να προσθέσετε τις στήλες στο dataframe\n",
    "\n",
    "Ουσιαστικά πάντα θα αντιγράφετε αυτόν τον κώδικα. \n",
    "\n",
    "**Σιγουρευτείτε ότι αλλάζετε τα ονόματα της μεταβλητής.**"
   ]
  },
  {
   "cell_type": "code",
   "execution_count": null,
   "metadata": {},
   "outputs": [],
   "source": [
    "# Άνοιξε έναν καινούριο Chrome\n",
    "driver = webdriver.Chrome()\n",
    "\n",
    "# Πάρε κάθε row και βάλτο μέσα στο get_yelp_info και συνδύασέ το με τα παλιά δεδομένα.\n",
    "new_df = df.apply(get_yelp_info, axis=1).join(df)\n",
    "new_df.head()"
   ]
  },
  {
   "cell_type": "markdown",
   "metadata": {},
   "source": [
    "## Τι συμβαίνει με το BeautifulSoup?\n",
    "\n",
    "Κανένα πρόβλημα, μπορούμε να κάνουμε  *ακριβώς το ίδιο πράγμα.* Δεν έχει να κάνει με το Selenium, έχει να κάνει με τα pandas!"
   ]
  },
  {
   "cell_type": "code",
   "execution_count": null,
   "metadata": {},
   "outputs": [],
   "source": [
    "import requests\n",
    "from bs4 import BeautifulSoup"
   ]
  },
  {
   "cell_type": "code",
   "execution_count": null,
   "metadata": {},
   "outputs": [],
   "source": [
    "def get_yelp_with_bs(row):\n",
    "    response = requests.get(\"https://www.yelp.com/biz/\" + row['slug'])\n",
    "    doc = BeautifulSoup(response.text, 'html.parser')\n",
    "    \n",
    "    store_name = doc.find(class_=\"biz-page-title\").text\n",
    "    full_address = doc.find(class_=\"street-address\").text\n",
    "    stars = doc.find(class_=\"i-stars\")['title']\n",
    "    categories = doc.find(class_=\"category-str-list\").text\n",
    "\n",
    "    return pd.Series({\n",
    "        'store_name': store_name,\n",
    "        'address': full_address,\n",
    "        'stars': stars,\n",
    "        'categories': categories\n",
    "    })"
   ]
  },
  {
   "cell_type": "code",
   "execution_count": null,
   "metadata": {},
   "outputs": [],
   "source": [
    "bs_df = df.apply(get_yelp_with_bs, axis=1).join(df)\n",
    "bs_df.head()"
   ]
  },
  {
   "cell_type": "markdown",
   "metadata": {},
   "source": [
    "## BONUS: Πόσο πιο γρήγορο είναι το Selenium σε σχέση με το BeautifulSoup?\n",
    "\n",
    "Μπορούμε να χρησιμοποιήσουμε το `%%time` και να τα χρονομετρήσουμε\n",
    "\n",
    "**ΞΕΚΙΝΑΜΕ!**\n",
    "\n",
    "Ας δούμε το **Selenium:**"
   ]
  },
  {
   "cell_type": "code",
   "execution_count": null,
   "metadata": {},
   "outputs": [],
   "source": [
    "%%time\n",
    "new_df = df.apply(get_yelp_info, axis=1).join(df)\n",
    "new_df.head()"
   ]
  },
  {
   "cell_type": "markdown",
   "metadata": {},
   "source": [
    "Ας δοκιμάσουμε το **BeautifulSoup και requests:**"
   ]
  },
  {
   "cell_type": "code",
   "execution_count": null,
   "metadata": {},
   "outputs": [],
   "source": [
    "%%time\n",
    "bs_df = df.apply(get_yelp_with_bs, axis=1).join(df)\n",
    "bs_df.head(2)"
   ]
  },
  {
   "cell_type": "markdown",
   "metadata": {},
   "source": [
    "Δεν έχουν μεγάλη διαφορά σε αυτή την περίπτωση!"
   ]
  },
  {
   "cell_type": "code",
   "execution_count": null,
   "metadata": {},
   "outputs": [],
   "source": []
  }
 ],
 "metadata": {
  "kernelspec": {
   "display_name": "Python 3",
   "language": "python",
   "name": "python3"
  },
  "language_info": {
   "codemirror_mode": {
    "name": "ipython",
    "version": 3
   },
   "file_extension": ".py",
   "mimetype": "text/x-python",
   "name": "python",
   "nbconvert_exporter": "python",
   "pygments_lexer": "ipython3",
   "version": "3.7.2"
  }
 },
 "nbformat": 4,
 "nbformat_minor": 2
}
