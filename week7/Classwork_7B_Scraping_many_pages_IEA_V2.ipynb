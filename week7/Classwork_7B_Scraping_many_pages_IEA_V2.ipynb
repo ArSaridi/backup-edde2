{
  "nbformat": 4,
  "nbformat_minor": 0,
  "metadata": {
    "kernelspec": {
      "display_name": "Python 3.7",
      "language": "python",
      "name": "python3"
    },
    "language_info": {
      "codemirror_mode": {
        "name": "ipython",
        "version": 3
      },
      "file_extension": ".py",
      "mimetype": "text/x-python",
      "name": "python",
      "nbconvert_exporter": "python",
      "pygments_lexer": "ipython3",
      "version": "3.7.5"
    },
    "colab": {
      "name": "Classwork_7B_Scraping_many_pages_IEA.ipynb",
      "provenance": []
    }
  },
  "cells": [
    {
      "cell_type": "markdown",
      "metadata": {
        "id": "rabK3Z-0yZnU"
      },
      "source": [
        "## Scraping: Άρθρα από το Institute of Economic Affairs (https://iea.org.uk/blog)\n",
        "\n",
        "\n",
        "### Πάμε να πάρουμε περιεχόμενο από την αρχική σελίδα του Institute of Economic Affairs. \n",
        "\n",
        "Θέλουμε:\n",
        "\n",
        "Τίτλους (Headlines)\n",
        "\n",
        "Συνόψεις (Summary)\n",
        "\n",
        "Συγγραφείς (Author)\n",
        "\n",
        "Υπερσυνδέσεις (link)\n",
        "\n",
        "Ημερομηνία δημοσίευσης (date)"
      ]
    },
    {
      "cell_type": "markdown",
      "metadata": {
        "id": "q4NyuRS2yZng"
      },
      "source": [
        "Ξεκινώντας πρέπει να εισάγουμε τα απαραίτητα libraries."
      ]
    },
    {
      "cell_type": "code",
      "metadata": {
        "id": "9jye_FGeyZng"
      },
      "source": [
        "import requests\n",
        "from bs4 import BeautifulSoup\n",
        "import pandas as pd\n",
        "from datetime import datetime\n",
        "import ast\n",
        "import time"
      ],
      "execution_count": 43,
      "outputs": []
    },
    {
      "cell_type": "markdown",
      "metadata": {
        "id": "PR3yArHpyZnj"
      },
      "source": [
        "### Ορίζουμε τα headers για να νομίζει ο σέρβερ της ιστοσελίδας ότι πρόκειται για browser και όχι για εμάς!"
      ]
    },
    {
      "cell_type": "code",
      "metadata": {
        "id": "snyxIl9byZnk"
      },
      "source": [
        "headers = {\"User-Agent\": \"Mozilla/5.0 (Windows NT 10.0; Win64; x64) AppleWebKit/537.36 (KHTML, like Gecko) Chrome/70.0.3538.77 Safari/537.36\"}"
      ],
      "execution_count": 44,
      "outputs": []
    },
    {
      "cell_type": "markdown",
      "metadata": {
        "id": "eFOjLpXayZnl"
      },
      "source": [
        "### Παίρνουμε την σελίδα και την μετατρέπουμε σε ένα αντικείμενο beautiful soup (BS object)."
      ]
    },
    {
      "cell_type": "code",
      "metadata": {
        "id": "9mv5WNxWyZnm"
      },
      "source": [
        "response = requests.get(\"https://iea.org.uk/blog\", headers=headers)\n",
        "#response = requests.get(\"https://www.nytimes.com/\", headers=headers)\n",
        "doc = BeautifulSoup(response.text)"
      ],
      "execution_count": 45,
      "outputs": []
    },
    {
      "cell_type": "code",
      "metadata": {
        "id": "RfHeSofVyZnn"
      },
      "source": [
        "#doc"
      ],
      "execution_count": 46,
      "outputs": []
    },
    {
      "cell_type": "markdown",
      "metadata": {
        "id": "nUgfCpYmyZnn"
      },
      "source": [
        "### Πάμε στην ιστοσελίδα και ελέγχουμε τι ψάχνουμε να βρούμε, για παράδειγμα εδώ θέλουμε το h2 και συγκεκριμένα όλα τα a (δηλαδή τα a href)"
      ]
    },
    {
      "cell_type": "code",
      "metadata": {
        "id": "2DjDTJ3ZyZno"
      },
      "source": [
        "# Τραβάμε τα links και τα σώζουμε σε μια λίστα\n",
        "links = doc.select(\"h2 a\") "
      ],
      "execution_count": 47,
      "outputs": []
    },
    {
      "cell_type": "code",
      "metadata": {
        "id": "rkGUe7vXyZnp",
        "outputId": "9348a5af-0bde-43dc-e2a9-ca126e1b3b08",
        "colab": {
          "base_uri": "https://localhost:8080/"
        }
      },
      "source": [
        "links"
      ],
      "execution_count": 48,
      "outputs": [
        {
          "output_type": "execute_result",
          "data": {
            "text/plain": [
              "[<a href=\"https://iea.org.uk/ignore-the-lobbyists-free-trade-with-australia-would-be-a-boon-for-consumers/\" rel=\"bookmark\">Ignore the lobbyists – free trade with Australia would be a boon for consumers</a>,\n",
              " <a href=\"https://iea.org.uk/on-free-speech-the-queens-speech-was-a-mixed-bag/\" rel=\"bookmark\">On free speech, the Queen’s Speech was a mixed bag</a>,\n",
              " <a href=\"https://iea.org.uk/on-free-speech-the-queens-speech-was-a-mixed-bag/\" rel=\"bookmark\">On free speech, the Queen’s Speech was a mixed bag</a>,\n",
              " <a href=\"https://iea.org.uk/johnsons-radical-shakeup-of-the-planning-system-is-not-going-to-happen/\" rel=\"bookmark\">Johnson’s “radical shakeup” of the planning system is not going to happen</a>,\n",
              " <a href=\"https://iea.org.uk/johnsons-radical-shakeup-of-the-planning-system-is-not-going-to-happen/\" rel=\"bookmark\">Johnson’s “radical shakeup” of the planning system is not going to happen</a>,\n",
              " <a href=\"https://iea.org.uk/is-the-zoomshock-here-to-stay/\" rel=\"bookmark\">Is the ‘Zoomshock’ here to stay?</a>,\n",
              " <a href=\"https://iea.org.uk/is-the-zoomshock-here-to-stay/\" rel=\"bookmark\">Is the ‘Zoomshock’ here to stay?</a>,\n",
              " <a href=\"https://iea.org.uk/the-case-for-a-british-innovation-principle/\" rel=\"bookmark\">The case for a British Innovation Principle</a>,\n",
              " <a href=\"https://iea.org.uk/the-case-for-a-british-innovation-principle/\" rel=\"bookmark\">The case for a British Innovation Principle</a>,\n",
              " <a href=\"https://iea.org.uk/an-introduction-to-an-introduction-to-democracy/\" rel=\"bookmark\">An Introduction to An Introduction to Democracy</a>,\n",
              " <a href=\"https://iea.org.uk/an-introduction-to-an-introduction-to-democracy/\" rel=\"bookmark\">An Introduction to An Introduction to Democracy</a>,\n",
              " <a href=\"https://iea.org.uk/how-realistic-are-the-prospects-for-a-uk-india-free-trade-agreement/\" rel=\"bookmark\">How realistic are the prospects for a UK-India free trade agreement?</a>,\n",
              " <a href=\"https://iea.org.uk/how-realistic-are-the-prospects-for-a-uk-india-free-trade-agreement/\" rel=\"bookmark\">How realistic are the prospects for a UK-India free trade agreement?</a>,\n",
              " <a href=\"https://iea.org.uk/fear-of-cancellation-can-be-as-insidious-as-state-censorship/\" rel=\"bookmark\">Fear of “cancellation” can be as insidious as state censorship</a>,\n",
              " <a href=\"https://iea.org.uk/fear-of-cancellation-can-be-as-insidious-as-state-censorship/\" rel=\"bookmark\">Fear of “cancellation” can be as insidious as state censorship</a>,\n",
              " <a href=\"https://iea.org.uk/note-to-academics-disagree-with-economic-liberalism-all-you-want-but-quit-the-straw-manning/\" rel=\"bookmark\">Note to academics: disagree with economic liberalism all you want, but quit the straw-manning</a>,\n",
              " <a href=\"https://iea.org.uk/note-to-academics-disagree-with-economic-liberalism-all-you-want-but-quit-the-straw-manning/\" rel=\"bookmark\">Note to academics: disagree with economic liberalism all you want, but quit the straw-manning</a>,\n",
              " <a href=\"https://iea.org.uk/the-european-super-league-and-the-economics-of-football/\" rel=\"bookmark\">The European Super League, and the economics of football</a>,\n",
              " <a href=\"https://iea.org.uk/the-european-super-league-and-the-economics-of-football/\" rel=\"bookmark\">The European Super League, and the economics of football</a>,\n",
              " <a href=\"https://iea.org.uk/good-riddance-to-african-socialism/\" rel=\"bookmark\">Good riddance to “African Socialism”</a>,\n",
              " <a href=\"https://iea.org.uk/good-riddance-to-african-socialism/\" rel=\"bookmark\">Good riddance to “African Socialism”</a>]"
            ]
          },
          "metadata": {
            "tags": []
          },
          "execution_count": 48
        }
      ]
    },
    {
      "cell_type": "markdown",
      "metadata": {
        "id": "pB3cOV2uyZns"
      },
      "source": [
        "### είναι διπλά και εμείς θέλουμε τα μονά "
      ]
    },
    {
      "cell_type": "code",
      "metadata": {
        "id": "xHZ4EYqmyZns",
        "outputId": "c6579cca-e339-4294-8e7e-61e5d16b3853",
        "colab": {
          "base_uri": "https://localhost:8080/"
        }
      },
      "source": [
        "links = set(links)\n",
        "print(links)"
      ],
      "execution_count": 49,
      "outputs": [
        {
          "output_type": "stream",
          "text": [
            "{<a href=\"https://iea.org.uk/johnsons-radical-shakeup-of-the-planning-system-is-not-going-to-happen/\" rel=\"bookmark\">Johnson’s “radical shakeup” of the planning system is not going to happen</a>, <a href=\"https://iea.org.uk/the-case-for-a-british-innovation-principle/\" rel=\"bookmark\">The case for a British Innovation Principle</a>, <a href=\"https://iea.org.uk/note-to-academics-disagree-with-economic-liberalism-all-you-want-but-quit-the-straw-manning/\" rel=\"bookmark\">Note to academics: disagree with economic liberalism all you want, but quit the straw-manning</a>, <a href=\"https://iea.org.uk/is-the-zoomshock-here-to-stay/\" rel=\"bookmark\">Is the ‘Zoomshock’ here to stay?</a>, <a href=\"https://iea.org.uk/how-realistic-are-the-prospects-for-a-uk-india-free-trade-agreement/\" rel=\"bookmark\">How realistic are the prospects for a UK-India free trade agreement?</a>, <a href=\"https://iea.org.uk/on-free-speech-the-queens-speech-was-a-mixed-bag/\" rel=\"bookmark\">On free speech, the Queen’s Speech was a mixed bag</a>, <a href=\"https://iea.org.uk/the-european-super-league-and-the-economics-of-football/\" rel=\"bookmark\">The European Super League, and the economics of football</a>, <a href=\"https://iea.org.uk/an-introduction-to-an-introduction-to-democracy/\" rel=\"bookmark\">An Introduction to An Introduction to Democracy</a>, <a href=\"https://iea.org.uk/fear-of-cancellation-can-be-as-insidious-as-state-censorship/\" rel=\"bookmark\">Fear of “cancellation” can be as insidious as state censorship</a>, <a href=\"https://iea.org.uk/ignore-the-lobbyists-free-trade-with-australia-would-be-a-boon-for-consumers/\" rel=\"bookmark\">Ignore the lobbyists – free trade with Australia would be a boon for consumers</a>, <a href=\"https://iea.org.uk/good-riddance-to-african-socialism/\" rel=\"bookmark\">Good riddance to “African Socialism”</a>}\n"
          ],
          "name": "stdout"
        }
      ]
    },
    {
      "cell_type": "markdown",
      "metadata": {
        "id": "SXreA_32yZnt"
      },
      "source": [
        "### Μπορούμε να φιλτράρουμε σύμφωνα με λέξεις, αυτό έχει νόημα όταν ψάχνουμε κάποια συγκεκριμένη θεματολογία. Ας φιλτράρουμε π.χ. για economic.\n"
      ]
    },
    {
      "cell_type": "code",
      "metadata": {
        "id": "cy56UsfIyZnt",
        "outputId": "2087ca10-ef41-4520-935b-56fe1ae9b575",
        "colab": {
          "base_uri": "https://localhost:8080/"
        }
      },
      "source": [
        "filtered = [link for link in links if 'economic' in link.text.lower()]\n",
        "filtered"
      ],
      "execution_count": 50,
      "outputs": [
        {
          "output_type": "execute_result",
          "data": {
            "text/plain": [
              "[<a href=\"https://iea.org.uk/note-to-academics-disagree-with-economic-liberalism-all-you-want-but-quit-the-straw-manning/\" rel=\"bookmark\">Note to academics: disagree with economic liberalism all you want, but quit the straw-manning</a>,\n",
              " <a href=\"https://iea.org.uk/the-european-super-league-and-the-economics-of-football/\" rel=\"bookmark\">The European Super League, and the economics of football</a>]"
            ]
          },
          "metadata": {
            "tags": []
          },
          "execution_count": 50
        }
      ]
    },
    {
      "cell_type": "markdown",
      "metadata": {
        "id": "A_G9TThSyZnu"
      },
      "source": [
        "### Loops στα Pandas!\n",
        "\n",
        "Για να κρατήσουμε μόνο το ωφέλιμο λινκ χωρίς την html χρησιμοποιούμε ένα loop μέσα στα [ ]. \n",
        "\n",
        "Αυτό ονομάζεται *list comprehension*."
      ]
    },
    {
      "cell_type": "code",
      "metadata": {
        "id": "3IcbCK4MyZnu",
        "outputId": "8238c17a-9486-4cac-b002-43fe42208b7f",
        "colab": {
          "base_uri": "https://localhost:8080/"
        }
      },
      "source": [
        "urls = [link['href'] for link in links]\n",
        "urls"
      ],
      "execution_count": 51,
      "outputs": [
        {
          "output_type": "execute_result",
          "data": {
            "text/plain": [
              "['https://iea.org.uk/johnsons-radical-shakeup-of-the-planning-system-is-not-going-to-happen/',\n",
              " 'https://iea.org.uk/the-case-for-a-british-innovation-principle/',\n",
              " 'https://iea.org.uk/note-to-academics-disagree-with-economic-liberalism-all-you-want-but-quit-the-straw-manning/',\n",
              " 'https://iea.org.uk/is-the-zoomshock-here-to-stay/',\n",
              " 'https://iea.org.uk/how-realistic-are-the-prospects-for-a-uk-india-free-trade-agreement/',\n",
              " 'https://iea.org.uk/on-free-speech-the-queens-speech-was-a-mixed-bag/',\n",
              " 'https://iea.org.uk/the-european-super-league-and-the-economics-of-football/',\n",
              " 'https://iea.org.uk/an-introduction-to-an-introduction-to-democracy/',\n",
              " 'https://iea.org.uk/fear-of-cancellation-can-be-as-insidious-as-state-censorship/',\n",
              " 'https://iea.org.uk/ignore-the-lobbyists-free-trade-with-australia-would-be-a-boon-for-consumers/',\n",
              " 'https://iea.org.uk/good-riddance-to-african-socialism/']"
            ]
          },
          "metadata": {
            "tags": []
          },
          "execution_count": 51
        }
      ]
    },
    {
      "cell_type": "markdown",
      "metadata": {
        "id": "-qJnfYb1yZnv"
      },
      "source": [
        "### Βλέπουμε ότι οι τίτλοι εμφανίζονται μέσα στο λινκ. \n",
        "Ας τους τραβήξουμε με τον τρόπο που μάθαμε!"
      ]
    },
    {
      "cell_type": "code",
      "metadata": {
        "id": "DuVboX5NyZnv",
        "outputId": "dbc2d147-b091-43dc-f55f-0a7a84188bb4",
        "colab": {
          "base_uri": "https://localhost:8080/"
        }
      },
      "source": [
        "titles = [link.text for link in links]\n",
        "titles"
      ],
      "execution_count": 52,
      "outputs": [
        {
          "output_type": "execute_result",
          "data": {
            "text/plain": [
              "['Johnson’s “radical shakeup” of the planning system is not going to happen',\n",
              " 'The case for a British Innovation Principle',\n",
              " 'Note to academics: disagree with economic liberalism all you want, but quit the straw-manning',\n",
              " 'Is the ‘Zoomshock’ here to stay?',\n",
              " 'How realistic are the prospects for a UK-India free trade agreement?',\n",
              " 'On free speech, the Queen’s Speech was a mixed bag',\n",
              " 'The European Super League, and the economics of football',\n",
              " 'An Introduction to An Introduction to Democracy',\n",
              " 'Fear of “cancellation” can be as insidious as state censorship',\n",
              " 'Ignore the lobbyists – free trade with Australia would be a boon for consumers',\n",
              " 'Good riddance to “African Socialism”']"
            ]
          },
          "metadata": {
            "tags": []
          },
          "execution_count": 52
        }
      ]
    },
    {
      "cell_type": "markdown",
      "metadata": {
        "id": "KtYsq2BTyZnw"
      },
      "source": [
        "## Φτιάχνουμε το function για το scraping που θα το χρησιμοποιήσουμε για να πάρουμε την λίστα με τα λινκς των άρθρων!"
      ]
    },
    {
      "cell_type": "code",
      "metadata": {
        "id": "oUbUN_Q1yZn0"
      },
      "source": [
        "from bs4 import BeautifulSoup\n",
        "import requests\n",
        "import time\n",
        "\n",
        "headers = {'user-agent': 'my-app/0.0.1'}\n",
        "PAUSE_TIME = 3.5\n",
        "\n",
        "def get_text(url):\n",
        "    r = requests.get(url, headers = headers)\n",
        "    time.sleep(PAUSE_TIME)\n",
        "    s = BeautifulSoup(r.content, 'html.parser')\n",
        "    link = s.find(\"h2 a\")\n",
        "    \n",
        "    return([s, link])"
      ],
      "execution_count": 53,
      "outputs": []
    },
    {
      "cell_type": "markdown",
      "metadata": {
        "id": "lDBiyywwyZn1"
      },
      "source": [
        "### Κάνω scraping κάθε σελίδα για να μαζέψω όλα τα links των άρθρων"
      ]
    },
    {
      "cell_type": "code",
      "metadata": {
        "id": "UqUr8CXkyZn1",
        "outputId": "a126216d-eb7b-4f2a-ae14-2d5ec05b4410",
        "colab": {
          "base_uri": "https://localhost:8080/"
        }
      },
      "source": [
        "scraped_links = []\n",
        "titles = []\n",
        "counter = 0\n",
        "base_url = \"https://iea.org.uk/blog/?fwp_paged=\"\n",
        "for i in range(1,5):\n",
        "    url = base_url + str(i)\n",
        "    #print(url)\n",
        "    page = requests.get(url, headers = headers)\n",
        "    s = BeautifulSoup(page.content, 'html.parser')\n",
        "    #print(s)\n",
        "    links = s.select(\"h2 a\")\n",
        "    links = set(links)\n",
        "    \n",
        "    url = [link['href'] for link in links]\n",
        "    \n",
        "    #title = [link.text for link in links]\n",
        "    \n",
        "    \n",
        "    print(url)\n",
        "\n",
        "    for l in url:\n",
        "        link = l\n",
        "        print(l)\n",
        "        scraped_links.append(l)\n",
        "\n",
        "\n",
        "    \n",
        "    # Τυπώνει το νούμερο των links που είναι scraped\n",
        "print(len(scraped_links)) \n",
        "\n",
        "scraped_links = (set(scraped_links))"
      ],
      "execution_count": 54,
      "outputs": [
        {
          "output_type": "stream",
          "text": [
            "['https://iea.org.uk/johnsons-radical-shakeup-of-the-planning-system-is-not-going-to-happen/', 'https://iea.org.uk/the-case-for-a-british-innovation-principle/', 'https://iea.org.uk/note-to-academics-disagree-with-economic-liberalism-all-you-want-but-quit-the-straw-manning/', 'https://iea.org.uk/is-the-zoomshock-here-to-stay/', 'https://iea.org.uk/how-realistic-are-the-prospects-for-a-uk-india-free-trade-agreement/', 'https://iea.org.uk/on-free-speech-the-queens-speech-was-a-mixed-bag/', 'https://iea.org.uk/the-european-super-league-and-the-economics-of-football/', 'https://iea.org.uk/an-introduction-to-an-introduction-to-democracy/', 'https://iea.org.uk/fear-of-cancellation-can-be-as-insidious-as-state-censorship/', 'https://iea.org.uk/ignore-the-lobbyists-free-trade-with-australia-would-be-a-boon-for-consumers/']\n",
            "https://iea.org.uk/johnsons-radical-shakeup-of-the-planning-system-is-not-going-to-happen/\n",
            "https://iea.org.uk/the-case-for-a-british-innovation-principle/\n",
            "https://iea.org.uk/note-to-academics-disagree-with-economic-liberalism-all-you-want-but-quit-the-straw-manning/\n",
            "https://iea.org.uk/is-the-zoomshock-here-to-stay/\n",
            "https://iea.org.uk/how-realistic-are-the-prospects-for-a-uk-india-free-trade-agreement/\n",
            "https://iea.org.uk/on-free-speech-the-queens-speech-was-a-mixed-bag/\n",
            "https://iea.org.uk/the-european-super-league-and-the-economics-of-football/\n",
            "https://iea.org.uk/an-introduction-to-an-introduction-to-democracy/\n",
            "https://iea.org.uk/fear-of-cancellation-can-be-as-insidious-as-state-censorship/\n",
            "https://iea.org.uk/ignore-the-lobbyists-free-trade-with-australia-would-be-a-boon-for-consumers/\n",
            "['https://iea.org.uk/will-covid-induced-inflation-give-cryptocurrencies-a-boost/', 'https://iea.org.uk/the-case-for-a-liberal-precautionary-principle/', 'https://iea.org.uk/some-initial-thoughts-on-the-commission-on-race-and-ethnic-disparities-report/', 'https://iea.org.uk/covid-vs-the-environment-the-kuznets-curve-in-action/', 'https://iea.org.uk/viral-myths-my-response-to-the-british-medical-journal/', 'https://iea.org.uk/competition-and-co-operation-a-catholic-perspective/', 'https://iea.org.uk/book-review-free-lunch-thinking-how-economics-ruins-the-economy-by-tom-bergin/', 'https://iea.org.uk/housebuilding-numbers-in-britain-remain-pitifully-low/', 'https://iea.org.uk/ignore-the-lobbyists-free-trade-with-australia-would-be-a-boon-for-consumers/', 'https://iea.org.uk/an-alternative-approach-to-alleviating-child-poverty/', 'https://iea.org.uk/good-riddance-to-african-socialism/']\n",
            "https://iea.org.uk/will-covid-induced-inflation-give-cryptocurrencies-a-boost/\n",
            "https://iea.org.uk/the-case-for-a-liberal-precautionary-principle/\n",
            "https://iea.org.uk/some-initial-thoughts-on-the-commission-on-race-and-ethnic-disparities-report/\n",
            "https://iea.org.uk/covid-vs-the-environment-the-kuznets-curve-in-action/\n",
            "https://iea.org.uk/viral-myths-my-response-to-the-british-medical-journal/\n",
            "https://iea.org.uk/competition-and-co-operation-a-catholic-perspective/\n",
            "https://iea.org.uk/book-review-free-lunch-thinking-how-economics-ruins-the-economy-by-tom-bergin/\n",
            "https://iea.org.uk/housebuilding-numbers-in-britain-remain-pitifully-low/\n",
            "https://iea.org.uk/ignore-the-lobbyists-free-trade-with-australia-would-be-a-boon-for-consumers/\n",
            "https://iea.org.uk/an-alternative-approach-to-alleviating-child-poverty/\n",
            "https://iea.org.uk/good-riddance-to-african-socialism/\n",
            "['https://iea.org.uk/debate-should-classical-liberals-support-secession/', 'https://iea.org.uk/education-reform-after-covid-lets-go-back-to-first-principles/', 'https://iea.org.uk/viral-myths-a-response-to-my-critics-part-2/', 'https://iea.org.uk/anti-gambling-campaigners-load-the-dice-against-fun/', 'https://iea.org.uk/the-court-ruling-on-uber-is-bad-news-for-both-drivers-and-customers/', 'https://iea.org.uk/viral-myths-a-response-to-my-critics/', 'https://iea.org.uk/20-taxes-the-government-could-scrap-to-boost-the-economy/', 'https://iea.org.uk/no-salvation-in-fiscal-policy/', 'https://iea.org.uk/globalisation-and-inequality-a-good-news-story/', 'https://iea.org.uk/the-case-for-moving-the-lockdown-roadmap-forward/', 'https://iea.org.uk/ignore-the-lobbyists-free-trade-with-australia-would-be-a-boon-for-consumers/']\n",
            "https://iea.org.uk/debate-should-classical-liberals-support-secession/\n",
            "https://iea.org.uk/education-reform-after-covid-lets-go-back-to-first-principles/\n",
            "https://iea.org.uk/viral-myths-a-response-to-my-critics-part-2/\n",
            "https://iea.org.uk/anti-gambling-campaigners-load-the-dice-against-fun/\n",
            "https://iea.org.uk/the-court-ruling-on-uber-is-bad-news-for-both-drivers-and-customers/\n",
            "https://iea.org.uk/viral-myths-a-response-to-my-critics/\n",
            "https://iea.org.uk/20-taxes-the-government-could-scrap-to-boost-the-economy/\n",
            "https://iea.org.uk/no-salvation-in-fiscal-policy/\n",
            "https://iea.org.uk/globalisation-and-inequality-a-good-news-story/\n",
            "https://iea.org.uk/the-case-for-moving-the-lockdown-roadmap-forward/\n",
            "https://iea.org.uk/ignore-the-lobbyists-free-trade-with-australia-would-be-a-boon-for-consumers/\n",
            "['https://iea.org.uk/closing-down-markets-will-do-nothing-to-diminish-poverty/', 'https://iea.org.uk/ignore-the-lobbyists-free-trade-with-australia-would-be-a-boon-for-consumers/', 'https://iea.org.uk/why-has-the-government-given-up-on-labour-market-reform/', 'https://iea.org.uk/enough-of-the-coronfirmation-bias-the-pandemic-has-not-vindicated-anyone/', 'https://iea.org.uk/the-financial-sector-unpopular-but-useful/', 'https://iea.org.uk/citizens-assemblies-and-mandate-manufacturing/', 'https://iea.org.uk/the-future-of-post-pandemic-work/', 'https://iea.org.uk/wealth-taxes-another-failed-idea-that-never-dies/', 'https://iea.org.uk/hiking-corporation-tax-bad-idea-worse-timing/', 'https://iea.org.uk/no-austerity-is-not-to-blame-for-britains-poor-covid-performance/', 'https://iea.org.uk/the-pros-and-mostly-cons-of-an-online-sales-tax/']\n",
            "https://iea.org.uk/closing-down-markets-will-do-nothing-to-diminish-poverty/\n",
            "https://iea.org.uk/ignore-the-lobbyists-free-trade-with-australia-would-be-a-boon-for-consumers/\n",
            "https://iea.org.uk/why-has-the-government-given-up-on-labour-market-reform/\n",
            "https://iea.org.uk/enough-of-the-coronfirmation-bias-the-pandemic-has-not-vindicated-anyone/\n",
            "https://iea.org.uk/the-financial-sector-unpopular-but-useful/\n",
            "https://iea.org.uk/citizens-assemblies-and-mandate-manufacturing/\n",
            "https://iea.org.uk/the-future-of-post-pandemic-work/\n",
            "https://iea.org.uk/wealth-taxes-another-failed-idea-that-never-dies/\n",
            "https://iea.org.uk/hiking-corporation-tax-bad-idea-worse-timing/\n",
            "https://iea.org.uk/no-austerity-is-not-to-blame-for-britains-poor-covid-performance/\n",
            "https://iea.org.uk/the-pros-and-mostly-cons-of-an-online-sales-tax/\n",
            "43\n"
          ],
          "name": "stdout"
        }
      ]
    },
    {
      "cell_type": "code",
      "metadata": {
        "id": "XWmuUdVqyZn2",
        "outputId": "9a1fa8d4-5331-49e5-bdb9-9fc91f78cb18",
        "colab": {
          "base_uri": "https://localhost:8080/"
        }
      },
      "source": [
        "scraped_links"
      ],
      "execution_count": 55,
      "outputs": [
        {
          "output_type": "execute_result",
          "data": {
            "text/plain": [
              "{'https://iea.org.uk/20-taxes-the-government-could-scrap-to-boost-the-economy/',\n",
              " 'https://iea.org.uk/an-alternative-approach-to-alleviating-child-poverty/',\n",
              " 'https://iea.org.uk/an-introduction-to-an-introduction-to-democracy/',\n",
              " 'https://iea.org.uk/anti-gambling-campaigners-load-the-dice-against-fun/',\n",
              " 'https://iea.org.uk/book-review-free-lunch-thinking-how-economics-ruins-the-economy-by-tom-bergin/',\n",
              " 'https://iea.org.uk/citizens-assemblies-and-mandate-manufacturing/',\n",
              " 'https://iea.org.uk/closing-down-markets-will-do-nothing-to-diminish-poverty/',\n",
              " 'https://iea.org.uk/competition-and-co-operation-a-catholic-perspective/',\n",
              " 'https://iea.org.uk/covid-vs-the-environment-the-kuznets-curve-in-action/',\n",
              " 'https://iea.org.uk/debate-should-classical-liberals-support-secession/',\n",
              " 'https://iea.org.uk/education-reform-after-covid-lets-go-back-to-first-principles/',\n",
              " 'https://iea.org.uk/enough-of-the-coronfirmation-bias-the-pandemic-has-not-vindicated-anyone/',\n",
              " 'https://iea.org.uk/fear-of-cancellation-can-be-as-insidious-as-state-censorship/',\n",
              " 'https://iea.org.uk/globalisation-and-inequality-a-good-news-story/',\n",
              " 'https://iea.org.uk/good-riddance-to-african-socialism/',\n",
              " 'https://iea.org.uk/hiking-corporation-tax-bad-idea-worse-timing/',\n",
              " 'https://iea.org.uk/housebuilding-numbers-in-britain-remain-pitifully-low/',\n",
              " 'https://iea.org.uk/how-realistic-are-the-prospects-for-a-uk-india-free-trade-agreement/',\n",
              " 'https://iea.org.uk/ignore-the-lobbyists-free-trade-with-australia-would-be-a-boon-for-consumers/',\n",
              " 'https://iea.org.uk/is-the-zoomshock-here-to-stay/',\n",
              " 'https://iea.org.uk/johnsons-radical-shakeup-of-the-planning-system-is-not-going-to-happen/',\n",
              " 'https://iea.org.uk/no-austerity-is-not-to-blame-for-britains-poor-covid-performance/',\n",
              " 'https://iea.org.uk/no-salvation-in-fiscal-policy/',\n",
              " 'https://iea.org.uk/note-to-academics-disagree-with-economic-liberalism-all-you-want-but-quit-the-straw-manning/',\n",
              " 'https://iea.org.uk/on-free-speech-the-queens-speech-was-a-mixed-bag/',\n",
              " 'https://iea.org.uk/some-initial-thoughts-on-the-commission-on-race-and-ethnic-disparities-report/',\n",
              " 'https://iea.org.uk/the-case-for-a-british-innovation-principle/',\n",
              " 'https://iea.org.uk/the-case-for-a-liberal-precautionary-principle/',\n",
              " 'https://iea.org.uk/the-case-for-moving-the-lockdown-roadmap-forward/',\n",
              " 'https://iea.org.uk/the-court-ruling-on-uber-is-bad-news-for-both-drivers-and-customers/',\n",
              " 'https://iea.org.uk/the-european-super-league-and-the-economics-of-football/',\n",
              " 'https://iea.org.uk/the-financial-sector-unpopular-but-useful/',\n",
              " 'https://iea.org.uk/the-future-of-post-pandemic-work/',\n",
              " 'https://iea.org.uk/the-pros-and-mostly-cons-of-an-online-sales-tax/',\n",
              " 'https://iea.org.uk/viral-myths-a-response-to-my-critics-part-2/',\n",
              " 'https://iea.org.uk/viral-myths-a-response-to-my-critics/',\n",
              " 'https://iea.org.uk/viral-myths-my-response-to-the-british-medical-journal/',\n",
              " 'https://iea.org.uk/wealth-taxes-another-failed-idea-that-never-dies/',\n",
              " 'https://iea.org.uk/why-has-the-government-given-up-on-labour-market-reform/',\n",
              " 'https://iea.org.uk/will-covid-induced-inflation-give-cryptocurrencies-a-boost/'}"
            ]
          },
          "metadata": {
            "tags": []
          },
          "execution_count": 55
        }
      ]
    },
    {
      "cell_type": "code",
      "metadata": {
        "id": "DlxNOEfZyZn2",
        "outputId": "e8a56a7b-ba67-4786-a64c-87e171408830",
        "colab": {
          "base_uri": "https://localhost:8080/"
        }
      },
      "source": [
        "len(scraped_links)"
      ],
      "execution_count": 56,
      "outputs": [
        {
          "output_type": "execute_result",
          "data": {
            "text/plain": [
              "40"
            ]
          },
          "metadata": {
            "tags": []
          },
          "execution_count": 56
        }
      ]
    },
    {
      "cell_type": "markdown",
      "metadata": {
        "id": "zB8iBzXkyZn2"
      },
      "source": [
        "### Αφού μάζεψα τα links των άρθρων τα σώζω για να μην τα χάσω και στην συνέχεια θα γράψω κώδικα που θα παίρνει τα στοιχεία του κάθε άρθρου ξεχωριστά!"
      ]
    },
    {
      "cell_type": "code",
      "metadata": {
        "id": "LrzYeiL2yZn2"
      },
      "source": [
        "import pandas as pd\n",
        "df = pd.DataFrame(scraped_links, columns= ['url'])"
      ],
      "execution_count": 57,
      "outputs": []
    },
    {
      "cell_type": "code",
      "metadata": {
        "id": "Hxc7o2mFyZn3"
      },
      "source": [
        "df.to_csv(\"iea.csv\", index=False)"
      ],
      "execution_count": 58,
      "outputs": []
    },
    {
      "cell_type": "code",
      "metadata": {
        "id": "gxnxL_t1yZn3"
      },
      "source": [
        "df = pd.read_csv('iea.csv')"
      ],
      "execution_count": 59,
      "outputs": []
    },
    {
      "cell_type": "code",
      "metadata": {
        "scrolled": true,
        "id": "I51FFju_yZn4",
        "outputId": "4f93a74b-24ab-4e19-89aa-1f9545aba70e",
        "colab": {
          "base_uri": "https://localhost:8080/",
          "height": 206
        }
      },
      "source": [
        "df.head()"
      ],
      "execution_count": 61,
      "outputs": [
        {
          "output_type": "execute_result",
          "data": {
            "text/html": [
              "<div>\n",
              "<style scoped>\n",
              "    .dataframe tbody tr th:only-of-type {\n",
              "        vertical-align: middle;\n",
              "    }\n",
              "\n",
              "    .dataframe tbody tr th {\n",
              "        vertical-align: top;\n",
              "    }\n",
              "\n",
              "    .dataframe thead th {\n",
              "        text-align: right;\n",
              "    }\n",
              "</style>\n",
              "<table border=\"1\" class=\"dataframe\">\n",
              "  <thead>\n",
              "    <tr style=\"text-align: right;\">\n",
              "      <th></th>\n",
              "      <th>url</th>\n",
              "    </tr>\n",
              "  </thead>\n",
              "  <tbody>\n",
              "    <tr>\n",
              "      <th>0</th>\n",
              "      <td>https://iea.org.uk/is-the-zoomshock-here-to-stay/</td>\n",
              "    </tr>\n",
              "    <tr>\n",
              "      <th>1</th>\n",
              "      <td>https://iea.org.uk/20-taxes-the-government-cou...</td>\n",
              "    </tr>\n",
              "    <tr>\n",
              "      <th>2</th>\n",
              "      <td>https://iea.org.uk/debate-should-classical-lib...</td>\n",
              "    </tr>\n",
              "    <tr>\n",
              "      <th>3</th>\n",
              "      <td>https://iea.org.uk/closing-down-markets-will-d...</td>\n",
              "    </tr>\n",
              "    <tr>\n",
              "      <th>4</th>\n",
              "      <td>https://iea.org.uk/fear-of-cancellation-can-be...</td>\n",
              "    </tr>\n",
              "  </tbody>\n",
              "</table>\n",
              "</div>"
            ],
            "text/plain": [
              "                                                 url\n",
              "0  https://iea.org.uk/is-the-zoomshock-here-to-stay/\n",
              "1  https://iea.org.uk/20-taxes-the-government-cou...\n",
              "2  https://iea.org.uk/debate-should-classical-lib...\n",
              "3  https://iea.org.uk/closing-down-markets-will-d...\n",
              "4  https://iea.org.uk/fear-of-cancellation-can-be..."
            ]
          },
          "metadata": {
            "tags": []
          },
          "execution_count": 61
        }
      ]
    },
    {
      "cell_type": "code",
      "metadata": {
        "id": "rxl9MD41yZn4",
        "outputId": "fc128bc1-4f55-4ad3-d5a5-bb9617a180b0",
        "colab": {
          "base_uri": "https://localhost:8080/"
        }
      },
      "source": [
        "urls = df['url'].tolist()\n",
        "urls[0:5]"
      ],
      "execution_count": 63,
      "outputs": [
        {
          "output_type": "execute_result",
          "data": {
            "text/plain": [
              "['https://iea.org.uk/is-the-zoomshock-here-to-stay/',\n",
              " 'https://iea.org.uk/20-taxes-the-government-could-scrap-to-boost-the-economy/',\n",
              " 'https://iea.org.uk/debate-should-classical-liberals-support-secession/',\n",
              " 'https://iea.org.uk/closing-down-markets-will-do-nothing-to-diminish-poverty/',\n",
              " 'https://iea.org.uk/fear-of-cancellation-can-be-as-insidious-as-state-censorship/']"
            ]
          },
          "metadata": {
            "tags": []
          },
          "execution_count": 63
        }
      ]
    },
    {
      "cell_type": "code",
      "metadata": {
        "id": "MzpOat7QyZn5",
        "outputId": "5abb0247-19f3-4e6b-ea15-9fb4118eb5d8",
        "colab": {
          "base_uri": "https://localhost:8080/"
        }
      },
      "source": [
        "len(urls)"
      ],
      "execution_count": 64,
      "outputs": [
        {
          "output_type": "execute_result",
          "data": {
            "text/plain": [
              "40"
            ]
          },
          "metadata": {
            "tags": []
          },
          "execution_count": 64
        }
      ]
    },
    {
      "cell_type": "markdown",
      "metadata": {
        "id": "sz8p5PkxyZn5"
      },
      "source": [
        "# Πάμε να κάνουμε scrape την κάθε σελίδα που περιέχει ένα άρθρο\n"
      ]
    },
    {
      "cell_type": "code",
      "metadata": {
        "id": "GvXvYH_TyZn5"
      },
      "source": [
        "response = requests.get(\"https://iea.org.uk/the-low-hanging-fruit-on-the-brexit-tree-repeal-the-tobacco-products-directive/\", headers=headers)\n",
        "\n",
        "doc = BeautifulSoup(response.text)"
      ],
      "execution_count": 65,
      "outputs": []
    },
    {
      "cell_type": "code",
      "metadata": {
        "id": "vdxnNa0ByZn6",
        "outputId": "c1a97b95-0b76-4538-b417-4b8497468222",
        "colab": {
          "base_uri": "https://localhost:8080/",
          "height": 36
        }
      },
      "source": [
        "# Τίτλος\n",
        "titles = doc.select(\"h2\")[0].text\n",
        "titles"
      ],
      "execution_count": 66,
      "outputs": [
        {
          "output_type": "execute_result",
          "data": {
            "application/vnd.google.colaboratory.intrinsic+json": {
              "type": "string"
            },
            "text/plain": [
              "'The low-hanging fruit on the Brexit tree: repeal the Tobacco Products Directive'"
            ]
          },
          "metadata": {
            "tags": []
          },
          "execution_count": 66
        }
      ]
    },
    {
      "cell_type": "code",
      "metadata": {
        "id": "fNdm6lwvyZn6",
        "outputId": "bac3e8e6-0571-4508-dbb9-8c59f7e76561",
        "colab": {
          "base_uri": "https://localhost:8080/",
          "height": 36
        }
      },
      "source": [
        "#Συγγραφέας\n",
        "author = doc.select(\"div.ph-header-block div\")[1].text.strip()\n",
        "author\n"
      ],
      "execution_count": 67,
      "outputs": [
        {
          "output_type": "execute_result",
          "data": {
            "application/vnd.google.colaboratory.intrinsic+json": {
              "type": "string"
            },
            "text/plain": [
              "'Chris Snowdon'"
            ]
          },
          "metadata": {
            "tags": []
          },
          "execution_count": 67
        }
      ]
    },
    {
      "cell_type": "code",
      "metadata": {
        "id": "JwFtk8S4yZn7",
        "outputId": "2fe43faa-d6a7-4bba-f1ab-1add6b69df2b",
        "colab": {
          "base_uri": "https://localhost:8080/",
          "height": 36
        }
      },
      "source": [
        "#Ημερομηνία\n",
        "date = doc.select(\"div.ph-header-block div\")[2].text.strip()\n",
        "date"
      ],
      "execution_count": 68,
      "outputs": [
        {
          "output_type": "execute_result",
          "data": {
            "application/vnd.google.colaboratory.intrinsic+json": {
              "type": "string"
            },
            "text/plain": [
              "'3 November 2017'"
            ]
          },
          "metadata": {
            "tags": []
          },
          "execution_count": 68
        }
      ]
    },
    {
      "cell_type": "code",
      "metadata": {
        "id": "6yaqxUh_yZn7",
        "outputId": "88c0d56a-6230-466b-8c65-637393f70b4e",
        "colab": {
          "base_uri": "https://localhost:8080/",
          "height": 127
        }
      },
      "source": [
        "#Κείμενο\n",
        "article = doc.select(\"#modal-ready\")[0].text\n",
        "article"
      ],
      "execution_count": 69,
      "outputs": [
        {
          "output_type": "execute_result",
          "data": {
            "application/vnd.google.colaboratory.intrinsic+json": {
              "type": "string"
            },
            "text/plain": [
              "'Disentangling ourselves from the EU after four decades will be fiendishly complicated but some elements of Brexit are refreshingly simple and uncontroversial. The recently enforced EU regulations on e-cigarettes are a case in point. Nobody seems to know what purpose is served by limiting vapers to tiny (10ml) bottles of fluid, limiting nicotine concentrations and banning advertising in most media – to name just a few of the new laws.\\n\\r\\nRecent years have seen a mass switchover from smoking to vaping that has been a boon for consumers, small businesses and ‘public health’. Britain now has the second lowest smoking rate in Europe. This all happened under a free market for e-cigarettes which no longer exists thanks to over-eager bureaucrats in Brussels. Pointless EU regulations have restricted competition, raised prices and reduced consumer choice. The advertising restrictions are so severe that it is questionable whether the government’s own stop smoking campaign, which promotes vaping, is legal.\\n\\r\\nMost British MEPs did not vote for these laws. The minister in charge, Anna Soubry, was not even aware that they had been passed. When they came into effect, they were condemned in the House of Lords and an Early Day Motion was proposed in the House of Commons calling for their repeal. Public Health England says that the EU’s Tobacco Products Directive – which brought the regulations into force – ‘certainly raises the barrier for bringing [e-cigarette] products to market … and will undoubtedly constrain the market’.\\n\\r\\nIt is difficult to find anyone in Britain who is prepared to defend the EU on this front. If we are not prepared to repeal these unnecessary and damaging regulations after Brexit, we won’t repeal anything. This is the lowest of the low-hanging fruit and plucking it is a relatively simple matter, as I explain in a new IEA report published today (Vaping Solutions: An Easy Brexit Win).\\n\\r\\nThe Tobacco Products Directive should have never included regulations for non-tobacco products such as e-cigarettes in the first place. The vaping market functioned better under the relatively laissez-faire regime that preceded it than it has since. The sooner it returns to its previous state, the better for the health, prosperity and liberty of the nation.\\n\\r\\n\\xa0\\n\\n     Christopher Snowdon                         twitter   email        Head of Lifestyle Economics, IEA   Christopher Snowdon is the Head of Lifestyle Economics at the IEA. He is the author of The Art of Suppression, The Spirit Level Delusion and Velvet Glove; Iron Fist. His work focuses on pleasure, prohibition and dodgy statistics. He has authored a number of papers, including \"Sock Puppets\", \"Euro Puppets\", \"The Proof of the Pudding\", \"The Crack Cocaine of Gambling\" and \"Free Market Solutions in Health\".            '"
            ]
          },
          "metadata": {
            "tags": []
          },
          "execution_count": 69
        }
      ]
    },
    {
      "cell_type": "markdown",
      "metadata": {
        "id": "UGspwSqkyZn7"
      },
      "source": [
        "### Πάμε να κάνουμε το ίδιο για όλα τα urls"
      ]
    },
    {
      "cell_type": "code",
      "metadata": {
        "id": "9I59Cmp1yZn7",
        "outputId": "dfcd77f3-7f79-47fc-dba9-666d94d25d36",
        "colab": {
          "base_uri": "https://localhost:8080/"
        }
      },
      "source": [
        "urls"
      ],
      "execution_count": 70,
      "outputs": [
        {
          "output_type": "execute_result",
          "data": {
            "text/plain": [
              "['https://iea.org.uk/is-the-zoomshock-here-to-stay/',\n",
              " 'https://iea.org.uk/20-taxes-the-government-could-scrap-to-boost-the-economy/',\n",
              " 'https://iea.org.uk/debate-should-classical-liberals-support-secession/',\n",
              " 'https://iea.org.uk/closing-down-markets-will-do-nothing-to-diminish-poverty/',\n",
              " 'https://iea.org.uk/fear-of-cancellation-can-be-as-insidious-as-state-censorship/',\n",
              " 'https://iea.org.uk/hiking-corporation-tax-bad-idea-worse-timing/',\n",
              " 'https://iea.org.uk/competition-and-co-operation-a-catholic-perspective/',\n",
              " 'https://iea.org.uk/the-future-of-post-pandemic-work/',\n",
              " 'https://iea.org.uk/note-to-academics-disagree-with-economic-liberalism-all-you-want-but-quit-the-straw-manning/',\n",
              " 'https://iea.org.uk/good-riddance-to-african-socialism/',\n",
              " 'https://iea.org.uk/citizens-assemblies-and-mandate-manufacturing/',\n",
              " 'https://iea.org.uk/how-realistic-are-the-prospects-for-a-uk-india-free-trade-agreement/',\n",
              " 'https://iea.org.uk/wealth-taxes-another-failed-idea-that-never-dies/',\n",
              " 'https://iea.org.uk/housebuilding-numbers-in-britain-remain-pitifully-low/',\n",
              " 'https://iea.org.uk/viral-myths-my-response-to-the-british-medical-journal/',\n",
              " 'https://iea.org.uk/the-european-super-league-and-the-economics-of-football/',\n",
              " 'https://iea.org.uk/johnsons-radical-shakeup-of-the-planning-system-is-not-going-to-happen/',\n",
              " 'https://iea.org.uk/an-introduction-to-an-introduction-to-democracy/',\n",
              " 'https://iea.org.uk/covid-vs-the-environment-the-kuznets-curve-in-action/',\n",
              " 'https://iea.org.uk/will-covid-induced-inflation-give-cryptocurrencies-a-boost/',\n",
              " 'https://iea.org.uk/anti-gambling-campaigners-load-the-dice-against-fun/',\n",
              " 'https://iea.org.uk/the-court-ruling-on-uber-is-bad-news-for-both-drivers-and-customers/',\n",
              " 'https://iea.org.uk/an-alternative-approach-to-alleviating-child-poverty/',\n",
              " 'https://iea.org.uk/education-reform-after-covid-lets-go-back-to-first-principles/',\n",
              " 'https://iea.org.uk/globalisation-and-inequality-a-good-news-story/',\n",
              " 'https://iea.org.uk/no-salvation-in-fiscal-policy/',\n",
              " 'https://iea.org.uk/on-free-speech-the-queens-speech-was-a-mixed-bag/',\n",
              " 'https://iea.org.uk/no-austerity-is-not-to-blame-for-britains-poor-covid-performance/',\n",
              " 'https://iea.org.uk/some-initial-thoughts-on-the-commission-on-race-and-ethnic-disparities-report/',\n",
              " 'https://iea.org.uk/enough-of-the-coronfirmation-bias-the-pandemic-has-not-vindicated-anyone/',\n",
              " 'https://iea.org.uk/the-case-for-moving-the-lockdown-roadmap-forward/',\n",
              " 'https://iea.org.uk/book-review-free-lunch-thinking-how-economics-ruins-the-economy-by-tom-bergin/',\n",
              " 'https://iea.org.uk/viral-myths-a-response-to-my-critics-part-2/',\n",
              " 'https://iea.org.uk/ignore-the-lobbyists-free-trade-with-australia-would-be-a-boon-for-consumers/',\n",
              " 'https://iea.org.uk/the-case-for-a-liberal-precautionary-principle/',\n",
              " 'https://iea.org.uk/the-financial-sector-unpopular-but-useful/',\n",
              " 'https://iea.org.uk/viral-myths-a-response-to-my-critics/',\n",
              " 'https://iea.org.uk/the-pros-and-mostly-cons-of-an-online-sales-tax/',\n",
              " 'https://iea.org.uk/why-has-the-government-given-up-on-labour-market-reform/',\n",
              " 'https://iea.org.uk/the-case-for-a-british-innovation-principle/']"
            ]
          },
          "metadata": {
            "tags": []
          },
          "execution_count": 70
        }
      ]
    },
    {
      "cell_type": "code",
      "metadata": {
        "scrolled": true,
        "id": "6QRqRQwhyZn8",
        "outputId": "9f535681-8174-44e1-948b-5170476194c8",
        "colab": {
          "base_uri": "https://localhost:8080/"
        }
      },
      "source": [
        "from bs4 import BeautifulSoup\n",
        "import os\n",
        "import requests\n",
        "from datetime import datetime\n",
        "import ast\n",
        "import time\n",
        "\n",
        "\n",
        "#def remove_non_ascii(text):\n",
        "#    return ''.join([i if ord(i) < 128 else ' ' for i in text])\n",
        "\n",
        "list=[]\n",
        "for i in urls[0:15]:  #βάζω συγκεκριμένο αριθμό για τεστ\n",
        "    dic = {}\n",
        "    #url = base_url + str(i)\n",
        "    print(i)\n",
        "    page = requests.get(i, headers = headers)\n",
        "    soup = BeautifulSoup(page.content, 'html.parser')\n",
        "\n",
        "    \n",
        "    title = soup.select(\"h2\")\n",
        "\n",
        "    if (title):\n",
        "        dic['title'] = soup.select(\"title\")[0].text\n",
        "    else:\n",
        "        print(\"ARTICLE NO: \", link, \" HAS NO TITLE\")\n",
        "        dic['title'] = \"NO TITLE\"\n",
        "    \n",
        "        \n",
        "    date = soup.select(\"div.ph-header-block div\")\n",
        "    if (date):\n",
        "        dic['date'] = soup.select(\"div.ph-header-block div\")[2].text.strip()\n",
        "    else:\n",
        "        print(\"ARTICLE NO: \", link, \" HAS NO date\")\n",
        "        dic['date'] = \"NO date\"\n",
        "        \n",
        "        \n",
        "    author = soup.select(\"div.ph-header-block div\")\n",
        "    if (author):\n",
        "        dic['author'] = soup.select(\"div.ph-header-block div\")[1].text.strip()\n",
        "    else:\n",
        "        print(\"ARTICLE NO: \", link, \" HAS NO author\")\n",
        "        dic['author'] = \"NO author\"        \n",
        "        \n",
        "    \n",
        "    article =  soup.select(\"#modal-ready\")\n",
        "    if (article):\n",
        "        dic['body'] = soup.select(\"#modal-ready\")[0].text\n",
        "    else:\n",
        "        print(\"ARTICLE NO: \", link, \" HAS NO body\")\n",
        "        dic['body'] = \"NO body\"  \n",
        "    #article =  soup.select(\"#modal-ready\")[0].text\n",
        "    \n",
        "    #article_text = [a.text for a in article]\n",
        "    #dic['body'] = article\n",
        "    \n",
        "    dic['url'] = i\n",
        "\n",
        "    \n",
        "    list.append(dic)\n",
        "    #print(dic)\n",
        "    \n",
        "    time.sleep(0.5) #ορίζω πόση ώρα θα περιμένει μέχρι να ξαναχτυπήσει τον σέρβερ για να πάρει το επόμενο\n",
        "    "
      ],
      "execution_count": 71,
      "outputs": [
        {
          "output_type": "stream",
          "text": [
            "https://iea.org.uk/is-the-zoomshock-here-to-stay/\n",
            "https://iea.org.uk/20-taxes-the-government-could-scrap-to-boost-the-economy/\n",
            "https://iea.org.uk/debate-should-classical-liberals-support-secession/\n",
            "https://iea.org.uk/closing-down-markets-will-do-nothing-to-diminish-poverty/\n",
            "https://iea.org.uk/fear-of-cancellation-can-be-as-insidious-as-state-censorship/\n",
            "https://iea.org.uk/hiking-corporation-tax-bad-idea-worse-timing/\n",
            "https://iea.org.uk/competition-and-co-operation-a-catholic-perspective/\n",
            "https://iea.org.uk/the-future-of-post-pandemic-work/\n",
            "https://iea.org.uk/note-to-academics-disagree-with-economic-liberalism-all-you-want-but-quit-the-straw-manning/\n",
            "https://iea.org.uk/good-riddance-to-african-socialism/\n",
            "https://iea.org.uk/citizens-assemblies-and-mandate-manufacturing/\n",
            "https://iea.org.uk/how-realistic-are-the-prospects-for-a-uk-india-free-trade-agreement/\n",
            "https://iea.org.uk/wealth-taxes-another-failed-idea-that-never-dies/\n",
            "https://iea.org.uk/housebuilding-numbers-in-britain-remain-pitifully-low/\n",
            "https://iea.org.uk/viral-myths-my-response-to-the-british-medical-journal/\n"
          ],
          "name": "stdout"
        }
      ]
    },
    {
      "cell_type": "markdown",
      "metadata": {
        "id": "Q830NGToyZn8"
      },
      "source": [
        "## Κάνω την λίστα dataframe"
      ]
    },
    {
      "cell_type": "code",
      "metadata": {
        "id": "FnMv7bGlyZn9"
      },
      "source": [
        "df = pd.DataFrame(list)\n",
        "df"
      ],
      "execution_count": null,
      "outputs": []
    },
    {
      "cell_type": "markdown",
      "metadata": {
        "id": "qGH8A4zPyZn9"
      },
      "source": [
        "## Πετάω τυχον διπλά"
      ]
    },
    {
      "cell_type": "code",
      "metadata": {
        "id": "fiaA_ILvyZn_"
      },
      "source": [
        "df.drop_duplicates(subset=['url'], keep='first', inplace = True)\n",
        "df.reset_index(drop=True, inplace = True)"
      ],
      "execution_count": null,
      "outputs": []
    },
    {
      "cell_type": "code",
      "metadata": {
        "id": "eyXo1MR7yZn_"
      },
      "source": [
        "df.shape"
      ],
      "execution_count": null,
      "outputs": []
    },
    {
      "cell_type": "markdown",
      "metadata": {
        "id": "44e4ZXINyZoA"
      },
      "source": [
        "## Και σώζω το dataframe!"
      ]
    },
    {
      "cell_type": "code",
      "metadata": {
        "id": "_tTska9iyZoA"
      },
      "source": [
        "df.to_csv(\"iea_articles.csv\", index = False)\n",
        "df = pd.read_csv(\"iea_articles.csv\")\n",
        "df\n"
      ],
      "execution_count": null,
      "outputs": []
    },
    {
      "cell_type": "markdown",
      "metadata": {
        "id": "VVQSnyMCyZoA"
      },
      "source": [
        "## Κάνω τις ημερομηνίες τύπο datetime"
      ]
    },
    {
      "cell_type": "code",
      "metadata": {
        "id": "fqPMw5SuyZoA"
      },
      "source": [
        "from datetime import timedelta\n",
        "from datetime import datetime as dt\n",
        "\n",
        "df['date'] = pd.to_datetime(df['date'], errors='coerce')\n",
        "df"
      ],
      "execution_count": null,
      "outputs": []
    },
    {
      "cell_type": "markdown",
      "metadata": {
        "id": "1np1g2-vyZoA"
      },
      "source": [
        "### Φτιάχνω ένα νέο column για τον χρόνο"
      ]
    },
    {
      "cell_type": "code",
      "metadata": {
        "id": "lQKEF4zJyZoA"
      },
      "source": [
        "df['year'] = df['date'].dt.strftime('%Y')"
      ],
      "execution_count": null,
      "outputs": []
    },
    {
      "cell_type": "markdown",
      "metadata": {
        "id": "uVY96h-TyZoB"
      },
      "source": [
        "### Σορτάρω"
      ]
    },
    {
      "cell_type": "code",
      "metadata": {
        "id": "_uJbflyMyZoC"
      },
      "source": [
        "df.sort_values(by=['date'], inplace=True, ascending=False)"
      ],
      "execution_count": null,
      "outputs": []
    },
    {
      "cell_type": "markdown",
      "metadata": {
        "id": "nLRTr9-oyZoC"
      },
      "source": [
        "### Κρατάω μόνο όσα άρθρα έχουν κείμενο και ημερομηνία."
      ]
    },
    {
      "cell_type": "code",
      "metadata": {
        "id": "j1IPDawVyZoC"
      },
      "source": [
        "df[df['body'].notna()]"
      ],
      "execution_count": null,
      "outputs": []
    },
    {
      "cell_type": "code",
      "metadata": {
        "id": "N2vcXtUEyZoD"
      },
      "source": [
        "df[df['date'].notna()]"
      ],
      "execution_count": null,
      "outputs": []
    },
    {
      "cell_type": "markdown",
      "metadata": {
        "id": "zk3OArDLyZoD"
      },
      "source": [
        "### Ξανασώζω το καθαρό df"
      ]
    },
    {
      "cell_type": "code",
      "metadata": {
        "id": "K0TKJ9QcyZoD"
      },
      "source": [
        "df.to_csv(\"iea_articles.csv\", index=False)"
      ],
      "execution_count": null,
      "outputs": []
    }
  ]
}