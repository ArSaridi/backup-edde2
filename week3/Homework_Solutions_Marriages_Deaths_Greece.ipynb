{
 "cells": [
  {
   "cell_type": "markdown",
   "metadata": {},
   "source": [
    "## Εισάγετε τις βιβλιοθήκες που θα χρειαστείτε στη συνέχεια"
   ]
  },
  {
   "cell_type": "code",
   "execution_count": 1,
   "metadata": {},
   "outputs": [],
   "source": [
    "import pandas as pd"
   ]
  },
  {
   "cell_type": "markdown",
   "metadata": {},
   "source": [
    "## Ανοίξτε το αρχείο Marriages.csv και διαβάστε τις πέντε πρώτες σειρές"
   ]
  },
  {
   "cell_type": "code",
   "execution_count": 2,
   "metadata": {},
   "outputs": [],
   "source": [
    "df = pd.read_csv(\"../data/marriages.csv\")"
   ]
  },
  {
   "cell_type": "code",
   "execution_count": 3,
   "metadata": {},
   "outputs": [
    {
     "data": {
      "text/html": [
       "<div>\n",
       "<style scoped>\n",
       "    .dataframe tbody tr th:only-of-type {\n",
       "        vertical-align: middle;\n",
       "    }\n",
       "\n",
       "    .dataframe tbody tr th {\n",
       "        vertical-align: top;\n",
       "    }\n",
       "\n",
       "    .dataframe thead th {\n",
       "        text-align: right;\n",
       "    }\n",
       "</style>\n",
       "<table border=\"1\" class=\"dataframe\">\n",
       "  <thead>\n",
       "    <tr style=\"text-align: right;\">\n",
       "      <th></th>\n",
       "      <th>Έτος</th>\n",
       "      <th>Γάμοι</th>\n",
       "      <th>Γάμοι ανά 1,000</th>\n",
       "    </tr>\n",
       "  </thead>\n",
       "  <tbody>\n",
       "    <tr>\n",
       "      <th>0</th>\n",
       "      <td>1932</td>\n",
       "      <td>39283</td>\n",
       "      <td>6.00</td>\n",
       "    </tr>\n",
       "    <tr>\n",
       "      <th>1</th>\n",
       "      <td>1933</td>\n",
       "      <td>46263</td>\n",
       "      <td>6.98</td>\n",
       "    </tr>\n",
       "    <tr>\n",
       "      <th>2</th>\n",
       "      <td>1934</td>\n",
       "      <td>47301</td>\n",
       "      <td>7.03</td>\n",
       "    </tr>\n",
       "    <tr>\n",
       "      <th>3</th>\n",
       "      <td>1935</td>\n",
       "      <td>45690</td>\n",
       "      <td>6.68</td>\n",
       "    </tr>\n",
       "    <tr>\n",
       "      <th>4</th>\n",
       "      <td>1936</td>\n",
       "      <td>38750</td>\n",
       "      <td>5.59</td>\n",
       "    </tr>\n",
       "  </tbody>\n",
       "</table>\n",
       "</div>"
      ],
      "text/plain": [
       "   Έτος  Γάμοι  Γάμοι ανά 1,000\n",
       "0  1932  39283             6.00\n",
       "1  1933  46263             6.98\n",
       "2  1934  47301             7.03\n",
       "3  1935  45690             6.68\n",
       "4  1936  38750             5.59"
      ]
     },
     "execution_count": 3,
     "metadata": {},
     "output_type": "execute_result"
    }
   ],
   "source": [
    "df.head()"
   ]
  },
  {
   "cell_type": "markdown",
   "metadata": {},
   "source": [
    "## Πόσες είναι συνολικά οι σειρές σας; Και ποιο το είδος των στηλών σας;   "
   ]
  },
  {
   "cell_type": "code",
   "execution_count": 9,
   "metadata": {},
   "outputs": [
    {
     "data": {
      "text/plain": [
       "71"
      ]
     },
     "execution_count": 9,
     "metadata": {},
     "output_type": "execute_result"
    }
   ],
   "source": [
    "#rows count\n",
    "len(df)"
   ]
  },
  {
   "cell_type": "code",
   "execution_count": 4,
   "metadata": {},
   "outputs": [
    {
     "data": {
      "text/plain": [
       "Έτος                 int64\n",
       "Γάμοι                int64\n",
       "Γάμοι ανά 1,000    float64\n",
       "dtype: object"
      ]
     },
     "execution_count": 4,
     "metadata": {},
     "output_type": "execute_result"
    }
   ],
   "source": [
    "df.dtypes"
   ]
  },
  {
   "cell_type": "markdown",
   "metadata": {},
   "source": [
    "## Ποιές είναι οι δέκα χρονιές με τους περισσότερους γάμους από το 1932;"
   ]
  },
  {
   "cell_type": "code",
   "execution_count": 45,
   "metadata": {},
   "outputs": [
    {
     "data": {
      "text/plain": [
       "21    1967\n",
       "19    1965\n",
       "33    1979\n",
       "17    1963\n",
       "29    1975\n",
       "31    1977\n",
       "18    1964\n",
       "13    1959\n",
       "27    1973\n",
       "25    1971\n",
       "Name: Έτος, dtype: int64"
      ]
     },
     "execution_count": 45,
     "metadata": {},
     "output_type": "execute_result"
    }
   ],
   "source": [
    "df.sort_values(ascending=False,by='Γάμοι')['Έτος'].head(10)"
   ]
  },
  {
   "cell_type": "markdown",
   "metadata": {},
   "source": [
    "## Ποιές είναι οι δέκα χρονιές με τους λιγότερους γάμους ανά 1000 κατοίκους από το 1932;"
   ]
  },
  {
   "cell_type": "code",
   "execution_count": 24,
   "metadata": {},
   "outputs": [
    {
     "data": {
      "text/plain": [
       "50    1996\n",
       "66    2012\n",
       "54    2000\n",
       "8     1940\n",
       "70    2016\n",
       "67    2013\n",
       "58    2004\n",
       "46    1992\n",
       "62    2008\n",
       "42    1988\n",
       "Name: Έτος, dtype: int64"
      ]
     },
     "execution_count": 24,
     "metadata": {},
     "output_type": "execute_result"
    }
   ],
   "source": [
    "df.sort_values(ascending=True,by='Γάμοι ανά 1,000')['Έτος'].head(10)"
   ]
  },
  {
   "cell_type": "markdown",
   "metadata": {},
   "source": [
    "## Απεικονίστε τον ρυθμό τέλεσης γάμων ανά 1,000 κατοίκους στην πιο πρόσφατη δεκαετία"
   ]
  },
  {
   "cell_type": "code",
   "execution_count": 25,
   "metadata": {},
   "outputs": [],
   "source": [
    "%matplotlib inline"
   ]
  },
  {
   "cell_type": "code",
   "execution_count": 43,
   "metadata": {},
   "outputs": [
    {
     "data": {
      "text/plain": [
       "<matplotlib.axes._subplots.AxesSubplot at 0x7f91a9ee35c0>"
      ]
     },
     "execution_count": 43,
     "metadata": {},
     "output_type": "execute_result"
    },
    {
     "data": {
      "image/png": "[encoded data removed]",
      "text/plain": [
       "<Figure size 432x288 with 1 Axes>"
      ]
     },
     "metadata": {
      "needs_background": "light"
     },
     "output_type": "display_data"
    }
   ],
   "source": [
    "df.sort_values(ascending=True, by= 'Έτος').tail(10).plot(x='Έτος', y='Γάμοι ανά 1,000', kind='bar')"
   ]
  },
  {
   "cell_type": "markdown",
   "metadata": {},
   "source": [
    "## Ανοίξτε το αρχείο Deaths.csv και διαβάστε τις πέντε τελευταίες σειρές"
   ]
  },
  {
   "cell_type": "code",
   "execution_count": 70,
   "metadata": {},
   "outputs": [],
   "source": [
    "df2 = pd.read_csv(\"../data/deaths.csv\")"
   ]
  },
  {
   "cell_type": "code",
   "execution_count": 71,
   "metadata": {},
   "outputs": [
    {
     "data": {
      "text/html": [
       "<div>\n",
       "<style scoped>\n",
       "    .dataframe tbody tr th:only-of-type {\n",
       "        vertical-align: middle;\n",
       "    }\n",
       "\n",
       "    .dataframe tbody tr th {\n",
       "        vertical-align: top;\n",
       "    }\n",
       "\n",
       "    .dataframe thead th {\n",
       "        text-align: right;\n",
       "    }\n",
       "</style>\n",
       "<table border=\"1\" class=\"dataframe\">\n",
       "  <thead>\n",
       "    <tr style=\"text-align: right;\">\n",
       "      <th></th>\n",
       "      <th>Έτος</th>\n",
       "      <th>Θάνατοι</th>\n",
       "      <th>Θάνατοι / 1,000</th>\n",
       "      <th>Θάνατοι κάτω 1</th>\n",
       "      <th>Θάνατοι κάτω 1 / 1,000</th>\n",
       "    </tr>\n",
       "  </thead>\n",
       "  <tbody>\n",
       "    <tr>\n",
       "      <th>66</th>\n",
       "      <td>2012</td>\n",
       "      <td>116668</td>\n",
       "      <td>10.52</td>\n",
       "      <td>293</td>\n",
       "      <td>2.92</td>\n",
       "    </tr>\n",
       "    <tr>\n",
       "      <th>67</th>\n",
       "      <td>2013</td>\n",
       "      <td>111794</td>\n",
       "      <td>10.20</td>\n",
       "      <td>346</td>\n",
       "      <td>3.67</td>\n",
       "    </tr>\n",
       "    <tr>\n",
       "      <th>68</th>\n",
       "      <td>2014</td>\n",
       "      <td>113740</td>\n",
       "      <td>10.41</td>\n",
       "      <td>346</td>\n",
       "      <td>3.75</td>\n",
       "    </tr>\n",
       "    <tr>\n",
       "      <th>69</th>\n",
       "      <td>2015</td>\n",
       "      <td>121183</td>\n",
       "      <td>11.16</td>\n",
       "      <td>364</td>\n",
       "      <td>3.96</td>\n",
       "    </tr>\n",
       "    <tr>\n",
       "      <th>70</th>\n",
       "      <td>2016</td>\n",
       "      <td>118785</td>\n",
       "      <td>11.02</td>\n",
       "      <td>387</td>\n",
       "      <td>4.17</td>\n",
       "    </tr>\n",
       "  </tbody>\n",
       "</table>\n",
       "</div>"
      ],
      "text/plain": [
       "    Έτος  Θάνατοι  Θάνατοι / 1,000 Θάνατοι κάτω 1 Θάνατοι κάτω 1 / 1,000\n",
       "66  2012   116668            10.52            293                   2.92\n",
       "67  2013   111794            10.20            346                   3.67\n",
       "68  2014   113740            10.41            346                   3.75\n",
       "69  2015   121183            11.16            364                   3.96\n",
       "70  2016   118785            11.02            387                   4.17"
      ]
     },
     "execution_count": 71,
     "metadata": {},
     "output_type": "execute_result"
    }
   ],
   "source": [
    "df2.tail(5)"
   ]
  },
  {
   "cell_type": "markdown",
   "metadata": {},
   "source": [
    "## Ποιές είναι οι δέκα χρονιές με τους περισσότερους θανάτους;"
   ]
  },
  {
   "cell_type": "code",
   "execution_count": 72,
   "metadata": {},
   "outputs": [
    {
     "data": {
      "text/plain": [
       "69    2015\n",
       "70    2016\n",
       "0     1932\n",
       "66    2012\n",
       "68    2014\n",
       "67    2013\n",
       "1     1933\n",
       "65    2011\n",
       "61    2007\n",
       "64    2010\n",
       "Name: Έτος, dtype: int64"
      ]
     },
     "execution_count": 72,
     "metadata": {},
     "output_type": "execute_result"
    }
   ],
   "source": [
    "df2.sort_values(ascending=False, by='Θάνατοι')['Έτος'].head(10)"
   ]
  },
  {
   "cell_type": "markdown",
   "metadata": {},
   "source": [
    "## Ποιές ειναι οι δέκα χρονιές με τους περισσότερους θανάτους νεογνών;"
   ]
  },
  {
   "cell_type": "code",
   "execution_count": 73,
   "metadata": {},
   "outputs": [
    {
     "data": {
      "text/plain": [
       "44    1990\n",
       "43    1989\n",
       "45    1991\n",
       "46    1992\n",
       "47    1993\n",
       "49    1995\n",
       "48    1994\n",
       "50    1996\n",
       "11    1957\n",
       "52    1998\n",
       "Name: Έτος, dtype: int64"
      ]
     },
     "execution_count": 73,
     "metadata": {},
     "output_type": "execute_result"
    }
   ],
   "source": [
    "df2.sort_values(ascending=False, by='Θάνατοι κάτω 1')['Έτος'].head(10)"
   ]
  },
  {
   "cell_type": "markdown",
   "metadata": {},
   "source": [
    "## Τι λάθος παρατηρείτε; Πώς μπορείτε να το διορθώσετε;"
   ]
  },
  {
   "cell_type": "code",
   "execution_count": 74,
   "metadata": {},
   "outputs": [
    {
     "data": {
      "text/plain": [
       "Έτος                        int64\n",
       "Θάνατοι                     int64\n",
       "Θάνατοι / 1,000           float64\n",
       "Θάνατοι κάτω 1             object\n",
       "Θάνατοι κάτω 1 / 1,000     object\n",
       "dtype: object"
      ]
     },
     "execution_count": 74,
     "metadata": {},
     "output_type": "execute_result"
    }
   ],
   "source": [
    "df2.dtypes\n",
    "#Παρατηρούμε ότι οι στήλες \"Θάνατοι κάτω 1\" και \"Θάνατοι κάτω 1/1,000\" είναι τύπου Object (συμβολοσειρά)\n",
    "#Επίσης πολλές τιμές είναι NaN και δε γίνεται σωστά η ταξινόμηση"
   ]
  },
  {
   "cell_type": "code",
   "execution_count": 76,
   "metadata": {},
   "outputs": [],
   "source": [
    "df2['Θάνατοι κάτω 1'] = df2['Θάνατοι κάτω 1'].apply(pd.to_numeric, errors='coerce') #object to float64\n",
    "df2['Θάνατοι κάτω 1 / 1,000'] = df2['Θάνατοι κάτω 1 / 1,000'].apply(pd.to_numeric, errors='coerce') #object to float64"
   ]
  },
  {
   "cell_type": "code",
   "execution_count": 77,
   "metadata": {},
   "outputs": [],
   "source": [
    "df2['Θάνατοι κάτω 1'] = df2['Θάνατοι κάτω 1'].fillna(0).astype(int)   #NaN to 0 && float64 to int64\n",
    "df2['Θάνατοι κάτω 1 / 1,000'] = df2['Θάνατοι κάτω 1 / 1,000'].fillna(0)  #NaN to 0 "
   ]
  },
  {
   "cell_type": "code",
   "execution_count": 69,
   "metadata": {},
   "outputs": [
    {
     "data": {
      "text/plain": [
       "Έτος                        int64\n",
       "Θάνατοι                     int64\n",
       "Θάνατοι / 1,000           float64\n",
       "Θάνατοι κάτω 1              int64\n",
       "Θάνατοι κάτω 1 / 1,000    float64\n",
       "dtype: object"
      ]
     },
     "execution_count": 69,
     "metadata": {},
     "output_type": "execute_result"
    }
   ],
   "source": [
    "df2.dtypes"
   ]
  },
  {
   "cell_type": "markdown",
   "metadata": {},
   "source": [
    "## Απεικονίστε στο ίδιο διάγραμμα την διακύμανση των θανάτων ανά 1.000 άτομα και για τις δυο κατηγορίες έως το 1940"
   ]
  },
  {
   "cell_type": "code",
   "execution_count": 100,
   "metadata": {},
   "outputs": [
    {
     "data": {
      "text/plain": [
       "<matplotlib.axes._subplots.AxesSubplot at 0x7f91a9c436d8>"
      ]
     },
     "execution_count": 100,
     "metadata": {},
     "output_type": "execute_result"
    },
    {
     "data": {
      "image/png": "[encoded data removed]",
      "text/plain": [
       "<Figure size 432x288 with 1 Axes>"
      ]
     },
     "metadata": {
      "needs_background": "light"
     },
     "output_type": "display_data"
    }
   ],
   "source": [
    "df2.head(9)[['Έτος', 'Θάνατοι / 1,000', 'Θάνατοι κάτω 1 / 1,000']].plot(x='Έτος') \n",
    "#διπλή αγκύλη και χωρισμένα με κόμμα αν θέλω να εμφανίσει παραπάνω από ένα"
   ]
  }
 ],
 "metadata": {
  "kernelspec": {
   "display_name": "Python 3",
   "language": "python",
   "name": "python3"
  },
  "language_info": {
   "codemirror_mode": {
    "name": "ipython",
    "version": 3
   },
   "file_extension": ".py",
   "mimetype": "text/x-python",
   "name": "python",
   "nbconvert_exporter": "python",
   "pygments_lexer": "ipython3",
   "version": "3.7.2"
  }
 },
 "nbformat": 4,
 "nbformat_minor": 2
}
