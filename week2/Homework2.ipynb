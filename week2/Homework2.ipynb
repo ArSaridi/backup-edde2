{
 "cells": [
  {
   "cell_type": "markdown",
   "metadata": {},
   "source": [
    "## Homework: Dictionaries\n"
   ]
  },
  {
   "cell_type": "markdown",
   "metadata": {},
   "source": [
    "#1) Ας υποθέσουμε ότι είμαστε πολύ κακοί γιατροί και έχουμε έναν ασθενή. \n",
    "\n",
    "Ορίστε ένα λεξικό που να λέγεται patient και θα δουλεύει με τον παρακάτω κώδικα. "
   ]
  },
  {
   "cell_type": "code",
   "execution_count": 2,
   "metadata": {},
   "outputs": [
    {
     "name": "stdout",
     "output_type": "stream",
     "text": [
      "Γιατρέ, ο ασθενής παραπανιέται ότι έχει πυρετό\n"
     ]
    }
   ],
   "source": [
    "patient = {\n",
    "'name': '',\n",
    "'complaint':'πυρετό', \n",
    "}\n",
    "print(\"Γιατρέ, ο ασθενής παραπονιέται ότι έχει\", patient['complaint'])\n",
    "\n"
   ]
  },
  {
   "cell_type": "markdown",
   "metadata": {},
   "source": [
    "#2) Δεν δίνουμε πολύ σημασία στον ασθενή, αλλά όσο έρχονται νέα αποτελέσματα εξετάσεων, τα προσθέτουμε στο λεξικό του ασθενή:"
   ]
  },
  {
   "cell_type": "code",
   "execution_count": 3,
   "metadata": {},
   "outputs": [],
   "source": [
    "patient.update({'Heart rate': 70, 'Temperature': 98.6, 'Infection': 'No'}) "
   ]
  },
  {
   "cell_type": "markdown",
   "metadata": {},
   "source": [
    "Τυπώστε τα keys του λεξικού"
   ]
  },
  {
   "cell_type": "code",
   "execution_count": 4,
   "metadata": {},
   "outputs": [
    {
     "name": "stdout",
     "output_type": "stream",
     "text": [
      "dict_keys(['name', 'complaint', 'Heart rate', 'Temperature', 'Infection'])\n"
     ]
    }
   ],
   "source": []
  },
  {
   "cell_type": "markdown",
   "metadata": {},
   "source": [
    "#3) Τώρα ας γίνουμε γιατροί! Πρώτα πρέπει αν έχουν heart rate ίσο ή μεγαλύτερο από το 100, πρέπει να τους πούμε να ηρεμήσουν. \n",
    "\n",
    "Αποθηκεύστε τη διάγνωση σας σε ένα κλειδί (key) που θα λέγεται 'diagnosis'.\n"
   ]
  },
  {
   "cell_type": "code",
   "execution_count": null,
   "metadata": {},
   "outputs": [],
   "source": [
    "patient.update({'diagnosis':''})"
   ]
  },
  {
   "cell_type": "markdown",
   "metadata": {},
   "source": [
    "Αν έχουν temperature πάνω από 102, αλλά δεν έχουν infection, έχουν πάθει θερμοπληξία.\n",
    "\n",
    "Αν έχουν temperature πάνω από 102 και έχουν και infection, τότε έχουν γρίπη.\n",
    "\n",
    "Αν έχουν infection αλλά όχι temperature πάνω από 102 τότε είναι έχουν ένα απλό κρύωμα.\n",
    "\n",
    "Αν δεν έχουν τίποτα από τα παραπάνω πείτε τους να πάρουν μία ασπιρίνη και να σας τηλεφωνήσουν το πρωί."
   ]
  },
  {
   "cell_type": "markdown",
   "metadata": {},
   "source": [
    "Όταν τελειώσετε με την παραπάνω λούπα, τυπώστε: \"**Το όνομα του ασθενή από το λεξικό**, η διάγνωσή σου είναι  _______.\""
   ]
  },
  {
   "cell_type": "code",
   "execution_count": 1,
   "metadata": {},
   "outputs": [],
   "source": [
    "patients = [{'name': 'Dean', 'Heart rate': 67, 'Temperature': 109, 'Infection': 'No', 'complaint': 'pain'}, {'name': 'Mark', 'Heart rate': 70, 'Temperature': 98.6, 'Infection': 'No', 'complaint': 'pain'}, {'name': 'Susan', 'Heart rate': 110, 'Temperature': 105, 'Infection': 'Yes','complaint': 'pain'}] "
   ]
  },
  {
   "cell_type": "code",
   "execution_count": null,
   "metadata": {},
   "outputs": [],
   "source": []
  },
  {
   "cell_type": "markdown",
   "metadata": {},
   "source": [
    "#5 Δεύτερο Λεξικό\n",
    "\n",
    "Βρείτε ποιοι από τους επόμενους ασθενείς έχουν πάθει θερμοπληξία."
   ]
  },
  {
   "cell_type": "code",
   "execution_count": 3,
   "metadata": {},
   "outputs": [],
   "source": [
    "patients_2 = [ {'name': 'Beast', 'Temperature': 99}, {'name': 'Simba', 'Temperature': 105}, {'name': 'Snowwhite', 'Temperature': 98}, {'name': 'Donald', 'Temperature': 99}, {'name': 'Bambi', 'Temperature': 100}, {'name': 'Aladdin', 'Temperature': 104}, {'name': 'Hercules', 'Temperature': 105}, {'name': 'Frollo', 'Temperature': 100}]"
   ]
  },
  {
   "cell_type": "code",
   "execution_count": null,
   "metadata": {},
   "outputs": [],
   "source": []
  },
  {
   "cell_type": "markdown",
   "metadata": {},
   "source": [
    "#6 Σώστε τις διαγνώσεις σε μια λίστα που θα λέγεται  records"
   ]
  },
  {
   "cell_type": "code",
   "execution_count": 7,
   "metadata": {},
   "outputs": [],
   "source": []
  },
  {
   "cell_type": "code",
   "execution_count": null,
   "metadata": {},
   "outputs": [],
   "source": []
  },
  {
   "cell_type": "code",
   "execution_count": null,
   "metadata": {},
   "outputs": [],
   "source": []
  }
 ],
 "metadata": {
  "kernelspec": {
   "display_name": "Python 3",
   "language": "python",
   "name": "python3"
  },
  "language_info": {
   "codemirror_mode": {
    "name": "ipython",
    "version": 3
   },
   "file_extension": ".py",
   "mimetype": "text/x-python",
   "name": "python",
   "nbconvert_exporter": "python",
   "pygments_lexer": "ipython3",
   "version": "3.6.7"
  }
 },
 "nbformat": 4,
 "nbformat_minor": 2
}
