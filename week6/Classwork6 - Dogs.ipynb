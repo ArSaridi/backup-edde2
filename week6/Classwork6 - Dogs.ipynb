{
 "cells": [
  {
   "cell_type": "markdown",
   "metadata": {},
   "source": [
    "# Σκύλοι στην Νέα Υόρκη\n",
    "\n",
    "Δεδομένα από: [a FOIL request to New York City](https://www.muckrock.com/foi/new-york-city-17/pet-licensing-data-for-new-york-city-23826/)"
   ]
  },
  {
   "cell_type": "markdown",
   "metadata": {},
   "source": [
    "## Εισάγετε τις βιβλιοθήκες που πρέπει"
   ]
  },
  {
   "cell_type": "code",
   "execution_count": null,
   "metadata": {},
   "outputs": [],
   "source": [
    "import pandas as pd\n",
    "%matplotlib inline"
   ]
  },
  {
   "cell_type": "markdown",
   "metadata": {},
   "source": [
    "## Διαβάστε το αρχείο `NYC_Dog_Licenses_Current_as_of_4-28-2016.xlsx` και δείτε τις πρώτες 5 γραμμές."
   ]
  },
  {
   "cell_type": "code",
   "execution_count": null,
   "metadata": {},
   "outputs": [],
   "source": [
    "df= pd.read_excel(\"NYC_Dog_Licenses_Current_as_of_4-28-2016.xlsx\", nrows = 30000) #na_values = [\"???\", \"Unknown\", \"UNKNOWN\"]\n",
    "df = df.head(30000)\n",
    "df.head(5)"
   ]
  },
  {
   "cell_type": "markdown",
   "metadata": {},
   "source": [
    "## Πόσες γραμμές και πόσες στήλες έχουν τα δεδομένα? Τι τύπος είναι? \n",
    "\n",
    "Αν είναι πάνω από 30,000 γραμμές, πηγαίνεται πίσω και διαβάστε μόνο τις πρώτες 30,000."
   ]
  },
  {
   "cell_type": "code",
   "execution_count": null,
   "metadata": {},
   "outputs": [],
   "source": [
    "df.shape"
   ]
  },
  {
   "cell_type": "code",
   "execution_count": null,
   "metadata": {},
   "outputs": [],
   "source": [
    "df.dtypes"
   ]
  },
  {
   "cell_type": "markdown",
   "metadata": {},
   "source": [
    "## Ποιες είναι οι πιο δημοφιλείς (primary) ράτσες σκύλων? Κάντε ένα γράφημα με τις top 10."
   ]
  },
  {
   "cell_type": "code",
   "execution_count": null,
   "metadata": {},
   "outputs": [],
   "source": [
    "df['Primary Breed'].value_counts(ascending = True).tail(10).plot(kind='barh')"
   ]
  },
  {
   "cell_type": "markdown",
   "metadata": {},
   "source": [
    "## \"Unknown\" δεν είναι ράτσα. Κάντε ένα γράφημα με τις ράτσες που δεν είναι Unknown"
   ]
  },
  {
   "cell_type": "code",
   "execution_count": null,
   "metadata": {},
   "outputs": [],
   "source": [
    "dogs_not_unknown = df[df['Primary Breed'] != 'Unknown']\n",
    "\n",
    "dogs_not_unknown['Primary Breed'].value_counts().head().plot(kind='barh')"
   ]
  },
  {
   "cell_type": "markdown",
   "metadata": {},
   "source": [
    "## Ποια είναι τα πιο δημοφιλή ονόματα σκύλων? "
   ]
  },
  {
   "cell_type": "code",
   "execution_count": null,
   "metadata": {},
   "outputs": [],
   "source": [
    "df['Animal Name'].value_counts(ascending = True).tail(10).plot(kind='barh') \n",
    "#για να μην βγαίνει συνέχεια unknown, όταν εισάγω το αρχείο θέτω τα NANs"
   ]
  },
  {
   "cell_type": "markdown",
   "metadata": {},
   "source": [
    "## Πόσοι σκύλοι λέγονται  \"Max\" και πόσοι \"Maxwell\"?"
   ]
  },
  {
   "cell_type": "code",
   "execution_count": null,
   "metadata": {},
   "outputs": [],
   "source": [
    "#df[df['Secondary Breed'].str.contains(\"TER\", na=False)] #για search μέσα σε string\n",
    "df[df['Animal Name']=='Max'].shape"
   ]
  },
  {
   "cell_type": "code",
   "execution_count": null,
   "metadata": {},
   "outputs": [],
   "source": [
    "df[df['Animal Name']=='Maxwell'].shape"
   ]
  },
  {
   "cell_type": "code",
   "execution_count": null,
   "metadata": {},
   "outputs": [],
   "source": [
    "df['Animal Third Color'].value_counts().head()"
   ]
  },
  {
   "cell_type": "markdown",
   "metadata": {},
   "source": [
    "## Τι ποσοστό των σκύλων είναι φύλακες ? (guard dogs)\n",
    "\n",
    "Δείτε το documentation για το [value counts]για περισσότερα (https://pandas.pydata.org/pandas-docs/stable/generated/pandas.Series.value_counts.html)."
   ]
  },
  {
   "cell_type": "code",
   "execution_count": null,
   "metadata": {},
   "outputs": [],
   "source": [
    "df[df['Guard or Trained']== 'Yes']['Guard or Trained'].value_counts(dropna=False)"
   ]
  },
  {
   "cell_type": "code",
   "execution_count": null,
   "metadata": {},
   "outputs": [],
   "source": [
    "sum_trained = df['Guard or Trained'].value_counts(dropna=False)"
   ]
  },
  {
   "cell_type": "code",
   "execution_count": null,
   "metadata": {},
   "outputs": [],
   "source": [
    "17 / sum_trained.sum() * 100"
   ]
  },
  {
   "cell_type": "markdown",
   "metadata": {},
   "source": [
    "## Κάτι δεν πάει καλά..που είναι οι υπόλοιποι σκύλοι? Πώς  μπορούμε να τους βρούμε? "
   ]
  },
  {
   "cell_type": "code",
   "execution_count": null,
   "metadata": {},
   "outputs": [],
   "source": [
    "df['Guard or Trained'].value_counts(dropna=False)"
   ]
  },
  {
   "cell_type": "markdown",
   "metadata": {},
   "source": [
    "## Γεμίστε τα κενά στην στήλη \"Guard or Trained\" με \"No\"\n",
    "\n",
    "Μετά ξανατσεκάρετε με `.value_counts()`"
   ]
  },
  {
   "cell_type": "code",
   "execution_count": null,
   "metadata": {},
   "outputs": [],
   "source": [
    "df['Guard or Trained'].fillna(\"No\").value_counts()"
   ]
  },
  {
   "cell_type": "markdown",
   "metadata": {},
   "source": [
    "## Τι ράτσες είναι τα σκυλιά φύλακες? "
   ]
  },
  {
   "cell_type": "code",
   "execution_count": null,
   "metadata": {},
   "outputs": [],
   "source": [
    "df[df['Guard or Trained']== 'Yes']['Primary Breed'].value_counts()"
   ]
  },
  {
   "cell_type": "markdown",
   "metadata": {},
   "source": [
    "## Φτιάξτε μια νέα στήλη με το όνομα \"year\" που να είναι η χρονιά γέννησης του σκύλου. \n",
    "\n",
    "Η στήλη `Animal Birth` είναι τύπος datetime, οπότε με τον παρακάτω κώδικα θα γίνει\n",
    "\n",
    "`df['Animal Birth'].apply(lambda birth: birth.year)`."
   ]
  },
  {
   "cell_type": "code",
   "execution_count": null,
   "metadata": {},
   "outputs": [],
   "source": [
    "df['year'] = df['Animal Birth'].apply(lambda birth:birth.year)\n",
    "df.head()"
   ]
  },
  {
   "cell_type": "markdown",
   "metadata": {},
   "source": [
    "## Υπολογίστε μια νέα στήλη “age” που να δείχνει πόσο χρονών είναι ο σκύλος. Ποιος είναι ο μέσος όρος ηλικίας των σκύλων? "
   ]
  },
  {
   "cell_type": "code",
   "execution_count": null,
   "metadata": {},
   "outputs": [],
   "source": [
    "df['age'] = 2021 - df['year']\n",
    "df.head()"
   ]
  },
  {
   "cell_type": "code",
   "execution_count": null,
   "metadata": {},
   "outputs": [],
   "source": [
    "df['age'].mean()"
   ]
  },
  {
   "cell_type": "markdown",
   "metadata": {},
   "source": [
    "# Ένωση dataframes"
   ]
  },
  {
   "cell_type": "markdown",
   "metadata": {},
   "source": [
    "## Σε ποια γειτονιά μένει ο κάθε σκύλος? \n",
    "\n",
    "Έχουμε ένα αρχείο με τις περιοχές της ΝΥ `zipcodes-neighborhoods.csv`. Ενώστε αυτά τα 2 datasets μαζί. **Προσοχή μην σώσετε το dataframe ως `df`, γιατί θα κάνετε overwrite το dataframe με τους σκύλους.**"
   ]
  },
  {
   "cell_type": "code",
   "execution_count": null,
   "metadata": {},
   "outputs": [],
   "source": [
    "df_zipcodes = pd.read_csv(\"zipcodes-neighborhoods.csv\")\n",
    "df_zipcodes.head(2)"
   ]
  },
  {
   "cell_type": "code",
   "execution_count": null,
   "metadata": {},
   "outputs": [],
   "source": [
    "combined_df = df.merge(df_zipcodes, left_on=\"Owner Zip Code\", right_on=\"zip\")\n",
    "combined_df"
   ]
  },
  {
   "cell_type": "markdown",
   "metadata": {},
   "source": [
    "## Ποιο είναι το πιο συχνό όνομα στο Bronx? στο Brooklyn? στην Upper East Side?"
   ]
  },
  {
   "cell_type": "code",
   "execution_count": null,
   "metadata": {},
   "outputs": [],
   "source": [
    "Bronx_df = combined_df[combined_df['borough']=='Bronx']\n",
    "Bronx_df\n",
    "Bronx_df[\"Animal Name\"].value_counts().head(1)"
   ]
  },
  {
   "cell_type": "code",
   "execution_count": null,
   "metadata": {},
   "outputs": [],
   "source": [
    "Brooklyn_df = combined_df[combined_df['borough']=='Brooklyn']\n",
    "Brooklyn_df\n",
    "Brooklyn_df[\"Animal Name\"].value_counts().head(1)"
   ]
  },
  {
   "cell_type": "code",
   "execution_count": null,
   "metadata": {},
   "outputs": [],
   "source": [
    "Upper_df = combined_df[combined_df['neighborhood']=='Upper East Side']\n",
    "Upper_df\n",
    "Upper_df[\"Animal Name\"].value_counts().head(1)"
   ]
  },
  {
   "cell_type": "markdown",
   "metadata": {},
   "source": [
    "## Πιο είναι το πιο συχνό όνομα σε όλες τις γειτονιές της ΝΥ μαζί? "
   ]
  },
  {
   "cell_type": "code",
   "execution_count": null,
   "metadata": {},
   "outputs": [],
   "source": [
    "combined_df.groupby('borough')[\"Primary Breed\"].value_counts().groupby(level=0).head(1)"
   ]
  },
  {
   "cell_type": "markdown",
   "metadata": {},
   "source": [
    "## Ποια ράτσα σκύλων είναι λιγότερο πιθανό να ψεκαστεί? Θηλυκά ή αρσενικά? "
   ]
  },
  {
   "cell_type": "code",
   "execution_count": null,
   "metadata": {},
   "outputs": [],
   "source": [
    "breeds = df['Primary Breed'].value_counts(ascending=False)\n",
    "not_fixed = df[df['Spayed or Neut']== 'No']\n",
    "not_fixed['Primary Breed'].value_counts(ascending=False)\n",
    "not_fixed1 = not_fixed['Primary Breed'].value_counts(ascending=False) / df['Primary Breed'].value_counts(ascending=False)\n",
    "not_fixed1.dropna().sort_values(ascending=False)"
   ]
  },
  {
   "cell_type": "code",
   "execution_count": null,
   "metadata": {},
   "outputs": [],
   "source": [
    "not_fixed[\"Animal Gender\"].value_counts(ascending=False)"
   ]
  },
  {
   "cell_type": "code",
   "execution_count": null,
   "metadata": {},
   "outputs": [],
   "source": [
    "#df[df['Spayed or Neut']== 'No'][\"Animal Gender\"].value_counts()"
   ]
  },
  {
   "cell_type": "markdown",
   "metadata": {},
   "source": [
    "## Φτιάξτε μια νέα στήλη που να λέγεται monochrome η οποία είναι True για κάθε σκύλο που έχει μαύρο, άσπρο, καφέ ή γκρι ώς ένα από τα χρώματά τους. Πόσα είναι μονόχρωμα? "
   ]
  },
  {
   "cell_type": "code",
   "execution_count": null,
   "metadata": {},
   "outputs": [],
   "source": [
    "colors = [\"BLACK\", \"BROWN\", \"GREY\", \"black\", \"grey\", \"white\"]\n",
    "df['Monochrome'] = df['Animal Secondary Color'].isnull() & df['Animal Dominant Color'].isin(colors) \n",
    "df['Monochrome'].value_counts()[True]"
   ]
  },
  {
   "cell_type": "markdown",
   "metadata": {},
   "source": [
    "## Πόσοι σκύλοι υπάρχουν σε κάθε γειτονιά? Φτιάξτε ένα γράφημα. "
   ]
  },
  {
   "cell_type": "code",
   "execution_count": null,
   "metadata": {},
   "outputs": [],
   "source": [
    "combined_df['borough'].value_counts().groupby(level=0).head(1).plot(kind=\"barh\")"
   ]
  },
  {
   "cell_type": "markdown",
   "metadata": {},
   "source": [
    "## Φτιάξτε ένα γράφημα με τις top 5 ράτσες σε κάθε borough."
   ]
  },
  {
   "cell_type": "code",
   "execution_count": null,
   "metadata": {},
   "outputs": [],
   "source": [
    "combined_df.groupby('borough')[\"Primary Breed\"].value_counts().groupby(level=0).head(5).plot(kind='barh')"
   ]
  },
  {
   "cell_type": "markdown",
   "metadata": {},
   "source": [
    "## Τι ποσοστό των σκύλων δεν είναι φύλακες? "
   ]
  },
  {
   "cell_type": "code",
   "execution_count": null,
   "metadata": {},
   "outputs": [],
   "source": [
    "df['Guard or Trained'].value_counts(normalize=True)"
   ]
  }
 ],
 "metadata": {
  "kernelspec": {
   "display_name": "Python 3",
   "language": "python",
   "name": "python3"
  },
  "language_info": {
   "codemirror_mode": {
    "name": "ipython",
    "version": 3
   },
   "file_extension": ".py",
   "mimetype": "text/x-python",
   "name": "python",
   "nbconvert_exporter": "python",
   "pygments_lexer": "ipython3",
   "version": "3.9.2"
  }
 },
 "nbformat": 4,
 "nbformat_minor": 2
}
