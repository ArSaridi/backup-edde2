{
 "cells": [
  {
   "cell_type": "code",
   "execution_count": null,
   "metadata": {},
   "outputs": [],
   "source": []
  },
  {
   "cell_type": "markdown",
   "metadata": {
    "collapsed": true
   },
   "source": [
    "##  Εβδομάδα 1 - Εισαγωγή στην Python\n",
    "\n",
    "**Θεωρία**\n",
    "\n",
    "Η **Python** είναι γλώσσα προγραμματισμού υψηλού επιπέδου, ανοικτού πηγαίου κώδικα (open source) και γενικής χρήσης. Είναι\n",
    "εύκολη στην εκμάθηση (απλούστερη από τις C, C++, Java) και παρέχει ισχυρές δυνατότητες σε αρχάριους και έμπειρους προγραμματιστές.\n",
    "\n",
    "\n",
    "**Τιμές και τύποι**\n",
    "\n",
    "Η έννοια της τιμής αναφέρεται σε μεταβλητές αλλά και σε σταθερές τιμές. Επίσης, τιμές μπορεί να είναι οι αριθμοί αλλά και οι αριθμητικές εκφράσεις, όπως αν γράψετε 1+1. Ωστόσο, τιμή είναι και η έκφραση ‘hello world’. \n",
    "\n",
    "Κάθε τιμή ανήκει σε κάποιον τύπο (ακέραιοι αριθμοί, ομάδες χαρακτήρων ή strings, κλπ.). Η ομάδα χαρακτήρων είναι ένας από τους θεμελιώδεις τύπους της Python και σταθερές του τύπου ομάδα χαρακτήρων (ή συμβολοσειρά) τις οποίες περικλείουμε με εισαγωγικά (μονά (‘) ή διπλά (‘‘)) αρχής και τέλους. \n",
    "\n",
    "Η εντολή εκτύπωσης δουλεύει, βεβαίως, με ακέραιους αριθμούς και με πολλούς άλλους τύπους, όπως θα δούμε αργότερα.\n",
    "Με τον όρο κυριολεκτικές σταθερές (literal constants) αναφερόμαστε σε προκαθορισμένες τιμές που παραμένουν αμετάβλητες σε όλη τη διάρκεια εκτέλεσης ενός προγράμματος.\n",
    "\n",
    "Παραδείγματα τιμών:\n",
    "• 3,\n",
    "• 2.5,\n",
    "• ‘Hello, World!’\n",
    "\n",
    "Αυτές οι τιμές ανήκουν σε διαφορετικούς τύπους (types):\n",
    "\n",
    "• 3 είναι ένας ακέραιος αριθμός (integer).\n",
    "\n",
    "• 2.5 είναι ένας αριθμός κινητής υποδιαστολής (float).\n",
    "\n",
    "• ‘Hello, World!’ είναι μια συμβολοσειρά (string). Πρόκειται για μια ακολουθία από χαρακτήρες οι οποίοι περικλείονται σε μονά ή διπλά εισαγωγικά.\n",
    "\n",
    "• Εκτύπωση με χρήση της εντολής print."
   ]
  },
  {
   "cell_type": "code",
   "execution_count": 6,
   "metadata": {},
   "outputs": [
    {
     "data": {
      "text/plain": [
       "13399"
      ]
     },
     "execution_count": 6,
     "metadata": {},
     "output_type": "execute_result"
    }
   ],
   "source": [
    "a = 12344\n",
    "c = 55\n",
    "d = 1000\n",
    "a + c + d"
   ]
  },
  {
   "cell_type": "code",
   "execution_count": 3,
   "metadata": {},
   "outputs": [
    {
     "name": "stdout",
     "output_type": "stream",
     "text": [
      "Kostas Mourlas\n"
     ]
    }
   ],
   "source": [
    "b =\"Kostas Mourlas\"\n",
    "print(b)"
   ]
  },
  {
   "cell_type": "code",
   "execution_count": 12,
   "metadata": {},
   "outputs": [
    {
     "data": {
      "text/plain": [
       "'Costas Mourlas 1000'"
      ]
     },
     "execution_count": 12,
     "metadata": {},
     "output_type": "execute_result"
    }
   ],
   "source": [
    "a = 17\n",
    "a = \"Costas\"\n",
    "b = \"Mourlas\"\n",
    "a + \" \" + b + \" \" + str(d)"
   ]
  },
  {
   "cell_type": "markdown",
   "metadata": {},
   "source": [
    "Τύπος `int`  ακέραιοι αριθμοί\n",
    "\n",
    "Τύπος `float`  αριθμοί κινητής υποδιαστολής (δεκαδικοί αριθμοί)\n",
    "\n",
    "Τύπος `str`  συμβολοσειρές (ακολουθίες χαρακτήρων)"
   ]
  },
  {
   "cell_type": "code",
   "execution_count": 13,
   "metadata": {},
   "outputs": [
    {
     "name": "stdout",
     "output_type": "stream",
     "text": [
      "33\n",
      "33\n",
      "137\n",
      "0.75\n"
     ]
    }
   ],
   "source": [
    "# Συμβολοσειρές'str' \n",
    "print (str(3) + \"3\")\n",
    "# Μετατρέψτε το 3 σε STRING\n",
    "print (\"3\" + \"3\")\n",
    "# Μετατρέψτε το 3 σε INTEGER\n",
    "print(int(\"134\") + 3)\n",
    "print(3/4)"
   ]
  },
  {
   "cell_type": "code",
   "execution_count": 102,
   "metadata": {},
   "outputs": [
    {
     "data": {
      "text/plain": [
       "1313233"
      ]
     },
     "execution_count": 102,
     "metadata": {},
     "output_type": "execute_result"
    }
   ],
   "source": [
    "v =\"1313233\"\n",
    "int(v)"
   ]
  },
  {
   "cell_type": "markdown",
   "metadata": {},
   "source": [
    "## Μεταβλητές"
   ]
  },
  {
   "cell_type": "markdown",
   "metadata": {},
   "source": [
    "Τώρα, λοιπόν, γνωρίζουμε ότι έχουμε σταθερές τιμές, αλλά έχουμε και μεταβλητές\n",
    "τιμές. Από τα πιο δυνατά χαρακτηριστικά μιας γλώσσας προγραμματισμού είναι\n",
    "η δυνατότητα διαχείρισης μεταβλητών. Η **μεταβλητή (variable)** είναι ένα όνομα\n",
    "που αναφέρεται σε μια τιμή."
   ]
  },
  {
   "cell_type": "markdown",
   "metadata": {},
   "source": [
    "Τα ονόματα μεταβλητών μπορούν να περιέχουν αριθμούς και γράμματα, αλλά\n",
    "πρέπει να ξεκινούν με ένα γράμμα.\n",
    "\n",
    "Τα πεζά διακρίνονται από τα κεφαλαία:\n",
    "    \n",
    "• **Course** και **course** είναι διαφορετικές μεταβλητές.\n",
    "\n",
    "• **myname** και **myName** είναι διαφορετικές μεταβλητές."
   ]
  },
  {
   "cell_type": "code",
   "execution_count": 16,
   "metadata": {},
   "outputs": [
    {
     "name": "stdout",
     "output_type": "stream",
     "text": [
      "Hello  Helen !!!\n"
     ]
    }
   ],
   "source": [
    "name= \"Helen\" \n",
    "print ('Hello ', name, \"!!!\")"
   ]
  },
  {
   "cell_type": "code",
   "execution_count": null,
   "metadata": {},
   "outputs": [],
   "source": [
    "age= input(\"Πόσο χρονών είσαι?\")\n",
    "print(5*age)\n",
    "hlikia = int(age)\n",
    "print(hlikia)\n",
    "print(2*hlikia)"
   ]
  },
  {
   "cell_type": "markdown",
   "metadata": {},
   "source": [
    "Ως εδώ κάτι έχω καταλάβει....."
   ]
  },
  {
   "cell_type": "code",
   "execution_count": 20,
   "metadata": {},
   "outputs": [
    {
     "name": "stdout",
     "output_type": "stream",
     "text": [
      "Hello world\n",
      "Hello world\n",
      "4\n",
      "Hello world\n"
     ]
    }
   ],
   "source": [
    "age =55\n",
    "print('Hello world')\n",
    "print (\"Hello world\")\n",
    "print (2+2)\n",
    "print('Hello world')"
   ]
  },
  {
   "cell_type": "code",
   "execution_count": 21,
   "metadata": {},
   "outputs": [
    {
     "name": "stdout",
     "output_type": "stream",
     "text": [
      "age 55\n",
      "205\n",
      "200 Helen Γεια σου\n"
     ]
    }
   ],
   "source": [
    "print(\"age\", age)\n",
    "arithos  = 5\n",
    "A = 200\n",
    "print(arithos +A)\n",
    "print(A,name,\"Γεια σου\")"
   ]
  },
  {
   "cell_type": "markdown",
   "metadata": {},
   "source": [
    "## Πολλαπλές εκχωρήσεις\n",
    "Όπως ίσως θα έχετε διαπιστώσει, είναι νόμιμο να γίνουν παραπάνω από μία εκχωρήσεις σε μια μεταβλητή. \n",
    "\n",
    "Μια νέα εκχώρηση κάνει μια μεταβλητή να αναφέρεται σε μία **νέα τιμή** και να σταματήσει να αναφέρεται στην παλιά τιμή"
   ]
  },
  {
   "cell_type": "code",
   "execution_count": 22,
   "metadata": {},
   "outputs": [
    {
     "name": "stdout",
     "output_type": "stream",
     "text": [
      "1\n"
     ]
    }
   ],
   "source": [
    "value = 1\n",
    "print(value)"
   ]
  },
  {
   "cell_type": "code",
   "execution_count": 23,
   "metadata": {},
   "outputs": [
    {
     "name": "stdout",
     "output_type": "stream",
     "text": [
      "2\n"
     ]
    }
   ],
   "source": [
    "value = 2\n",
    "print(value)"
   ]
  },
  {
   "cell_type": "markdown",
   "metadata": {},
   "source": [
    "## Υπό συνθήκη (Conditional)"
   ]
  },
  {
   "cell_type": "markdown",
   "metadata": {},
   "source": [
    "## Εντολές\n",
    "\n",
    "Έχουμε δει, ήδη, δύο είδη εντολών: print (εκτύπωση) και assignment (εκχώρηση).\n",
    "\n",
    "Οι εντολές γενικότερα εκτελούνται από το διερμηνευτή της Python. Όταν γράφετε μια εντολή στη γραμμή εντολών (command line), ο διερμηνευτής την εκτελεί και δείχνει στην οθόνη το αποτέλεσμα, αν η εντολή είναι εντολή εξόδου. Στην περίπτωση του print είναι, ενώ στην περίπτωση της εκχώρησης δεν είναι. Ένα πρόγραμμα ή ένα σενάριο (script) όπως ονομάζεται στην Python, συνήθως περιέχει\n",
    "περισσότερες της μίας εντολές. "
   ]
  },
  {
   "cell_type": "code",
   "execution_count": 40,
   "metadata": {},
   "outputs": [
    {
     "name": "stdout",
     "output_type": "stream",
     "text": [
      "Απαγορεύεται να αγοράσεις αλκοόλ\n",
      "Συγγνώμη\n"
     ]
    }
   ],
   "source": [
    "#Αν η μεταβλητή'age' είναι μικρότερη του 18,\n",
    "#τότε τύπωσε αυτό που πρέπει \n",
    "# Να προσέχω να βάζω : στο τέλος κάθε εντολής if\n",
    "\n",
    "if (hlikia < 18):\n",
    "    print(\"Απαγορεύεται να αγοράσεις αλκοόλ\")\n",
    "    print(\"Συγγνώμη\")\n",
    "else:\n",
    "    print (\"Αγόρασε σε παρακαλώ 20 μπύρες\")\n",
    "    print ( \"Θα σε πληρώσω αργότερα\")\n",
    "    print(\"Ας κάνουμε ένα πάρτυ!\")"
   ]
  },
  {
   "cell_type": "markdown",
   "metadata": {},
   "source": [
    "Στο παρακάτω παράδειγμα στο οποίο ελέγχουμε για ισότητα της μεταβλητής x με το 2 (η σύγκριση για ισότητα εκφράζεται με δύο ίσον (==)\n",
    "σε αντίθεση με την εκχώρηση (=)). \n",
    "\n",
    "Αν το 3 είναι ίσον με το 2, ακολουθεί η άνω-κάτω-τελεία (:), που σημαίνει ότι τελείωσε το κομμάτι της συνθήκης και τώρα πάμε να εκτελέσουμε αν ισχύει η συνθήκη. \n",
    "\n",
    "Αν το 3 ήταν ίσο με 2, που δεν είναι, τότε θα εκτυπώναμε την τιμή του x, διαφορετικά (κάτι που ισχύει εδώ) το x παίρνει την τιμή 3 και μετά τυπώνουμε το x."
   ]
  },
  {
   "cell_type": "code",
   "execution_count": 45,
   "metadata": {},
   "outputs": [
    {
     "name": "stdout",
     "output_type": "stream",
     "text": [
      "To x δεν είναι 3\n"
     ]
    }
   ],
   "source": [
    "x = 4\n",
    "\n",
    "if x == 3:\n",
    "    print(x)\n",
    "else:\n",
    "    print(\"To x δεν είναι 3\")\n",
    "    x = 3\n",
    "    \n",
    "#print(x)"
   ]
  },
  {
   "cell_type": "code",
   "execution_count": 46,
   "metadata": {},
   "outputs": [
    {
     "data": {
      "text/plain": [
       "3"
      ]
     },
     "execution_count": 46,
     "metadata": {},
     "output_type": "execute_result"
    }
   ],
   "source": [
    "x"
   ]
  },
  {
   "cell_type": "markdown",
   "metadata": {},
   "source": [
    "## Λάθη\n",
    "\n",
    "Αν κάνουμε κάποιο συντακτικό λάθος (π.χ. παραλείψουμε το :) η λειτουργία check module («έλεγξε το πρόγραμμα») θα μας πει ότι δεν είναι σωστή η σύνταξη και θα κοκκινίσει το μέρος όπου βλέπει κάποιο λάθος. \n",
    "Έτσι θα το διορθώσουμε, θα το ξανατρέξουμε και εφόσον δεν υπάρχει συντακτικό λάθος στο πρόγραμμα,θα τυπώσει 3, όπως αναμένουμε.\n",
    "\n",
    "\n",
    "Αν υποθέσουμε ότι για κάποιο λόγο είχαμε βάλει print y, το οποίο δεν είναι ορισμένο, αυτό δεν είναι συντακτικό λάθος.\n",
    "\n"
   ]
  },
  {
   "cell_type": "code",
   "execution_count": 48,
   "metadata": {},
   "outputs": [
    {
     "name": "stdout",
     "output_type": "stream",
     "text": [
      "3\n"
     ]
    }
   ],
   "source": [
    "x = 3\n",
    "y = 0\n",
    "if y == 3:\n",
    "    print(y)\n",
    "else:\n",
    "    y = 3\n",
    "    \n",
    "print(y)"
   ]
  },
  {
   "cell_type": "markdown",
   "metadata": {},
   "source": [
    "Οι μεταβλητές δηλώνονται την πρώτη φορά που τις χρησιμοποιούμε. Αλλά αν προσπαθήσουμε να το τρέξουμε, τότε βλέπετε ότι έχουμε το λεγόμενο run time error, λάθος κατά το χρόνο εκτέλεσης γιατί, προφανώς, δεν ήταν ορισμένο, επομένως δεν μπορεί να τυπωθεί κάτι, αφού δεν ξέρει την τιμή.\n",
    "\n",
    "Είδαμε, λοιπόν, δύο διαφορετικές πολύ μεγάλες κατηγορίες λαθών, τα πρώτα, σχετικά πιο εύκολα, τα λεγόμενα συντακτικά λάθη, δηλαδή, στη σύνταξη της γλώσσας και τα άλλα πιο δύσκολα να αντιληφθεί κανείς, τα λεγόμενα λάθη εκτέλεσης, run time error. \n",
    "\n",
    "Είναι πολύ σημαντικό να γίνει κατανοητή αυτή η σημαντική διαφορά μεταξύ αυτών των δύο κατηγοριών λαθών."
   ]
  },
  {
   "cell_type": "markdown",
   "metadata": {},
   "source": [
    "## Συμβολοσειρές, λίστες, λεξικά, μέθοδοι\n",
    "\n",
    "**Θεωρία**\n",
    "\n",
    "Σήμερα θα δούμε επίσης, τις βασικές δομές δεδομένων, όπως οι συμβολοσειρές (strings), οι λίστες (lists), οι πλειάδες (tuples)\n",
    "και τα λεξικά (dictionaries), καθώς και της διαχείρισής τους."
   ]
  },
  {
   "cell_type": "markdown",
   "metadata": {},
   "source": [
    "**Συμβολοσειρές**\n",
    "\n",
    "\n",
    "Μια συμβολοσειρά είναι μια ακολουθία από χαρακτήρες. Οι συμβολοσειρές ανήκουν στον τύπο δεδομένων `str`. Μπορείτε να ορίσετε συμβολοσειρές με μονά (‘) ή διπλά (‘‘) εισαγωγικά:"
   ]
  },
  {
   "cell_type": "code",
   "execution_count": 49,
   "metadata": {},
   "outputs": [
    {
     "data": {
      "text/plain": [
       "'Vasilis'"
      ]
     },
     "execution_count": 49,
     "metadata": {},
     "output_type": "execute_result"
    }
   ],
   "source": [
    "name = 'Vasilis'\n",
    "name"
   ]
  },
  {
   "cell_type": "code",
   "execution_count": 50,
   "metadata": {},
   "outputs": [
    {
     "data": {
      "text/plain": [
       "'Vasilis'"
      ]
     },
     "execution_count": 50,
     "metadata": {},
     "output_type": "execute_result"
    }
   ],
   "source": [
    "name = \"Vasilis\"\n",
    "name"
   ]
  },
  {
   "cell_type": "markdown",
   "metadata": {},
   "source": [
    "Τα μονά εισαγωγικά (‘) μπορείτε να τα χρησιμοποιείτε ελεύθερα μέσα σε διπλά εισαγωγικά (‘‘)"
   ]
  },
  {
   "cell_type": "code",
   "execution_count": 22,
   "metadata": {},
   "outputs": [
    {
     "name": "stdout",
     "output_type": "stream",
     "text": [
      "Let's party!\n"
     ]
    }
   ],
   "source": [
    "print(\"Let's party!\")"
   ]
  },
  {
   "cell_type": "code",
   "execution_count": 51,
   "metadata": {},
   "outputs": [
    {
     "name": "stdout",
     "output_type": "stream",
     "text": [
      "Μπορείτε να ορίσετε συμβολοσειρές πολλαπλών γραμμών με τριπλά εισαγωγικά (τρία διπλά ‘‘‘‘‘‘ ή τρία μονά ‘‘‘).  \n",
      "Βλέπετε ότι με τα τριπλά εισαγωγικά μπορούμε να αλλάξουμε και γραμμή, \n",
      "χωρίς να χρειάζεται να βάλουμε την ακολουθία διαφυγής\n"
     ]
    }
   ],
   "source": [
    "c = '''Μπορείτε να ορίσετε συμβολοσειρές πολλαπλών γραμμών με τριπλά εισαγωγικά (τρία διπλά ‘‘‘‘‘‘ ή τρία μονά ‘‘‘).  \n",
    "Βλέπετε ότι με τα τριπλά εισαγωγικά μπορούμε να αλλάξουμε και γραμμή, \n",
    "χωρίς να χρειάζεται να βάλουμε την ακολουθία διαφυγής'''\n",
    "\n",
    "print(c)"
   ]
  },
  {
   "cell_type": "markdown",
   "metadata": {},
   "source": [
    "## Λίστες\n",
    "\n",
    "Η λίστα είναι ο δεύτερος σύνθετος τύπος (μετά τις συμβολοσειρές) στον οποίο αναφερόμαστε στην Python. Οι λίστες (`lists`), δηλώνουν πράγματα καθώς και διατεταγμένα σύνολα τιμών. Οι τιμές (μέλη μιας λίστας) λέγονται στοιχεία (`elements`).\n",
    "\n",
    "Ο όρος «διατεταγμένα» σημαίνει ότι μπορούμε να ορίσουμε ότι αυτό είναι το πρώτο, αυτό είναι δεύτερο, αυτό τρίτο κλπ. Οι λίστες είναι παρόμοιες με τις συμβολοσειρές, οι οποίες είναι διατεταγμένα σύνολα χαρακτήρων, ωστόσο τα στοιχεία μιας λίστας μπορεί να είναι οποιουδήποτε τύπου. \n",
    "\n",
    "Μπορεί να είναι νούμερα, ακέραιοι, πραγματικοί, μπορεί να είναι άλλες λίστες. Μπορεί να περιέχουν στοιχεία οποιουδήποτε τύπου της Python και όλα αυτά να τα βάζουμε μαζί γιατί πιστεύουμε ότι πρέπει να είναι μαζί. "
   ]
  },
  {
   "cell_type": "markdown",
   "metadata": {},
   "source": [
    "Ο απλούστερος τρόπος να δημιουργήσει κανείς μια λίστα, είναι να βάλει τα στοιχεία της μέσα σε [ ]. "
   ]
  },
  {
   "cell_type": "code",
   "execution_count": 53,
   "metadata": {},
   "outputs": [],
   "source": [
    "L = [\"Dimitris\", \"Sotiris\", \"Katerina\", \"Christos\", \"Eleni\"]"
   ]
  },
  {
   "cell_type": "code",
   "execution_count": 68,
   "metadata": {},
   "outputs": [],
   "source": [
    "grades = [5, 6,7,8,3]"
   ]
  },
  {
   "cell_type": "code",
   "execution_count": 69,
   "metadata": {},
   "outputs": [
    {
     "name": "stdout",
     "output_type": "stream",
     "text": [
      "Dimitris\n",
      "Sotiris\n",
      "Katerina\n",
      "Christos\n",
      "Eleni\n",
      "5\n",
      "6\n",
      "7\n",
      "8\n",
      "3\n"
     ]
    }
   ],
   "source": [
    "for name in L:\n",
    "    print(name)\n",
    "\n",
    "for grade in grades:\n",
    "    print(grade)"
   ]
  },
  {
   "cell_type": "code",
   "execution_count": 93,
   "metadata": {},
   "outputs": [
    {
     "name": "stdout",
     "output_type": "stream",
     "text": [
      "O  Dimitris  πήρε βαθμό:  5\n",
      "O  Sotiris  πήρε βαθμό:  6\n",
      "H  Katerina  πήρε βαθμό:  7\n",
      "O  Christos  πήρε βαθμό:  8\n",
      "H  Eleni  πήρε βαθμό:  3\n"
     ]
    }
   ],
   "source": [
    "suffix =\"s\"\n",
    "for i in range(0,5):\n",
    "    if (L[i].endswith(suffix)):\n",
    "        print(\"O \", L[i], \" πήρε βαθμό: \", grades[i])\n",
    "    else:\n",
    "        print(\"H \", L[i], \" πήρε βαθμό: \", grades[i])\n",
    "        "
   ]
  },
  {
   "cell_type": "code",
   "execution_count": 83,
   "metadata": {},
   "outputs": [
    {
     "data": {
      "text/plain": [
       "True"
      ]
     },
     "execution_count": 83,
     "metadata": {},
     "output_type": "execute_result"
    }
   ],
   "source": [
    "\n",
    "x = \"Sotiris\"\n",
    "x[-1:] == 's'"
   ]
  },
  {
   "cell_type": "code",
   "execution_count": 55,
   "metadata": {},
   "outputs": [
    {
     "data": {
      "text/plain": [
       "'Dimitris'"
      ]
     },
     "execution_count": 55,
     "metadata": {},
     "output_type": "execute_result"
    }
   ],
   "source": [
    "L[0]"
   ]
  },
  {
   "cell_type": "code",
   "execution_count": 56,
   "metadata": {},
   "outputs": [
    {
     "name": "stdout",
     "output_type": "stream",
     "text": [
      "Dimitris\n"
     ]
    }
   ],
   "source": [
    "print(L[0])"
   ]
  },
  {
   "cell_type": "code",
   "execution_count": 57,
   "metadata": {},
   "outputs": [
    {
     "name": "stdout",
     "output_type": "stream",
     "text": [
      "Sotiris\n"
     ]
    }
   ],
   "source": [
    "print(L[1])"
   ]
  },
  {
   "cell_type": "code",
   "execution_count": 58,
   "metadata": {},
   "outputs": [
    {
     "name": "stdout",
     "output_type": "stream",
     "text": [
      "Katerina\n"
     ]
    }
   ],
   "source": [
    "print(L[2])"
   ]
  },
  {
   "cell_type": "markdown",
   "metadata": {},
   "source": [
    "## Λειτουργίες & Μέθοδοι"
   ]
  },
  {
   "cell_type": "markdown",
   "metadata": {},
   "source": [
    "## Μήκος λίστας\n",
    "Όπως είχαμε δει και με τις συμβολοσειρές, έτσι και στις λίστες έχουμε μια συνάρτηση len, η οποία επιστρέφει το μήκος μιας λίστας. "
   ]
  },
  {
   "cell_type": "code",
   "execution_count": 59,
   "metadata": {},
   "outputs": [],
   "source": [
    "M = [1,3,4,5,5,6,6,6,77,87,8,88,8,8,88,8,8,8,8,88,8]"
   ]
  },
  {
   "cell_type": "code",
   "execution_count": 60,
   "metadata": {},
   "outputs": [
    {
     "data": {
      "text/plain": [
       "21"
      ]
     },
     "execution_count": 60,
     "metadata": {},
     "output_type": "execute_result"
    }
   ],
   "source": [
    "len(M)"
   ]
  },
  {
   "cell_type": "code",
   "execution_count": 61,
   "metadata": {},
   "outputs": [
    {
     "data": {
      "text/plain": [
       "528"
      ]
     },
     "execution_count": 61,
     "metadata": {},
     "output_type": "execute_result"
    }
   ],
   "source": [
    "sum(M)"
   ]
  },
  {
   "cell_type": "markdown",
   "metadata": {},
   "source": [
    "**Φέτες από λίστες**\n",
    "\n",
    "Όπως και στις συμβολοσειρές, ο τελεστής φέτας (`slice`) δουλεύει επίσης και με τις λίστες. "
   ]
  },
  {
   "cell_type": "code",
   "execution_count": 65,
   "metadata": {},
   "outputs": [
    {
     "data": {
      "text/plain": [
       "[4, 5, 5]"
      ]
     },
     "execution_count": 65,
     "metadata": {},
     "output_type": "execute_result"
    }
   ],
   "source": [
    "M[2:5]"
   ]
  },
  {
   "cell_type": "markdown",
   "metadata": {},
   "source": [
    "**Έλεγχος του “ανήκειν”**\n",
    "\n",
    "Ο `in` είναι λογικός τελεστής ο οποίος ελέγχει αν μια τιμή ανήκει σε μια λίστα (επιστρέφοντας true ή false) και δουλεύει όπως και στις συμβολοσειρές. \n",
    "Μπορούμε, επίσης, να χρησιμοποιήσουμε την έκφραση `not in`. "
   ]
  },
  {
   "cell_type": "code",
   "execution_count": null,
   "metadata": {},
   "outputs": [],
   "source": [
    "for patates in L: \n",
    "    print(patates) \n",
    "\n",
    "\n",
    "\n",
    "len(L)"
   ]
  },
  {
   "cell_type": "markdown",
   "metadata": {},
   "source": [
    "Η συνάρτηση `range` έχει ως ορίσματα δύο ακεραίους και επιστρέφει την ακολουθία των ακέραιων αριθμών στο διάστημα από το πρώτο έως \n",
    "το δεύτερό της όρισμα, συμπεριλαμβάνοντας το πρώτο όρισμα, αλλά αποκλείοντας το δεύτερο. "
   ]
  },
  {
   "cell_type": "code",
   "execution_count": null,
   "metadata": {},
   "outputs": [],
   "source": [
    "for ntomates in range(0,len(L)):\n",
    "     print(ntomates, L[ntomates].upper())"
   ]
  },
  {
   "cell_type": "markdown",
   "metadata": {},
   "source": [
    "**Κεφαλαία**"
   ]
  },
  {
   "cell_type": "markdown",
   "metadata": {},
   "source": [
    "Μέθοδος για κεφαλαία συμβολοσειρά"
   ]
  },
  {
   "cell_type": "code",
   "execution_count": null,
   "metadata": {},
   "outputs": [],
   "source": [
    "\"Γεια σου\".upper()"
   ]
  },
  {
   "cell_type": "markdown",
   "metadata": {},
   "source": [
    "Λειτουργία για να βρούμε τον αριθμό των χαρακτήρων σε μια συμβολοσειρά"
   ]
  },
  {
   "cell_type": "code",
   "execution_count": null,
   "metadata": {},
   "outputs": [],
   "source": [
    "len(\"καλημέρα\") "
   ]
  },
  {
   "cell_type": "markdown",
   "metadata": {},
   "source": [
    "Λειτουργία για να ιεραρχήσουμε μια λίστα με αριθμούς "
   ]
  },
  {
   "cell_type": "code",
   "execution_count": 103,
   "metadata": {},
   "outputs": [
    {
     "data": {
      "text/plain": [
       "[0, 1, 2, 3, 4, 5]"
      ]
     },
     "execution_count": 103,
     "metadata": {},
     "output_type": "execute_result"
    }
   ],
   "source": [
    "sorted([0, 5, 4, 2, 3, 1]) "
   ]
  },
  {
   "cell_type": "code",
   "execution_count": 104,
   "metadata": {},
   "outputs": [
    {
     "data": {
      "text/plain": [
       "['Dimitris', 'Giannis', 'Kostas', 'Paris']"
      ]
     },
     "execution_count": 104,
     "metadata": {},
     "output_type": "execute_result"
    }
   ],
   "source": [
    "M = [\"Giannis\", \"Kostas\", \"Dimitris\", \"Paris\"]\n",
    "sorted(M)"
   ]
  },
  {
   "cell_type": "markdown",
   "metadata": {},
   "source": [
    "Μέθοδος για αντικατάσταση κειμένου με κείμενο "
   ]
  },
  {
   "cell_type": "code",
   "execution_count": 105,
   "metadata": {},
   "outputs": [
    {
     "data": {
      "text/plain": [
       "'_3_3_3'"
      ]
     },
     "execution_count": 105,
     "metadata": {},
     "output_type": "execute_result"
    }
   ],
   "source": [
    "\"123123123\".replace(\"12\", \"_\") "
   ]
  },
  {
   "cell_type": "code",
   "execution_count": 106,
   "metadata": {},
   "outputs": [
    {
     "data": {
      "text/plain": [
       "'Mirii'"
      ]
     },
     "execution_count": 106,
     "metadata": {},
     "output_type": "execute_result"
    }
   ],
   "source": [
    "\"Maria\".replace(\"a\",\"i\")"
   ]
  },
  {
   "cell_type": "markdown",
   "metadata": {
    "collapsed": true
   },
   "source": [
    "Οι λειτουργίες δίνουν αποτέλεσμα έξω από τις μεταβλητές, ενώ οι μέθοδοι επηρεάζουν τις ίδιες τις μεταβλητές.\n",
    "\n",
    "Μην ξεχνάτε το σύμβολο () γιατί διαφορετικά οι λειτουργίες και οι μέθοδοί σας δεν θα δουλέψουν."
   ]
  },
  {
   "cell_type": "markdown",
   "metadata": {},
   "source": [
    "# Λειτουργίες & Μέθοδοι για αριθμούς"
   ]
  },
  {
   "cell_type": "markdown",
   "metadata": {},
   "source": [
    "**Στρογγυλοποίηση δεκαδικών**"
   ]
  },
  {
   "cell_type": "code",
   "execution_count": 109,
   "metadata": {},
   "outputs": [
    {
     "name": "stdout",
     "output_type": "stream",
     "text": [
      "1\n",
      "24\n",
      "7\n"
     ]
    }
   ],
   "source": [
    "L = [1.34546, 23.5666, 6.566646]\n",
    "for number in L:\n",
    "     print(round(number))"
   ]
  },
  {
   "cell_type": "markdown",
   "metadata": {},
   "source": [
    "Στρογγυλοποίηση προς τα πάνω και προς τα κάτω.\n",
    "\n",
    "Απαιτούνται εξωτερικές βιβλιοθήκες - κώδικας που έγραψε κάποιος άλλος και που.\n",
    "\n",
    "δεν συμπεριλαμβάνεται αυτόματα στην Python."
   ]
  },
  {
   "cell_type": "code",
   "execution_count": 111,
   "metadata": {},
   "outputs": [
    {
     "name": "stdout",
     "output_type": "stream",
     "text": [
      "4\n",
      "3\n"
     ]
    }
   ],
   "source": [
    "import math\n",
    "print(math.ceil(3.14159))\n",
    "print(math.floor(3.14159))"
   ]
  },
  {
   "cell_type": "markdown",
   "metadata": {},
   "source": [
    "# Συναρτήσεις & Μέθοδοι για συμβολοσειρές"
   ]
  },
  {
   "cell_type": "markdown",
   "metadata": {},
   "source": [
    " Μάκρος συμβολοσειράς"
   ]
  },
  {
   "cell_type": "code",
   "execution_count": 112,
   "metadata": {},
   "outputs": [
    {
     "data": {
      "text/plain": [
       "10"
      ]
     },
     "execution_count": 112,
     "metadata": {},
     "output_type": "execute_result"
    }
   ],
   "source": [
    "len(\"yourstring\")"
   ]
  },
  {
   "cell_type": "code",
   "execution_count": 114,
   "metadata": {},
   "outputs": [
    {
     "data": {
      "text/plain": [
       "4"
      ]
     },
     "execution_count": 114,
     "metadata": {},
     "output_type": "execute_result"
    }
   ],
   "source": [
    "len(M)"
   ]
  },
  {
   "cell_type": "markdown",
   "metadata": {},
   "source": [
    "Αντικατάσταση περιεχομένου στη συμβολοσειρά"
   ]
  },
  {
   "cell_type": "code",
   "execution_count": 115,
   "metadata": {},
   "outputs": [
    {
     "data": {
      "text/plain": [
       "'mystring'"
      ]
     },
     "execution_count": 115,
     "metadata": {},
     "output_type": "execute_result"
    }
   ],
   "source": [
    "\"yourstring\".replace(\"your\", \"my\")"
   ]
  },
  {
   "cell_type": "markdown",
   "metadata": {},
   "source": [
    "Αλλαγή στους χαρακτήρες της συμβολοσειράς"
   ]
  },
  {
   "cell_type": "code",
   "execution_count": 117,
   "metadata": {},
   "outputs": [
    {
     "data": {
      "text/plain": [
       "'yOUR sTRING'"
      ]
     },
     "execution_count": 117,
     "metadata": {},
     "output_type": "execute_result"
    }
   ],
   "source": [
    "#\"Your String\".upper()\n",
    "#\"Your String\".lower()\n",
    "#\"Your String\".title()\n",
    "\"Your String\".swapcase()"
   ]
  },
  {
   "cell_type": "markdown",
   "metadata": {},
   "source": [
    "Μέτρηση του αριθμού κάποιυ χαρακτήρα ή χαρακτήρων εντός συμβολοσειράς"
   ]
  },
  {
   "cell_type": "code",
   "execution_count": 119,
   "metadata": {},
   "outputs": [
    {
     "data": {
      "text/plain": [
       "1"
      ]
     },
     "execution_count": 119,
     "metadata": {},
     "output_type": "execute_result"
    }
   ],
   "source": [
    "\"Your String\".count(\"ur\")"
   ]
  },
  {
   "cell_type": "markdown",
   "metadata": {},
   "source": [
    "Έλεγχος για το εάν η συμβολοσειρά τελειώνει με κάτι συγκεκριμένο"
   ]
  },
  {
   "cell_type": "code",
   "execution_count": 120,
   "metadata": {},
   "outputs": [
    {
     "data": {
      "text/plain": [
       "True"
      ]
     },
     "execution_count": 120,
     "metadata": {},
     "output_type": "execute_result"
    }
   ],
   "source": [
    "\"Your String\".endswith(\"ng\")"
   ]
  },
  {
   "cell_type": "markdown",
   "metadata": {},
   "source": [
    "Διαχωρισμός σε λίστα με βάση κάποιους χαρακτήρες "
   ]
  },
  {
   "cell_type": "code",
   "execution_count": 123,
   "metadata": {},
   "outputs": [
    {
     "data": {
      "text/plain": [
       "['MOURLAS', 'MEDIA', 'UOA', 'GR']"
      ]
     },
     "execution_count": 123,
     "metadata": {},
     "output_type": "execute_result"
    }
   ],
   "source": [
    "\"mourlas@media.uoa.gr\".replace(\"@\",'$').replace(\".\", \"$\").upper().split(\"$\")\n",
    "#\"Your String\".split(\" \")"
   ]
  },
  {
   "cell_type": "markdown",
   "metadata": {},
   "source": [
    "Ένωση λίστας μέσα σε συμβολοσειρά στη βάση κάποιων χαρακτήρων "
   ]
  },
  {
   "cell_type": "code",
   "execution_count": 128,
   "metadata": {},
   "outputs": [
    {
     "data": {
      "text/plain": [
       "'mourlas media uoa'"
      ]
     },
     "execution_count": 128,
     "metadata": {},
     "output_type": "execute_result"
    }
   ],
   "source": [
    "\" \".join([\"mourlas\", \"media\", \"uoa\"])\n",
    "#\"ou\".join([\"Your\", \"String\"])"
   ]
  },
  {
   "cell_type": "markdown",
   "metadata": {},
   "source": [
    "## <span style=\"color:red\">*Άσκηση 1*</span>\n",
    "\n",
    "<span style=\"color:red\">\n",
    "\n",
    "Αλλάξτε το όνομα του notebook βάζοντας το όνομά σας και homework-1-part1-lastname\n",
    "\n",
    "Ακριβώς κάτω από αυτό το κελί προσθέστε νέα κελιά στα οποία θα:\n",
    "\n",
    "Θα φτιάξετε μια λίστα με τους παρακάτω αριθμούς: 23, 91, 0, -11, 4, 23 και 49.\n",
    "Βρείτε τον αριθμό των αντικειμένων της λίστας.\n",
    "Βρείτε το 4ο στοιχείο της λίστας.\n",
    "Βρείτε το άθροισμα του 2ου και του 4ου στοιχείου της λίστας.\n",
    "Βρείτε το 2ο μεγαλύτερο στοιχείο της λίστας.\n",
    "Βρείτε το τελευταίο αντικείμενο της αρχικής λίστας (χωρίς σορτάρισμα).\n",
    "Για κάθε αριθμό να εμφανίσετε έναν αριθμό: αν ο αρχικός αριθμός είναι μεγαλύτερος του 10, πολλαπλασιάστε με το 30. Αν επίσης είναι ζυγός αριθμός, προσθέστε 6. Αν είναι μεγαλύτερος του 50, αφαιρέστε 10. Αν δεν είναι ίσος με -11, αφαιρέστε 1. (Για παράδειγμα το 12 είναι μεγαλύτερο του 10, άρα πολλαπλασιάζουμε 12 * 30 = 360, είναι επίσης ζυγός αριθμός, άρα 360 + 6 = 366, δεν είναι ίσο με -11, άρα 366-1=365.)\n",
    "\n",
    "Βρείτε το σύνολο των αριθμών δια δύο.\n",
    "</span>"
   ]
  },
  {
   "cell_type": "code",
   "execution_count": null,
   "metadata": {},
   "outputs": [],
   "source": []
  }
 ],
 "metadata": {
  "kernelspec": {
   "display_name": "Python 3",
   "language": "python",
   "name": "python3"
  },
  "language_info": {
   "codemirror_mode": {
    "name": "ipython",
    "version": 3
   },
   "file_extension": ".py",
   "mimetype": "text/x-python",
   "name": "python",
   "nbconvert_exporter": "python",
   "pygments_lexer": "ipython3",
   "version": "3.6.7"
  }
 },
 "nbformat": 4,
 "nbformat_minor": 2
}
