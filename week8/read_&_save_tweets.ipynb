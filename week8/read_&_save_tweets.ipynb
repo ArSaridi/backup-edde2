{
  "nbformat": 4,
  "nbformat_minor": 0,
  "metadata": {
    "kernelspec": {
      "display_name": "Python 3",
      "language": "python",
      "name": "python3"
    },
    "language_info": {
      "codemirror_mode": {
        "name": "ipython",
        "version": 3
      },
      "file_extension": ".py",
      "mimetype": "text/x-python",
      "name": "python",
      "nbconvert_exporter": "python",
      "pygments_lexer": "ipython3",
      "version": "3.6.7"
    },
    "colab": {
      "name": "read_&_save_tweets.ipynb",
      "provenance": [],
      "collapsed_sections": []
    }
  },
  "cells": [
    {
      "cell_type": "code",
      "metadata": {
        "id": "ikVfhVKibCtm"
      },
      "source": [
        "!pip install Twython\n",
        "import pandas as pd\n",
        "import numpy as np \n",
        "from twython import Twython\n",
        "\n",
        "CONSUMER_KEY = \" \"\n",
        "CONSUMER_SECRET = \" \"\n",
        "OAUTH_TOKEN = \" \"\n",
        "OAUTH_TOKEN_SECRET = \" \"\n",
        "twitter = Twython(\n",
        "    CONSUMER_KEY, CONSUMER_SECRET,\n",
        "    OAUTH_TOKEN, OAUTH_TOKEN_SECRET)\n"
      ],
      "execution_count": null,
      "outputs": []
    },
    {
      "cell_type": "code",
      "metadata": {
        "id": "jjIyJ9YTbCt8"
      },
      "source": [
        "tweetsL = []\n",
        "try:\n",
        "    user_timeline = twitter.get_user_timeline(screen_name='atsipras',count=100, tweet_mode = 'extended'  )\n",
        "except TwythonError as e:\n",
        "    print(\"Error getting tweets:\", e)\n",
        "print(\"I Got:\", len(user_timeline), \" tweets\")\n",
        "for tweet in user_timeline:\n",
        "    # Add whatever you want from the tweet, here we just add the text\n",
        "    tweetsL.append(tweet)"
      ],
      "execution_count": null,
      "outputs": []
    },
    {
      "cell_type": "code",
      "metadata": {
        "id": "z8RCZ93kbCuU"
      },
      "source": [
        ""
      ],
      "execution_count": null,
      "outputs": []
    },
    {
      "cell_type": "code",
      "metadata": {
        "id": "EIpvZpy9bCuf"
      },
      "source": [
        "# Count could be less than 200, see:\n",
        "# https://dev.twitter.com/discussions/7513\n",
        "while len(user_timeline) != 0: \n",
        "    try:\n",
        "        user_timeline = twitter.get_user_timeline(screen_name='atsipras',count=100,\n",
        "                                                  tweet_mode = 'extended', max_id=user_timeline[len(user_timeline)-1]['id']-1)\n",
        "    except TwythonError as e:\n",
        "        print(\"Error getting tweets:\", e)\n",
        "    if len(user_timeline) > 0:\n",
        "        print(\"I Got:\", len(user_timeline), \" tweets more... Last ID:\", user_timeline[len(user_timeline)-1]['id']-1)\n",
        "    for tweet in user_timeline:\n",
        "        # Add whatever you want from the tweet, here we just add the text\n",
        "        tweetsL.append(tweet)\n",
        "# Number of tweets the user has made\n",
        "print(\"I got :\", len(tweetsL), \" in total!!!\")"
      ],
      "execution_count": null,
      "outputs": []
    },
    {
      "cell_type": "code",
      "metadata": {
        "id": "sloqx7prbCuq"
      },
      "source": [
        "len(tweetsL)"
      ],
      "execution_count": null,
      "outputs": []
    },
    {
      "cell_type": "code",
      "metadata": {
        "id": "YtCAEsFFbCu1"
      },
      "source": [
        "for tweet in tweetsL:\n",
        "    print(tweet['created_at'],tweet['full_text'])"
      ],
      "execution_count": null,
      "outputs": []
    },
    {
      "cell_type": "code",
      "metadata": {
        "id": "QGZ9kzafbCvC"
      },
      "source": [
        "tweetsL[0]['full_text']"
      ],
      "execution_count": null,
      "outputs": []
    },
    {
      "cell_type": "code",
      "metadata": {
        "id": "pEQEu-WJbCvS"
      },
      "source": [
        ""
      ],
      "execution_count": null,
      "outputs": []
    },
    {
      "cell_type": "code",
      "metadata": {
        "id": "SYk2e5mGbCvY"
      },
      "source": [
        "tweetsL[0]"
      ],
      "execution_count": null,
      "outputs": []
    },
    {
      "cell_type": "code",
      "metadata": {
        "id": "_xiTgCEPbCvi"
      },
      "source": [
        "tweets_df = pd.DataFrame(tweetsL)"
      ],
      "execution_count": null,
      "outputs": []
    },
    {
      "cell_type": "code",
      "metadata": {
        "id": "76mC6zO1bCvq"
      },
      "source": [
        "tweets_df.head()"
      ],
      "execution_count": null,
      "outputs": []
    },
    {
      "cell_type": "code",
      "metadata": {
        "id": "hSU96Wl2bcN6"
      },
      "source": [
        "from google.colab import drive\n",
        "drive.mount('/content/gdrive')"
      ],
      "execution_count": null,
      "outputs": []
    },
    {
      "cell_type": "markdown",
      "metadata": {
        "id": "-0onwEifbCv1"
      },
      "source": [
        "Αποθήκευσε τα tweets σε ένα αρχείο που οι τιμές διαχωρίζονται με tabs"
      ]
    },
    {
      "cell_type": "code",
      "metadata": {
        "id": "Te6d8AoCbCv3"
      },
      "source": [
        "tweets_df.to_csv(\"/content/gdrive/My Drive/Colab Notebooks/TsiprasTweets090521.tsv\", sep='\\t')"
      ],
      "execution_count": null,
      "outputs": []
    },
    {
      "cell_type": "code",
      "metadata": {
        "id": "E33Bzr-ybCwO"
      },
      "source": [
        ""
      ],
      "execution_count": null,
      "outputs": []
    }
  ]
}