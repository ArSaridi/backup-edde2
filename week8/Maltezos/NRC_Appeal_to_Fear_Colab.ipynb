{
  "nbformat": 4,
  "nbformat_minor": 0,
  "metadata": {
    "kernelspec": {
      "display_name": "Python 3",
      "language": "python",
      "name": "python3"
    },
    "language_info": {
      "codemirror_mode": {
        "name": "ipython",
        "version": 3
      },
      "file_extension": ".py",
      "mimetype": "text/x-python",
      "name": "python",
      "nbconvert_exporter": "python",
      "pygments_lexer": "ipython3",
      "version": "3.7.3"
    },
    "colab": {
      "name": "NRC_Appeal to Fear_Colab.ipynb",
      "provenance": [],
      "collapsed_sections": []
    }
  },
  "cells": [
    {
      "cell_type": "code",
      "metadata": {
        "id": "rmAlk-laS1zK",
        "colab_type": "code",
        "outputId": "3e6f35d9-ca61-439a-db4f-77091cdf1d02",
        "colab": {
          "base_uri": "https://localhost:8080/",
          "height": 74
        }
      },
      "source": [
        "import pandas as pd\n",
        "import matplotlib.pyplot as plt\n",
        "import numpy as np\n",
        "import seaborn as sns\n",
        "\n",
        "%matplotlib inline\n",
        "\n",
        "from nltk.tokenize import sent_tokenize\n",
        "import re"
      ],
      "execution_count": 0,
      "outputs": [
        {
          "output_type": "stream",
          "text": [
            "/usr/local/lib/python3.6/dist-packages/statsmodels/tools/_testing.py:19: FutureWarning: pandas.util.testing is deprecated. Use the functions in the public API at pandas.testing instead.\n",
            "  import pandas.util.testing as tm\n"
          ],
          "name": "stderr"
        }
      ]
    },
    {
      "cell_type": "code",
      "metadata": {
        "id": "ehqsMzEgS1ze",
        "colab_type": "code",
        "colab": {}
      },
      "source": [
        "cnn_arg = pd.read_excel('https://github.com/datajour-gr/Data_journalism/blob/master/week8/Maltezos/cnn_arg_only_clean.xlsx?raw=true')\n",
        "cnn_conc = pd.read_excel('https://github.com/datajour-gr/Data_journalism/blob/master/week8/Maltezos/cnn_conclusion_only_clean.xlsx?raw=true')"
      ],
      "execution_count": 0,
      "outputs": []
    },
    {
      "cell_type": "code",
      "metadata": {
        "id": "QMXAA02fS1zu",
        "colab_type": "code",
        "colab": {}
      },
      "source": [
        "from ast import literal_eval\n",
        "\n",
        "cnn_arg.loc[:,'argum'] = cnn_arg.loc[:,'argum'].apply(lambda x: literal_eval(x))\n",
        "cnn_arg.loc[:,'polarity_argum'] = cnn_arg.loc[:,'polarity_argum'].apply(lambda x: literal_eval(x))\n",
        "cnn_arg.loc[:,'subjectivity_argum'] = cnn_arg.loc[:,'subjectivity_argum'].apply(lambda x: literal_eval(x))\n",
        "cnn_arg.loc[:,'argum_pos'] = cnn_arg.loc[:,'argum_pos'].apply(lambda x: literal_eval(x))\n",
        "cnn_arg.loc[:,'argum_neg'] = cnn_arg.loc[:,'argum_neg'].apply(lambda x: literal_eval(x))\n",
        "cnn_arg.loc[:,'argum_neu'] = cnn_arg.loc[:,'argum_neu'].apply(lambda x: literal_eval(x))\n",
        "cnn_arg.loc[:,'argum_compound'] = cnn_arg.loc[:,'argum_compound'].apply(lambda x: literal_eval(x))\n",
        "\n",
        "cnn_conc.loc[:,'conclusion'] = cnn_conc.loc[:,'conclusion'].apply(lambda x: literal_eval(x))\n",
        "cnn_conc.loc[:,'polarity_conclusion'] = cnn_conc.loc[:,'polarity_conclusion'].apply(lambda x: literal_eval(x))\n",
        "cnn_conc.loc[:,'subjectivity_conclusion'] = cnn_conc.loc[:,'subjectivity_conclusion'].apply(lambda x: literal_eval(x))\n",
        "cnn_conc.loc[:,'conclusion_pos'] = cnn_conc.loc[:,'conclusion_pos'].apply(lambda x: literal_eval(x))\n",
        "cnn_conc.loc[:,'conclusion_neg'] = cnn_conc.loc[:,'conclusion_neg'].apply(lambda x: literal_eval(x))\n",
        "cnn_conc.loc[:,'conclusion_neu'] = cnn_conc.loc[:,'conclusion_neu'].apply(lambda x: literal_eval(x))\n",
        "cnn_conc.loc[:,'conclusion_compound'] = cnn_conc.loc[:,'conclusion_compound'].apply(lambda x: literal_eval(x))"
      ],
      "execution_count": 0,
      "outputs": []
    },
    {
      "cell_type": "code",
      "metadata": {
        "id": "HCjeLo5cS1z4",
        "colab_type": "code",
        "outputId": "182b20d8-edf1-4ced-fec5-91b550da8974",
        "colab": {
          "base_uri": "https://localhost:8080/",
          "height": 213
        }
      },
      "source": [
        "cnn_arg.head(3)"
      ],
      "execution_count": 0,
      "outputs": [
        {
          "output_type": "execute_result",
          "data": {
            "text/html": [
              "<div>\n",
              "<style scoped>\n",
              "    .dataframe tbody tr th:only-of-type {\n",
              "        vertical-align: middle;\n",
              "    }\n",
              "\n",
              "    .dataframe tbody tr th {\n",
              "        vertical-align: top;\n",
              "    }\n",
              "\n",
              "    .dataframe thead th {\n",
              "        text-align: right;\n",
              "    }\n",
              "</style>\n",
              "<table border=\"1\" class=\"dataframe\">\n",
              "  <thead>\n",
              "    <tr style=\"text-align: right;\">\n",
              "      <th></th>\n",
              "      <th>argum_pos</th>\n",
              "      <th>argum_neg</th>\n",
              "      <th>argum_neu</th>\n",
              "      <th>argum_compound</th>\n",
              "      <th>polarity_argum</th>\n",
              "      <th>subjectivity_argum</th>\n",
              "      <th>text_id</th>\n",
              "      <th>argum</th>\n",
              "    </tr>\n",
              "  </thead>\n",
              "  <tbody>\n",
              "    <tr>\n",
              "      <th>0</th>\n",
              "      <td>[0.077]</td>\n",
              "      <td>[0.215]</td>\n",
              "      <td>[0.707]</td>\n",
              "      <td>[-0.5106]</td>\n",
              "      <td>[0.5]</td>\n",
              "      <td>[0.7]</td>\n",
              "      <td>4</td>\n",
              "      <td>[he said he is \"innocent of all charges and th...</td>\n",
              "    </tr>\n",
              "    <tr>\n",
              "      <th>1</th>\n",
              "      <td>[0.0]</td>\n",
              "      <td>[0.0]</td>\n",
              "      <td>[1.0]</td>\n",
              "      <td>[0.0]</td>\n",
              "      <td>[0.0]</td>\n",
              "      <td>[0.0]</td>\n",
              "      <td>7</td>\n",
              "      <td>[so in 1997, gebre returned to ethiopia with a...</td>\n",
              "    </tr>\n",
              "    <tr>\n",
              "      <th>2</th>\n",
              "      <td>[0.0]</td>\n",
              "      <td>[0.045]</td>\n",
              "      <td>[0.955]</td>\n",
              "      <td>[-0.2411]</td>\n",
              "      <td>[0.5]</td>\n",
              "      <td>[0.5]</td>\n",
              "      <td>9</td>\n",
              "      <td>['a full-blown dictatorship'  dss officials sa...</td>\n",
              "    </tr>\n",
              "  </tbody>\n",
              "</table>\n",
              "</div>"
            ],
            "text/plain": [
              "  argum_pos  ...                                              argum\n",
              "0   [0.077]  ...  [he said he is \"innocent of all charges and th...\n",
              "1     [0.0]  ...  [so in 1997, gebre returned to ethiopia with a...\n",
              "2     [0.0]  ...  ['a full-blown dictatorship'  dss officials sa...\n",
              "\n",
              "[3 rows x 8 columns]"
            ]
          },
          "metadata": {
            "tags": []
          },
          "execution_count": 5
        }
      ]
    },
    {
      "cell_type": "code",
      "metadata": {
        "id": "cIa6kQffS10E",
        "colab_type": "code",
        "outputId": "17808fab-121d-445d-a40b-8c82b5c4c7dd",
        "colab": {
          "base_uri": "https://localhost:8080/",
          "height": 240
        }
      },
      "source": [
        "cnn_arg['argum'].iloc[5]"
      ],
      "execution_count": 0,
      "outputs": [
        {
          "output_type": "execute_result",
          "data": {
            "text/plain": [
              "['after the story broke in the media, osagie faced a university panel investigating the allegations on the tape and is awaiting its findings so she can receive her certificate.',\n",
              " 'student speaks out  in her only interview since the audio was leaked online, osagie, 23, told cnn she had developed a mentor-mentee relationship with the professor after she helped him edit his book.',\n",
              " \"her lawyer, abiola akiyode-afolabi, told cnn more victims have contacted her with allegations about the same professor since hearing about osagie's case.\",\n",
              " '— remi sonaiya (@oluremisonaiya) april 9, 2018  the practice thrives because students do not come forward with these allegations and also because they do not trust their institutions to handle such matters with discretion, she added.',\n",
              " 'but the relationship soon made her uncomfortable because he started to make sexual advances towards her, she said.',\n",
              " '\"this is because of the caliber of the lecturer involved,\" he added.',\n",
              " 'so, i decided to record our next conversation,\" she added.',\n",
              " \"faced with this stark choice, osagie says she knew no one would believe her word against the lecturer's, so she recorded one of their conversations using a cell phone app.\",\n",
              " \"hashtag campaign reflects outrage  since osagie's recording went viral, many nigerians have led calls for universities to do more to protect students from sexual harassment.\",\n",
              " 'osagie believes he deliberately gave her low marks so she would agree to sleep with him to raise them, she said.',\n",
              " 'backlash on social media  osagie says she has faced severe backlash since the university made her identity public when it released a statement.']"
            ]
          },
          "metadata": {
            "tags": []
          },
          "execution_count": 6
        }
      ]
    },
    {
      "cell_type": "code",
      "metadata": {
        "id": "rL_uA_tuS10P",
        "colab_type": "code",
        "outputId": "e7eecdf9-315f-4971-ab67-27d993d7cf00",
        "colab": {
          "base_uri": "https://localhost:8080/",
          "height": 206
        }
      },
      "source": [
        "filepath = \"https://github.com/datajour-gr/Data_journalism/blob/master/week8/Maltezos/NRC-emotion-lexicon-wordlevel-alphabetized-v0.92.txt?raw=true\"\n",
        "emolex_df = pd.read_csv(filepath,  names=[\"word\", \"emotion\", \"association\"], skiprows=45, sep='\\t')\n",
        "emolex_df = emolex_df.pivot(index='word', columns='emotion', values='association').reset_index()\n",
        "emolex_df.head()"
      ],
      "execution_count": 0,
      "outputs": [
        {
          "output_type": "execute_result",
          "data": {
            "text/html": [
              "<div>\n",
              "<style scoped>\n",
              "    .dataframe tbody tr th:only-of-type {\n",
              "        vertical-align: middle;\n",
              "    }\n",
              "\n",
              "    .dataframe tbody tr th {\n",
              "        vertical-align: top;\n",
              "    }\n",
              "\n",
              "    .dataframe thead th {\n",
              "        text-align: right;\n",
              "    }\n",
              "</style>\n",
              "<table border=\"1\" class=\"dataframe\">\n",
              "  <thead>\n",
              "    <tr style=\"text-align: right;\">\n",
              "      <th>emotion</th>\n",
              "      <th>word</th>\n",
              "      <th>anger</th>\n",
              "      <th>anticipation</th>\n",
              "      <th>disgust</th>\n",
              "      <th>fear</th>\n",
              "      <th>joy</th>\n",
              "      <th>negative</th>\n",
              "      <th>positive</th>\n",
              "      <th>sadness</th>\n",
              "      <th>surprise</th>\n",
              "      <th>trust</th>\n",
              "    </tr>\n",
              "  </thead>\n",
              "  <tbody>\n",
              "    <tr>\n",
              "      <th>0</th>\n",
              "      <td>NaN</td>\n",
              "      <td>0</td>\n",
              "      <td>0</td>\n",
              "      <td>0</td>\n",
              "      <td>0</td>\n",
              "      <td>0</td>\n",
              "      <td>0</td>\n",
              "      <td>0</td>\n",
              "      <td>0</td>\n",
              "      <td>0</td>\n",
              "      <td>0</td>\n",
              "    </tr>\n",
              "    <tr>\n",
              "      <th>1</th>\n",
              "      <td>aback</td>\n",
              "      <td>0</td>\n",
              "      <td>0</td>\n",
              "      <td>0</td>\n",
              "      <td>0</td>\n",
              "      <td>0</td>\n",
              "      <td>0</td>\n",
              "      <td>0</td>\n",
              "      <td>0</td>\n",
              "      <td>0</td>\n",
              "      <td>0</td>\n",
              "    </tr>\n",
              "    <tr>\n",
              "      <th>2</th>\n",
              "      <td>abacus</td>\n",
              "      <td>0</td>\n",
              "      <td>0</td>\n",
              "      <td>0</td>\n",
              "      <td>0</td>\n",
              "      <td>0</td>\n",
              "      <td>0</td>\n",
              "      <td>0</td>\n",
              "      <td>0</td>\n",
              "      <td>0</td>\n",
              "      <td>1</td>\n",
              "    </tr>\n",
              "    <tr>\n",
              "      <th>3</th>\n",
              "      <td>abandon</td>\n",
              "      <td>0</td>\n",
              "      <td>0</td>\n",
              "      <td>0</td>\n",
              "      <td>1</td>\n",
              "      <td>0</td>\n",
              "      <td>1</td>\n",
              "      <td>0</td>\n",
              "      <td>1</td>\n",
              "      <td>0</td>\n",
              "      <td>0</td>\n",
              "    </tr>\n",
              "    <tr>\n",
              "      <th>4</th>\n",
              "      <td>abandoned</td>\n",
              "      <td>1</td>\n",
              "      <td>0</td>\n",
              "      <td>0</td>\n",
              "      <td>1</td>\n",
              "      <td>0</td>\n",
              "      <td>1</td>\n",
              "      <td>0</td>\n",
              "      <td>1</td>\n",
              "      <td>0</td>\n",
              "      <td>0</td>\n",
              "    </tr>\n",
              "  </tbody>\n",
              "</table>\n",
              "</div>"
            ],
            "text/plain": [
              "emotion       word  anger  anticipation  ...  sadness  surprise  trust\n",
              "0              NaN      0             0  ...        0         0      0\n",
              "1            aback      0             0  ...        0         0      0\n",
              "2           abacus      0             0  ...        0         0      1\n",
              "3          abandon      0             0  ...        1         0      0\n",
              "4        abandoned      1             0  ...        1         0      0\n",
              "\n",
              "[5 rows x 11 columns]"
            ]
          },
          "metadata": {
            "tags": []
          },
          "execution_count": 8
        }
      ]
    },
    {
      "cell_type": "code",
      "metadata": {
        "id": "S96FfjPbS10Y",
        "colab_type": "code",
        "colab": {}
      },
      "source": [
        "# list of fear words\n",
        "fear_words = emolex_df[emolex_df.fear == 1]['word']\n",
        "\n",
        "from sklearn.feature_extraction.text import TfidfVectorizer\n",
        "# tuning the vectorizer parameters\n",
        "vectorizer = TfidfVectorizer(vocabulary=fear_words,use_idf=False)"
      ],
      "execution_count": 0,
      "outputs": []
    },
    {
      "cell_type": "code",
      "metadata": {
        "id": "JTxrYJdmS10f",
        "colab_type": "code",
        "colab": {}
      },
      "source": [
        "def get_fear(sent):\n",
        "    vectorizer = TfidfVectorizer(vocabulary=fear_words,use_idf=False)\n",
        "    i= vectorizer.fit_transform(sent)\n",
        "    x= i.toarray()\n",
        "    return(x.sum(axis=1))"
      ],
      "execution_count": 0,
      "outputs": []
    },
    {
      "cell_type": "code",
      "metadata": {
        "id": "2W6IcYvvS10m",
        "colab_type": "code",
        "colab": {}
      },
      "source": [
        "cnn_arg['fear'] = cnn_arg.argum.apply(get_fear)\n",
        "cnn_conc['fear'] = cnn_conc.conclusion.apply(get_fear)"
      ],
      "execution_count": 0,
      "outputs": []
    },
    {
      "cell_type": "code",
      "metadata": {
        "id": "SOWS524fS10u",
        "colab_type": "code",
        "colab": {}
      },
      "source": [
        "def get_total_fear(x):\n",
        "    for i in x:\n",
        "        i.sum()"
      ],
      "execution_count": 0,
      "outputs": []
    },
    {
      "cell_type": "code",
      "metadata": {
        "id": "vVO3yk26S102",
        "colab_type": "code",
        "colab": {}
      },
      "source": [
        "cnn_arg['total_fear'] = cnn_arg.fear.apply(sum)\n",
        "cnn_conc['total_fear'] = cnn_conc.fear.apply(sum)"
      ],
      "execution_count": 0,
      "outputs": []
    },
    {
      "cell_type": "code",
      "metadata": {
        "id": "yxu_YQGXS10_",
        "colab_type": "code",
        "colab": {}
      },
      "source": [
        "fearless= pd.DataFrame()\n",
        "\n",
        "fearless[['appeal_to_fear','fear_indicator','text_id']] = cnn_arg[['argum','total_fear','text_id']]\n",
        "\n",
        "cnn_arg.drop(columns=['fear','total_fear'],inplace=True)\n",
        "\n",
        "# creating a limit / statistical approach\n",
        "differ = (fearless.fear_indicator.mean() + (fearless.fear_indicator.std()))*2\n",
        "\n",
        "fear_index = fearless[fearless['fear_indicator'].apply(lambda x: x < differ)].index\n",
        "\n",
        "fear_fallacy= fearless.drop(fear_index)"
      ],
      "execution_count": 0,
      "outputs": []
    },
    {
      "cell_type": "code",
      "metadata": {
        "id": "27THuMJSS11G",
        "colab_type": "code",
        "outputId": "8f122415-00cc-4c62-8be5-9d477b3b577b",
        "colab": {
          "base_uri": "https://localhost:8080/",
          "height": 426
        }
      },
      "source": [
        "# check what we got\n",
        "fear_fallacy"
      ],
      "execution_count": 0,
      "outputs": [
        {
          "output_type": "execute_result",
          "data": {
            "text/html": [
              "<div>\n",
              "<style scoped>\n",
              "    .dataframe tbody tr th:only-of-type {\n",
              "        vertical-align: middle;\n",
              "    }\n",
              "\n",
              "    .dataframe tbody tr th {\n",
              "        vertical-align: top;\n",
              "    }\n",
              "\n",
              "    .dataframe thead th {\n",
              "        text-align: right;\n",
              "    }\n",
              "</style>\n",
              "<table border=\"1\" class=\"dataframe\">\n",
              "  <thead>\n",
              "    <tr style=\"text-align: right;\">\n",
              "      <th></th>\n",
              "      <th>appeal_to_fear</th>\n",
              "      <th>fear_indicator</th>\n",
              "      <th>text_id</th>\n",
              "    </tr>\n",
              "  </thead>\n",
              "  <tbody>\n",
              "    <tr>\n",
              "      <th>23</th>\n",
              "      <td>[those five demands are: withdraw the extradit...</td>\n",
              "      <td>10.934636</td>\n",
              "      <td>37</td>\n",
              "    </tr>\n",
              "    <tr>\n",
              "      <th>25</th>\n",
              "      <td>[the officer fired the gun because he believed...</td>\n",
              "      <td>12.715799</td>\n",
              "      <td>41</td>\n",
              "    </tr>\n",
              "    <tr>\n",
              "      <th>26</th>\n",
              "      <td>[but scientists have since found dna evidence ...</td>\n",
              "      <td>8.511308</td>\n",
              "      <td>42</td>\n",
              "    </tr>\n",
              "    <tr>\n",
              "      <th>52</th>\n",
              "      <td>[their aim is to make visible the victims of \"...</td>\n",
              "      <td>9.974691</td>\n",
              "      <td>85</td>\n",
              "    </tr>\n",
              "    <tr>\n",
              "      <th>82</th>\n",
              "      <td>[they give them a bag of food and people sell ...</td>\n",
              "      <td>9.009968</td>\n",
              "      <td>125</td>\n",
              "    </tr>\n",
              "    <tr>\n",
              "      <th>83</th>\n",
              "      <td>[when cnn approached a number of reputable aid...</td>\n",
              "      <td>9.285472</td>\n",
              "      <td>126</td>\n",
              "    </tr>\n",
              "    <tr>\n",
              "      <th>123</th>\n",
              "      <td>[here's why it's legal  birth of a cult brand ...</td>\n",
              "      <td>8.242641</td>\n",
              "      <td>183</td>\n",
              "    </tr>\n",
              "    <tr>\n",
              "      <th>124</th>\n",
              "      <td>[cartoonists, get arrested, put in jail everyw...</td>\n",
              "      <td>10.242641</td>\n",
              "      <td>184</td>\n",
              "    </tr>\n",
              "    <tr>\n",
              "      <th>153</th>\n",
              "      <td>[below the photo is written: \"because one holo...</td>\n",
              "      <td>12.242641</td>\n",
              "      <td>229</td>\n",
              "    </tr>\n",
              "    <tr>\n",
              "      <th>154</th>\n",
              "      <td>[over the years, some who had these surgeries ...</td>\n",
              "      <td>9.828427</td>\n",
              "      <td>230</td>\n",
              "    </tr>\n",
              "    <tr>\n",
              "      <th>199</th>\n",
              "      <td>[\"because all it took me was basically someone...</td>\n",
              "      <td>9.560478</td>\n",
              "      <td>295</td>\n",
              "    </tr>\n",
              "    <tr>\n",
              "      <th>302</th>\n",
              "      <td>['...now, we're winning cases, because they re...</td>\n",
              "      <td>18.242641</td>\n",
              "      <td>443</td>\n",
              "    </tr>\n",
              "  </tbody>\n",
              "</table>\n",
              "</div>"
            ],
            "text/plain": [
              "                                        appeal_to_fear  fear_indicator  text_id\n",
              "23   [those five demands are: withdraw the extradit...       10.934636       37\n",
              "25   [the officer fired the gun because he believed...       12.715799       41\n",
              "26   [but scientists have since found dna evidence ...        8.511308       42\n",
              "52   [their aim is to make visible the victims of \"...        9.974691       85\n",
              "82   [they give them a bag of food and people sell ...        9.009968      125\n",
              "83   [when cnn approached a number of reputable aid...        9.285472      126\n",
              "123  [here's why it's legal  birth of a cult brand ...        8.242641      183\n",
              "124  [cartoonists, get arrested, put in jail everyw...       10.242641      184\n",
              "153  [below the photo is written: \"because one holo...       12.242641      229\n",
              "154  [over the years, some who had these surgeries ...        9.828427      230\n",
              "199  [\"because all it took me was basically someone...        9.560478      295\n",
              "302  ['...now, we're winning cases, because they re...       18.242641      443"
            ]
          },
          "metadata": {
            "tags": []
          },
          "execution_count": 15
        }
      ]
    },
    {
      "cell_type": "code",
      "metadata": {
        "id": "fYLGsAZhS11Q",
        "colab_type": "code",
        "outputId": "7ac1f52c-5863-4dbb-92eb-0872cc3f89a4",
        "colab": {
          "base_uri": "https://localhost:8080/",
          "height": 166
        }
      },
      "source": [
        "# qualititive inspection\n",
        "fear_fallacy['appeal_to_fear'].iloc[2]"
      ],
      "execution_count": 0,
      "outputs": [
        {
          "output_type": "execute_result",
          "data": {
            "text/plain": [
              "[\"but scientists have since found dna evidence that the plague could have existed much further back than previously thought -- there's evidence it existed in europe some 5,000 years ago  and the idea that the second pandemic, the black death, could have started in china is unlikely, black said.\",\n",
              " \"so mao put in place a number of measures to control the country's rampant disease.\",\n",
              " \"but that only led to another question: if the disease wasn't genetically different, then why was the second pandemic so deadly?\",\n",
              " '\"it\\'s so central to western identity,\" he said.',\n",
              " \"yunnan was hit by another breakout between 1986 and 2005 , and another case was diagnosed in yunnan in 2016.  why we're so fascinated by the plague  centuries on from the black death, people around the world continue to be transfixed by the plague in a way they're not by other diseases.\",\n",
              " 'chinese cultural revolution poster about the so-called four pests: mosquitoes, rats, flies and sparrows.',\n",
              " '\"it\\'s part of our past, where something like malaria, which is so much more devastating in the last century, it doesn\\'t interest us.\"']"
            ]
          },
          "metadata": {
            "tags": []
          },
          "execution_count": 16
        }
      ]
    },
    {
      "cell_type": "code",
      "metadata": {
        "id": "8hATRS3TS11X",
        "colab_type": "code",
        "colab": {}
      },
      "source": [
        "# # saving the output\n",
        "# fear_fallacy.to_excel('fear/appeal_to_fear_fallacy.xlsx',index= False)"
      ],
      "execution_count": 0,
      "outputs": []
    },
    {
      "cell_type": "code",
      "metadata": {
        "id": "YOBDYrZjUN77",
        "colab_type": "code",
        "colab": {}
      },
      "source": [
        ""
      ],
      "execution_count": 0,
      "outputs": []
    }
  ]
}